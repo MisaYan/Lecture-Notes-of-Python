{
 "cells": [
  {
   "cell_type": "markdown",
   "metadata": {},
   "source": [
    "# python语言与计算机科学引论\n",
    "***\n",
    "2017/10/28 第三次课"
   ]
  },
  {
   "cell_type": "markdown",
   "metadata": {},
   "source": [
    "### 条件判断\n",
    "\n",
    "计算机之所以能做很多自动化的任务，因为它可以自己做条件判断。\n",
    "\n",
    "比如，输入用户年龄，根据年龄打印不同的内容，在Python程序中，用**```if```语句**实现："
   ]
  },
  {
   "cell_type": "code",
   "execution_count": 8,
   "metadata": {
    "collapsed": true
   },
   "outputs": [],
   "source": [
    "age = 17\n",
    "if age >= 18:\n",
    "    print('your age is', age)\n",
    "    print('adult')"
   ]
  },
  {
   "cell_type": "markdown",
   "metadata": {},
   "source": [
    "根据Python的缩进规则，如果```if```语句判断是```True```，就把缩进的两行```print```语句执行了，否则，什么也不做。\n",
    "\n",
    "也可以给```if```添加一个**```else```语句**，意思是，如果```if```判断是```False```，不要执行```if```的内容，去把```else```执行了："
   ]
  },
  {
   "cell_type": "code",
   "execution_count": 5,
   "metadata": {},
   "outputs": [
    {
     "name": "stdout",
     "output_type": "stream",
     "text": [
      "your age is 3\n",
      "teenager\n"
     ]
    }
   ],
   "source": [
    "age = 3\n",
    "if age >= 18:\n",
    "    print('your age is', age)\n",
    "    print('adult')\n",
    "else:\n",
    "    print('your age is', age)\n",
    "    print('teenager')"
   ]
  },
  {
   "cell_type": "markdown",
   "metadata": {},
   "source": [
    "当然上面的判断是很粗略的，完全可以用```elif```做更细致的判断："
   ]
  },
  {
   "cell_type": "code",
   "execution_count": 6,
   "metadata": {},
   "outputs": [
    {
     "name": "stdout",
     "output_type": "stream",
     "text": [
      "kid\n"
     ]
    }
   ],
   "source": [
    "age = 3\n",
    "if age >= 18:\n",
    "    print('adult')\n",
    "elif age >= 6:\n",
    "    print('teenager')\n",
    "else:\n",
    "    print('kid')"
   ]
  },
  {
   "cell_type": "markdown",
   "metadata": {},
   "source": [
    "```elif```是```else if```的缩写，完全可以有多个```elif```，所以```if```语句的完整形式就是：\n",
    "``` python\n",
    "if <条件判断1>:\n",
    "    <执行1>\n",
    "elif <条件判断2>:\n",
    "    <执行2>\n",
    "elif <条件判断3>:\n",
    "    <执行3>\n",
    "else:\n",
    "    <执行4>\n",
    "```"
   ]
  },
  {
   "cell_type": "markdown",
   "metadata": {},
   "source": [
    "```if```语句执行有个特点，它是**从上往下判断**，如果在某个判断上是```True```，把该判断对应的语句执行后，就忽略掉剩下的```elif```和```else```，所以，请测试并解释为什么下面的程序打印的是```teenager```："
   ]
  },
  {
   "cell_type": "code",
   "execution_count": 7,
   "metadata": {
    "scrolled": true
   },
   "outputs": [
    {
     "name": "stdout",
     "output_type": "stream",
     "text": [
      "teenager\n"
     ]
    }
   ],
   "source": [
    "age = 20\n",
    "if age >= 6:\n",
    "    print('teenager')\n",
    "elif age >= 18:\n",
    "    print('adult')\n",
    "else:\n",
    "    print('kid')"
   ]
  },
  {
   "cell_type": "markdown",
   "metadata": {},
   "source": [
    "#### \\* Make Your Code Pythonic - 1\n",
    "作为python程序员，我们要学习使用python的各类feature（语法糖），来增加我们代码的可读性与开发/运行效率。换句话说，就是让我们的代码更加**pythonic**。\n",
    "\n",
    "这一次介绍的是**```if```的语法糖**。```if <condition>:```中的```<condition>```事实上**不只可以接受返回布尔型的表达式**。例如：\n",
    "* 涉及零值的判断\n",
    "```python\n",
    "if x: 等价于 if x!= 0:\n",
    "```\n",
    "* 涉及空列表的判断\n",
    "```python\n",
    "if xlist: 等价于 if xlist != []: 或 if len(xlist) != 0:\n",
    "```\n",
    "* 涉及空字符串的判断\n",
    "```python\n",
    "if s: 等价于 if s != ''\n",
    "```\n",
    "* 涉及None的判断\n",
    "```python\n",
    "if n: 等价于 if n!= None:\n",
    "```\n",
    "\n",
    "有时，我们会遇到一些简单的判断，逻辑大概如下：\n",
    "```python\n",
    "if condition:\n",
    "    x = value1\n",
    "else:\n",
    "    x = value2\n",
    "```\n",
    "在C++中有**三目运算符```?```**专门来完成这件事：\n",
    "```cpp\n",
    "type x;\n",
    "x = condition? value1: value2;\n",
    "```\n",
    "python中可以用**```value1 if confition else value2```**来达到同样的效果：\n",
    "```python\n",
    "x = value1 if condition else value2\n",
    "```"
   ]
  },
  {
   "cell_type": "code",
   "execution_count": 15,
   "metadata": {
    "scrolled": true
   },
   "outputs": [
    {
     "data": {
      "text/plain": [
       "'aye'"
      ]
     },
     "execution_count": 15,
     "metadata": {},
     "output_type": "execute_result"
    }
   ],
   "source": [
    "'aye' if True else 'nay'"
   ]
  },
  {
   "cell_type": "code",
   "execution_count": 16,
   "metadata": {
    "scrolled": false
   },
   "outputs": [
    {
     "data": {
      "text/plain": [
       "'nay'"
      ]
     },
     "execution_count": 16,
     "metadata": {},
     "output_type": "execute_result"
    }
   ],
   "source": [
    "'aye' if False else 'nay'"
   ]
  },
  {
   "cell_type": "markdown",
   "metadata": {},
   "source": [
    "### 循环\n",
    "要计算1+2+3，我们可以直接写表达式："
   ]
  },
  {
   "cell_type": "code",
   "execution_count": 19,
   "metadata": {
    "scrolled": true
   },
   "outputs": [
    {
     "data": {
      "text/plain": [
       "6"
      ]
     },
     "execution_count": 19,
     "metadata": {},
     "output_type": "execute_result"
    }
   ],
   "source": [
    "1+2+3"
   ]
  },
  {
   "cell_type": "markdown",
   "metadata": {},
   "source": [
    "要计算1+2+3+...+100，勉强也能写出来。\n",
    "\n",
    "但是，要计算1+2+3+...+10000，直接写表达式就不可能了。\n",
    "\n",
    "为了让计算机能计算成千上万次的重复运算，我们就需要**循环语句**。\n",
    "\n",
    "Python的循环有两种，一种是**for...in循环**，依次把list或tuple中的每个元素迭代出来，看例子："
   ]
  },
  {
   "cell_type": "code",
   "execution_count": 20,
   "metadata": {
    "scrolled": true
   },
   "outputs": [
    {
     "name": "stdout",
     "output_type": "stream",
     "text": [
      "LZU\n",
      "THU\n",
      "USTC\n"
     ]
    }
   ],
   "source": [
    "unis = ['LZU', 'THU', 'USTC']\n",
    "for uni in unis:\n",
    "    print(uni)"
   ]
  },
  {
   "cell_type": "markdown",
   "metadata": {},
   "source": [
    "所以```for x in ...```循环就是把```...```每个元素代入变量```x```，然后执行缩进块的语句。\n",
    "\n",
    "再比如我们想计算1-10的整数之和，可以用一个```sum```变量做累加："
   ]
  },
  {
   "cell_type": "code",
   "execution_count": 21,
   "metadata": {},
   "outputs": [
    {
     "name": "stdout",
     "output_type": "stream",
     "text": [
      "55\n"
     ]
    }
   ],
   "source": [
    "sum = 0\n",
    "for x in [1, 2, 3, 4, 5, 6, 7, 8, 9, 10]:\n",
    "    sum = sum + x\n",
    "print(sum)"
   ]
  },
  {
   "cell_type": "markdown",
   "metadata": {},
   "source": [
    "如果要计算1-100的整数之和，从1写到100有点困难，幸好Python提供一个```range()```函数，可以生成一个**整数序列**，再通过```list()```函数可以转换为```list```。比如```range(5)```生成的序列是从0开始小于5的整数："
   ]
  },
  {
   "cell_type": "code",
   "execution_count": 22,
   "metadata": {},
   "outputs": [
    {
     "data": {
      "text/plain": [
       "range"
      ]
     },
     "execution_count": 22,
     "metadata": {},
     "output_type": "execute_result"
    }
   ],
   "source": [
    "type(range(5))"
   ]
  },
  {
   "cell_type": "code",
   "execution_count": 23,
   "metadata": {
    "scrolled": true
   },
   "outputs": [
    {
     "data": {
      "text/plain": [
       "[0, 1, 2, 3, 4]"
      ]
     },
     "execution_count": 23,
     "metadata": {},
     "output_type": "execute_result"
    }
   ],
   "source": [
    "list(range(5))"
   ]
  },
  {
   "cell_type": "markdown",
   "metadata": {},
   "source": [
    "range(101)就可以生成0-100的整数序列，求和计算如下："
   ]
  },
  {
   "cell_type": "code",
   "execution_count": 24,
   "metadata": {},
   "outputs": [
    {
     "name": "stdout",
     "output_type": "stream",
     "text": [
      "5050\n"
     ]
    }
   ],
   "source": [
    "sum = 0\n",
    "for x in range(101):\n",
    "    sum = sum + x\n",
    "print(sum)"
   ]
  },
  {
   "cell_type": "markdown",
   "metadata": {},
   "source": [
    "第二种循环是**while循环**，只要条件满足，就不断循环，条件不满足时退出循环。比如我们要计算100以内所有奇数之和，可以用while循环实现："
   ]
  },
  {
   "cell_type": "code",
   "execution_count": 25,
   "metadata": {},
   "outputs": [
    {
     "name": "stdout",
     "output_type": "stream",
     "text": [
      "2500\n"
     ]
    }
   ],
   "source": [
    "sum = 0\n",
    "x = 1\n",
    "while x < 101:\n",
    "    sum += x\n",
    "    x += 2\n",
    "print(sum)"
   ]
  },
  {
   "cell_type": "markdown",
   "metadata": {},
   "source": [
    "再来说说两个用于**跳出循环**的控制语句```break```和```continue```，```break```用来跳出**整个循环**，而```continue```用来跳出**本次循环**。\n",
    "\n",
    "这样说可能会让大家很迷惑，让我们看一个例子："
   ]
  },
  {
   "cell_type": "code",
   "execution_count": 31,
   "metadata": {
    "scrolled": true
   },
   "outputs": [
    {
     "name": "stdout",
     "output_type": "stream",
     "text": [
      "0\n",
      "1\n",
      "2\n",
      "3\n",
      "4\n",
      "5\n",
      "6\n",
      "7\n",
      "8\n",
      "9\n"
     ]
    }
   ],
   "source": [
    "for i in range(20):\n",
    "    if i == 10:\n",
    "        break\n",
    "    print(i)"
   ]
  },
  {
   "cell_type": "code",
   "execution_count": 33,
   "metadata": {
    "scrolled": false
   },
   "outputs": [
    {
     "name": "stdout",
     "output_type": "stream",
     "text": [
      "0\n",
      "1\n",
      "2\n",
      "3\n",
      "4\n",
      "5\n",
      "6\n",
      "7\n",
      "8\n",
      "9\n",
      "11\n",
      "12\n",
      "13\n",
      "14\n",
      "15\n",
      "16\n",
      "17\n",
      "18\n",
      "19\n"
     ]
    }
   ],
   "source": [
    "for i in range(20):\n",
    "    if i == 10:\n",
    "        continue\n",
    "    print(i)"
   ]
  },
  {
   "cell_type": "markdown",
   "metadata": {},
   "source": [
    "所以```while```语句有等价的写法：\n",
    "```python\n",
    "while <条件>:\n",
    "    <执行语句>\n",
    "\n",
    "等价于：\n",
    "\n",
    "while True:\n",
    "    if <条件>:\n",
    "        <执行语句>\n",
    "    else:\n",
    "        break\n",
    "```"
   ]
  },
  {
   "cell_type": "markdown",
   "metadata": {},
   "source": [
    "### 集合（set）\n",
    "```set```和```dict```类似，也是一组key的集合，但不存储value。由于key不能重复，所以，在```set```中，没有重复的```key```。\n",
    "\n",
    "要创建一个```set```，需要提供一个```list```作为输入集合："
   ]
  },
  {
   "cell_type": "code",
   "execution_count": 35,
   "metadata": {
    "scrolled": true
   },
   "outputs": [
    {
     "name": "stdout",
     "output_type": "stream",
     "text": [
      "{1, 2, 3}\n"
     ]
    },
    {
     "data": {
      "text/plain": [
       "set"
      ]
     },
     "execution_count": 35,
     "metadata": {},
     "output_type": "execute_result"
    }
   ],
   "source": [
    "s = set([1, 2, 3])\n",
    "print(s)\n",
    "type(s)"
   ]
  },
  {
   "cell_type": "markdown",
   "metadata": {},
   "source": [
    "注意，传入的参数[1, 2, 3]是一个list，而显示的{1, 2, 3}只是告诉你这个set内部有1，2，3这3个元素，**显示的顺序也不表示set是有序的!**\n",
    "\n",
    "重复元素在set中自动被过滤："
   ]
  },
  {
   "cell_type": "code",
   "execution_count": 36,
   "metadata": {
    "scrolled": true
   },
   "outputs": [
    {
     "data": {
      "text/plain": [
       "{1, 2, 3}"
      ]
     },
     "execution_count": 36,
     "metadata": {},
     "output_type": "execute_result"
    }
   ],
   "source": [
    "s = set([1, 1, 2, 2, 3, 3])\n",
    "s"
   ]
  },
  {
   "cell_type": "markdown",
   "metadata": {},
   "source": [
    "通过```add(key)```方法可以添加元素到```set```中，可以重复添加，但不会有效果："
   ]
  },
  {
   "cell_type": "code",
   "execution_count": 37,
   "metadata": {},
   "outputs": [
    {
     "data": {
      "text/plain": [
       "{1, 2, 3, 4}"
      ]
     },
     "execution_count": 37,
     "metadata": {},
     "output_type": "execute_result"
    }
   ],
   "source": [
    "s.add(4)\n",
    "s"
   ]
  },
  {
   "cell_type": "markdown",
   "metadata": {},
   "source": [
    "通过```remove(key)```方法可以删除元素："
   ]
  },
  {
   "cell_type": "code",
   "execution_count": 41,
   "metadata": {},
   "outputs": [
    {
     "data": {
      "text/plain": [
       "{1, 2, 3}"
      ]
     },
     "execution_count": 41,
     "metadata": {},
     "output_type": "execute_result"
    }
   ],
   "source": [
    "s.remove(4)\n",
    "s"
   ]
  },
  {
   "cell_type": "markdown",
   "metadata": {},
   "source": [
    "set可以看成数学意义上的无序和无重复元素的集合，set类型的操作与数学符号对照表如下：\n",
    "\n",
    "|   数学符号   | python符号 |  含义  |\n",
    "| :------: | :------: | :--: |\n",
    "|   $-$    |    -     |  差集  |\n",
    "|  $\\cap$  |    &     |  交集  |\n",
    "|  $\\cup$  |  丨|  并集  |\n",
    "|   $=$    |    !=    |  等于  |\n",
    "|  $\\neq$  |    ==    | 不等于  |\n",
    "|  $\\in$   |    in    |  属于  |\n",
    "| $\\notin$ |  not in  | 不属于  |\n",
    "\n",
    "set和dict的唯一区别仅在于没有存储对应的value，但是，set的原理和dict一样，所以，同样**不可以放入可变对象**，因为无法判断两个可变对象是否相等，也就无法保证set内部“不会有重复元素”。试试把list放入set，看看是否会报错。"
   ]
  },
  {
   "cell_type": "markdown",
   "metadata": {},
   "source": [
    "## 函数\n",
    "我们知道圆的面积计算公式为：\n",
    "\n",
    "$$S = \\pi r^2$$\n",
    "\n",
    "当我们知道半径r的值时，就可以根据公式计算出面积。假设我们需要计算3个不同大小的圆的面积：\n",
    "```python\n",
    "r1 = 12.34\n",
    "r2 = 9.08\n",
    "r3 = 73.1\n",
    "s1 = 3.14 * r1 * r1\n",
    "s2 = 3.14 * r2 * r2\n",
    "s3 = 3.14 * r3 * r3\n",
    "```\n",
    "当代码出现有规律的重复的时候，你就需要当心了，每次写```3.14 * x * x```不仅很麻烦，而且，如果要把```3.14```改成```3.14159265359```的时候，得全部替换。\n",
    "\n",
    "有了函数，我们就不再每次写```s = 3.14 * x * x```，而是写成更有意义的函数调用```s = area_of_circle(x)```，而函数```area_of_circle```本身只需要写一次，就可以多次调用。\n",
    "\n",
    "基本上所有的高级语言都支持函数，Python也不例外。Python不但能非常灵活地定义函数，而且本身内置了很多有用的函数，可以直接调用。\n",
    "\n",
    "C/C++中的函数：\n",
    "```cpp\n",
    "Func_type Func(type_1 x_1, type_2 x_2, ...)\n",
    "{\n",
    "    <执行语句>\n",
    "    return <返回值>\n",
    "}\n",
    "```\n",
    "\n",
    "### 抽象\n",
    "抽象是数学中非常常见的概念。举个例子：\n",
    "\n",
    "计算数列的和，比如：```1 + 2 + 3 + ... + 100```，写起来十分不方便，于是数学家发明了求和符号$\\sum$，可以把```1 + 2 + 3 + ... + 100```记作：\n",
    "\n",
    "$$\\sum\\limits^{100}_{n=1}{n}$$\n",
    "\n",
    "这种抽象记法非常强大，因为我们看到$\\sum$ 就可以理解成求和，而不是还原成低级的加法运算。\n",
    "而且，这种抽象记法是**可扩展的**，比如：\n",
    "\n",
    "$$\\sum\\limits^{100}_{n=1}{n^2+1}$$\n",
    "\n",
    "还原成加法运算就变成了：\n",
    "\n",
    "$$(1 \\times 1 + 1) + (2 \\times 2 + 1) + (3 \\times 3 + 1) + \\dots + (100 \\times 100 + 1)$$\n",
    "\n",
    "可见，借助抽象，我们才能不关心底层的具体计算过程，而直接在更高的层次上思考问题。\n",
    "\n",
    "写计算机程序也是一样，**函数就是最基本的一种代码抽象的方式**。\n",
    "\n",
    "### 调用函数\n",
    "Python内置了很多有用的函数，我们可以直接调用。\n",
    "\n",
    "要调用一个函数，需要知道函数的**名称**和**参数**，比如求绝对值的函数```abs```，只有一个参数。可以直接从Python的官方网站查看文档：\n",
    "[$abs(x)$](http://docs.python.org/3/library/functions.html#abs)\n",
    "\n",
    "也可以在交互式命令行通过```help(abs)```查看```abs```函数的帮助信息:\n"
   ]
  },
  {
   "cell_type": "code",
   "execution_count": 8,
   "metadata": {
    "scrolled": true
   },
   "outputs": [
    {
     "name": "stdout",
     "output_type": "stream",
     "text": [
      "Help on built-in function abs in module builtins:\n",
      "\n",
      "abs(x, /)\n",
      "    Return the absolute value of the argument.\n",
      "\n"
     ]
    }
   ],
   "source": [
    "help(abs)"
   ]
  },
  {
   "cell_type": "markdown",
   "metadata": {},
   "source": [
    "调用```abs```函数："
   ]
  },
  {
   "cell_type": "code",
   "execution_count": 9,
   "metadata": {},
   "outputs": [
    {
     "data": {
      "text/plain": [
       "100"
      ]
     },
     "execution_count": 9,
     "metadata": {},
     "output_type": "execute_result"
    }
   ],
   "source": [
    "abs(100)"
   ]
  },
  {
   "cell_type": "code",
   "execution_count": 12,
   "metadata": {},
   "outputs": [
    {
     "data": {
      "text/plain": [
       "10"
      ]
     },
     "execution_count": 12,
     "metadata": {},
     "output_type": "execute_result"
    }
   ],
   "source": [
    "abs(-10)"
   ]
  },
  {
   "cell_type": "code",
   "execution_count": 13,
   "metadata": {
    "scrolled": true
   },
   "outputs": [
    {
     "data": {
      "text/plain": [
       "3.14"
      ]
     },
     "execution_count": 13,
     "metadata": {},
     "output_type": "execute_result"
    }
   ],
   "source": [
    "abs(-3.14)"
   ]
  },
  {
   "cell_type": "markdown",
   "metadata": {},
   "source": [
    "调用函数的时候，如果传入的参数数量不对，解释器会抛出```TypeError```的错误，并且Python会明确地告诉你：```abs()```有且仅有1个参数，但给出了两个："
   ]
  },
  {
   "cell_type": "code",
   "execution_count": 14,
   "metadata": {
    "scrolled": true
   },
   "outputs": [
    {
     "ename": "TypeError",
     "evalue": "abs() takes exactly one argument (2 given)",
     "output_type": "error",
     "traceback": [
      "\u001b[0;31m---------------------------------------------------------------------------\u001b[0m",
      "\u001b[0;31mTypeError\u001b[0m                                 Traceback (most recent call last)",
      "\u001b[0;32m<ipython-input-14-05b55862d84c>\u001b[0m in \u001b[0;36m<module>\u001b[0;34m()\u001b[0m\n\u001b[0;32m----> 1\u001b[0;31m \u001b[0mabs\u001b[0m\u001b[0;34m(\u001b[0m\u001b[0;36m1\u001b[0m\u001b[0;34m,\u001b[0m \u001b[0;36m2\u001b[0m\u001b[0;34m)\u001b[0m\u001b[0;34m\u001b[0m\u001b[0m\n\u001b[0m",
      "\u001b[0;31mTypeError\u001b[0m: abs() takes exactly one argument (2 given)"
     ]
    }
   ],
   "source": [
    "abs(1, 2)"
   ]
  },
  {
   "cell_type": "markdown",
   "metadata": {},
   "source": [
    "如果传入的参数数量是对的，但参数类型不能被函数所接受，也会报```TypeError```的错误，并且给出错误信息：```str```是错误的参数类型："
   ]
  },
  {
   "cell_type": "code",
   "execution_count": 15,
   "metadata": {
    "scrolled": true
   },
   "outputs": [
    {
     "ename": "TypeError",
     "evalue": "bad operand type for abs(): 'str'",
     "output_type": "error",
     "traceback": [
      "\u001b[0;31m---------------------------------------------------------------------------\u001b[0m",
      "\u001b[0;31mTypeError\u001b[0m                                 Traceback (most recent call last)",
      "\u001b[0;32m<ipython-input-15-3b9a69fe3abb>\u001b[0m in \u001b[0;36m<module>\u001b[0;34m()\u001b[0m\n\u001b[0;32m----> 1\u001b[0;31m \u001b[0mabs\u001b[0m\u001b[0;34m(\u001b[0m\u001b[0;34m'a'\u001b[0m\u001b[0;34m)\u001b[0m\u001b[0;34m\u001b[0m\u001b[0m\n\u001b[0m",
      "\u001b[0;31mTypeError\u001b[0m: bad operand type for abs(): 'str'"
     ]
    }
   ],
   "source": [
    "abs('a')"
   ]
  },
  {
   "cell_type": "markdown",
   "metadata": {},
   "source": [
    "```max```函数```max()```可以接收任意多个参数，并返回最大的那个："
   ]
  },
  {
   "cell_type": "code",
   "execution_count": 16,
   "metadata": {},
   "outputs": [
    {
     "data": {
      "text/plain": [
       "3"
      ]
     },
     "execution_count": 16,
     "metadata": {},
     "output_type": "execute_result"
    }
   ],
   "source": [
    "max(2, 3, 1, -5)"
   ]
  },
  {
   "cell_type": "markdown",
   "metadata": {},
   "source": [
    "函数名其实就是**指向一个函数对象的引用**，完全可以把函数名赋给一个变量，相当于给这个函数起了一个“别名”："
   ]
  },
  {
   "cell_type": "code",
   "execution_count": 17,
   "metadata": {
    "scrolled": true
   },
   "outputs": [
    {
     "data": {
      "text/plain": [
       "1"
      ]
     },
     "execution_count": 17,
     "metadata": {},
     "output_type": "execute_result"
    }
   ],
   "source": [
    "func = abs\n",
    "func(-1)"
   ]
  },
  {
   "cell_type": "markdown",
   "metadata": {},
   "source": [
    "### 定义函数\n",
    "在Python中，定义一个函数要使用```def```语句，依次写出函数名、括号、括号中的参数和冒号 ```:```，然后，在缩进块中编写函数体，函数的**返回值用return语句返回**。\n",
    "\n",
    "我们以自定义一个求绝对值的```my_abs```函数为例："
   ]
  },
  {
   "cell_type": "code",
   "execution_count": 18,
   "metadata": {
    "collapsed": true
   },
   "outputs": [],
   "source": [
    "def my_abs(x):\n",
    "    if x >= 0:\n",
    "        return x\n",
    "    else:\n",
    "        return -x"
   ]
  },
  {
   "cell_type": "markdown",
   "metadata": {},
   "source": [
    "请注意，**函数体内部的语句在执行时，一旦执行到```return```时，函数就执行完毕，并将结果返回**。因此，函数内部通过条件判断和循环可以实现非常复杂的逻辑。\n",
    "\n",
    "如果没有```return```语句，函数执行完毕后也会返回结果，只是**结果为```None```**。\n",
    "\n",
    "```return None```可以简写为```return```。\n",
    "\n",
    "在Python交互环境中定义函数时，注意Python会出现```...```的提示。函数定义结束后需要按两次回车重新回到```>>>```提示符下：\n",
    "\n",
    "![](QQ截图20171027231734.jpg)"
   ]
  },
  {
   "cell_type": "markdown",
   "metadata": {},
   "source": [
    "### 空函数\n",
    "\n",
    "如果想定义一个什么事也不做的空函数，可以用```pass```语句："
   ]
  },
  {
   "cell_type": "code",
   "execution_count": 19,
   "metadata": {
    "collapsed": true
   },
   "outputs": [],
   "source": [
    "def nop():\n",
    "    pass"
   ]
  },
  {
   "cell_type": "markdown",
   "metadata": {},
   "source": [
    "```pass```语句什么都不做，那有什么用？实际上```pass```可以用来作为占位符，比如现在还没想好怎么写函数的代码，就可以先放一个```pass```，让代码能运行起来。\n",
    "\n",
    "```pass```还可以用在其他语句里，比如："
   ]
  },
  {
   "cell_type": "code",
   "execution_count": 21,
   "metadata": {
    "collapsed": true
   },
   "outputs": [],
   "source": [
    "age = 10\n",
    "if age >= 18:\n",
    "    pass"
   ]
  },
  {
   "cell_type": "markdown",
   "metadata": {},
   "source": [
    "缺少了```pass```，代码运行就会有语法错误。"
   ]
  },
  {
   "cell_type": "markdown",
   "metadata": {},
   "source": [
    "### 参数检查\n",
    "\n",
    "调用函数时，如果参数个数不对，Python解释器会自动检查出来，并抛出```TypeError```："
   ]
  },
  {
   "cell_type": "code",
   "execution_count": 22,
   "metadata": {
    "scrolled": true
   },
   "outputs": [
    {
     "ename": "TypeError",
     "evalue": "my_abs() takes 1 positional argument but 2 were given",
     "output_type": "error",
     "traceback": [
      "\u001b[0;31m---------------------------------------------------------------------------\u001b[0m",
      "\u001b[0;31mTypeError\u001b[0m                                 Traceback (most recent call last)",
      "\u001b[0;32m<ipython-input-22-7b1d9a5f5e7e>\u001b[0m in \u001b[0;36m<module>\u001b[0;34m()\u001b[0m\n\u001b[0;32m----> 1\u001b[0;31m \u001b[0mmy_abs\u001b[0m\u001b[0;34m(\u001b[0m\u001b[0;36m1\u001b[0m\u001b[0;34m,\u001b[0m \u001b[0;36m2\u001b[0m\u001b[0;34m)\u001b[0m\u001b[0;34m\u001b[0m\u001b[0m\n\u001b[0m",
      "\u001b[0;31mTypeError\u001b[0m: my_abs() takes 1 positional argument but 2 were given"
     ]
    }
   ],
   "source": [
    "my_abs(1, 2)"
   ]
  },
  {
   "cell_type": "markdown",
   "metadata": {},
   "source": [
    "但是如果参数类型不对，Python解释器就无法帮我们检查。试试```my_abs```和内置函数```abs```的差别："
   ]
  },
  {
   "cell_type": "code",
   "execution_count": 23,
   "metadata": {
    "scrolled": true
   },
   "outputs": [
    {
     "ename": "TypeError",
     "evalue": "'>=' not supported between instances of 'str' and 'int'",
     "output_type": "error",
     "traceback": [
      "\u001b[0;31m---------------------------------------------------------------------------\u001b[0m",
      "\u001b[0;31mTypeError\u001b[0m                                 Traceback (most recent call last)",
      "\u001b[0;32m<ipython-input-23-fe695080d9cd>\u001b[0m in \u001b[0;36m<module>\u001b[0;34m()\u001b[0m\n\u001b[0;32m----> 1\u001b[0;31m \u001b[0mmy_abs\u001b[0m\u001b[0;34m(\u001b[0m\u001b[0;34m'A'\u001b[0m\u001b[0;34m)\u001b[0m\u001b[0;34m\u001b[0m\u001b[0m\n\u001b[0m",
      "\u001b[0;32m<ipython-input-18-c43243c9bab9>\u001b[0m in \u001b[0;36mmy_abs\u001b[0;34m(x)\u001b[0m\n\u001b[1;32m      1\u001b[0m \u001b[0;32mdef\u001b[0m \u001b[0mmy_abs\u001b[0m\u001b[0;34m(\u001b[0m\u001b[0mx\u001b[0m\u001b[0;34m)\u001b[0m\u001b[0;34m:\u001b[0m\u001b[0;34m\u001b[0m\u001b[0m\n\u001b[0;32m----> 2\u001b[0;31m     \u001b[0;32mif\u001b[0m \u001b[0mx\u001b[0m \u001b[0;34m>=\u001b[0m \u001b[0;36m0\u001b[0m\u001b[0;34m:\u001b[0m\u001b[0;34m\u001b[0m\u001b[0m\n\u001b[0m\u001b[1;32m      3\u001b[0m         \u001b[0;32mreturn\u001b[0m \u001b[0mx\u001b[0m\u001b[0;34m\u001b[0m\u001b[0m\n\u001b[1;32m      4\u001b[0m     \u001b[0;32melse\u001b[0m\u001b[0;34m:\u001b[0m\u001b[0;34m\u001b[0m\u001b[0m\n\u001b[1;32m      5\u001b[0m         \u001b[0;32mreturn\u001b[0m \u001b[0;34m-\u001b[0m\u001b[0mx\u001b[0m\u001b[0;34m\u001b[0m\u001b[0m\n",
      "\u001b[0;31mTypeError\u001b[0m: '>=' not supported between instances of 'str' and 'int'"
     ]
    }
   ],
   "source": [
    " my_abs('A')"
   ]
  },
  {
   "cell_type": "code",
   "execution_count": 24,
   "metadata": {
    "scrolled": true
   },
   "outputs": [
    {
     "ename": "TypeError",
     "evalue": "bad operand type for abs(): 'str'",
     "output_type": "error",
     "traceback": [
      "\u001b[0;31m---------------------------------------------------------------------------\u001b[0m",
      "\u001b[0;31mTypeError\u001b[0m                                 Traceback (most recent call last)",
      "\u001b[0;32m<ipython-input-24-8669504e2fca>\u001b[0m in \u001b[0;36m<module>\u001b[0;34m()\u001b[0m\n\u001b[0;32m----> 1\u001b[0;31m \u001b[0mabs\u001b[0m\u001b[0;34m(\u001b[0m\u001b[0;34m'A'\u001b[0m\u001b[0;34m)\u001b[0m\u001b[0;34m\u001b[0m\u001b[0m\n\u001b[0m",
      "\u001b[0;31mTypeError\u001b[0m: bad operand type for abs(): 'str'"
     ]
    }
   ],
   "source": [
    "abs('A')"
   ]
  },
  {
   "cell_type": "markdown",
   "metadata": {},
   "source": [
    "当传入了不恰当的参数时，内置函数```abs```会检查出参数错误，而我们定义的```my_abs```没有参数检查，会导致```if```语句出错，出错信息和```abs```不一样。所以，这个函数定义不够完善。\n",
    "\n",
    "让我们修改一下```my_abs```的定义，**对参数类型做检查**，只允许整数和浮点数类型的参数。数据类型检查可以用内置函数```isinstance()```实现："
   ]
  },
  {
   "cell_type": "code",
   "execution_count": 29,
   "metadata": {
    "collapsed": true
   },
   "outputs": [],
   "source": [
    "def my_abs(x):\n",
    "    if not isinstance(x, (int, float)):\n",
    "        raise TypeError('bad operand type for my_abs: %s' % type(x))\n",
    "    if x >= 0:\n",
    "        return x\n",
    "    else:\n",
    "        return -x"
   ]
  },
  {
   "cell_type": "markdown",
   "metadata": {},
   "source": [
    "添加了参数检查后，如果传入错误的参数类型，函数就可以抛出一个错误："
   ]
  },
  {
   "cell_type": "code",
   "execution_count": 30,
   "metadata": {
    "scrolled": true
   },
   "outputs": [
    {
     "ename": "TypeError",
     "evalue": "bad operand type for my_abs: <class 'str'>",
     "output_type": "error",
     "traceback": [
      "\u001b[0;31m---------------------------------------------------------------------------\u001b[0m",
      "\u001b[0;31mTypeError\u001b[0m                                 Traceback (most recent call last)",
      "\u001b[0;32m<ipython-input-30-fe695080d9cd>\u001b[0m in \u001b[0;36m<module>\u001b[0;34m()\u001b[0m\n\u001b[0;32m----> 1\u001b[0;31m \u001b[0mmy_abs\u001b[0m\u001b[0;34m(\u001b[0m\u001b[0;34m'A'\u001b[0m\u001b[0;34m)\u001b[0m\u001b[0;34m\u001b[0m\u001b[0m\n\u001b[0m",
      "\u001b[0;32m<ipython-input-29-2c1f5d674664>\u001b[0m in \u001b[0;36mmy_abs\u001b[0;34m(x)\u001b[0m\n\u001b[1;32m      1\u001b[0m \u001b[0;32mdef\u001b[0m \u001b[0mmy_abs\u001b[0m\u001b[0;34m(\u001b[0m\u001b[0mx\u001b[0m\u001b[0;34m)\u001b[0m\u001b[0;34m:\u001b[0m\u001b[0;34m\u001b[0m\u001b[0m\n\u001b[1;32m      2\u001b[0m     \u001b[0;32mif\u001b[0m \u001b[0;32mnot\u001b[0m \u001b[0misinstance\u001b[0m\u001b[0;34m(\u001b[0m\u001b[0mx\u001b[0m\u001b[0;34m,\u001b[0m \u001b[0;34m(\u001b[0m\u001b[0mint\u001b[0m\u001b[0;34m,\u001b[0m \u001b[0mfloat\u001b[0m\u001b[0;34m)\u001b[0m\u001b[0;34m)\u001b[0m\u001b[0;34m:\u001b[0m\u001b[0;34m\u001b[0m\u001b[0m\n\u001b[0;32m----> 3\u001b[0;31m         \u001b[0;32mraise\u001b[0m \u001b[0mTypeError\u001b[0m\u001b[0;34m(\u001b[0m\u001b[0;34m'bad operand type for my_abs: %s'\u001b[0m \u001b[0;34m%\u001b[0m \u001b[0mtype\u001b[0m\u001b[0;34m(\u001b[0m\u001b[0mx\u001b[0m\u001b[0;34m)\u001b[0m\u001b[0;34m)\u001b[0m\u001b[0;34m\u001b[0m\u001b[0m\n\u001b[0m\u001b[1;32m      4\u001b[0m     \u001b[0;32mif\u001b[0m \u001b[0mx\u001b[0m \u001b[0;34m>=\u001b[0m \u001b[0;36m0\u001b[0m\u001b[0;34m:\u001b[0m\u001b[0;34m\u001b[0m\u001b[0m\n\u001b[1;32m      5\u001b[0m         \u001b[0;32mreturn\u001b[0m \u001b[0mx\u001b[0m\u001b[0;34m\u001b[0m\u001b[0m\n",
      "\u001b[0;31mTypeError\u001b[0m: bad operand type for my_abs: <class 'str'>"
     ]
    }
   ],
   "source": [
    "my_abs('A')"
   ]
  },
  {
   "cell_type": "markdown",
   "metadata": {},
   "source": [
    "错误和异常处理将在后续讲到。"
   ]
  },
  {
   "cell_type": "markdown",
   "metadata": {},
   "source": [
    "### 返回多个值\n",
    "\n",
    "函数可以返回多个值吗？答案是肯定的。\n",
    "\n",
    "比如在游戏中经常需要从一个点移动到另一个点，给出坐标、位移和角度，就可以计算出新的新的坐标："
   ]
  },
  {
   "cell_type": "code",
   "execution_count": 31,
   "metadata": {
    "collapsed": true
   },
   "outputs": [],
   "source": [
    "import math\n",
    "\n",
    "def move(x, y, step, angle=0):\n",
    "    nx = x + step * math.cos(angle)\n",
    "    ny = y - step * math.sin(angle)\n",
    "    return nx, ny"
   ]
  },
  {
   "cell_type": "markdown",
   "metadata": {},
   "source": [
    "```import math```语句表示导入```math```包，并允许后续代码引用```math```包里的```sin```、```cos```等函数。\n",
    "\n",
    "然后，我们就可以同时获得返回值："
   ]
  },
  {
   "cell_type": "code",
   "execution_count": 32,
   "metadata": {
    "scrolled": true
   },
   "outputs": [
    {
     "name": "stdout",
     "output_type": "stream",
     "text": [
      "151.96152422706632 70.0\n"
     ]
    }
   ],
   "source": [
    "x, y = move(100, 100, 60, math.pi / 6)\n",
    "print(x, y)"
   ]
  },
  {
   "cell_type": "markdown",
   "metadata": {},
   "source": [
    "但其实这只是一种假象，Python函数返回的仍然是单一值："
   ]
  },
  {
   "cell_type": "code",
   "execution_count": 33,
   "metadata": {
    "scrolled": true
   },
   "outputs": [
    {
     "name": "stdout",
     "output_type": "stream",
     "text": [
      "(151.96152422706632, 70.0)\n"
     ]
    }
   ],
   "source": [
    "r = move(100, 100, 60, math.pi / 6)\n",
    "print(r)"
   ]
  },
  {
   "cell_type": "markdown",
   "metadata": {},
   "source": [
    "原来返回值是一个```tuple```！但是，在语法上，返回一个```tuple```可以省略括号，而多个变量可以同时接收一个```tuple```，按位置赋给对应的值，所以，**Python的函数返回多值其实就是返回一个```tuple```**，但写起来更方便。"
   ]
  },
  {
   "cell_type": "code",
   "execution_count": 5,
   "metadata": {
    "collapsed": true
   },
   "outputs": [
    {
     "data": {
      "text/plain": [
       "[[9, 8, 7, 6, 5, 4, 3, 2, 1],\n",
       " [9, 8, 7, 6, 5, 4, 3, 1, 2],\n",
       " [9, 8, 7, 6, 5, 4, 2, 3, 1],\n",
       " [9, 8, 7, 6, 5, 4, 1, 3, 2],\n",
       " [9, 8, 7, 6, 5, 4, 2, 1, 3],\n",
       " [9, 8, 7, 6, 5, 4, 1, 2, 3],\n",
       " [9, 8, 7, 6, 5, 3, 4, 2, 1],\n",
       " [9, 8, 7, 6, 5, 3, 4, 1, 2],\n",
       " [9, 8, 7, 6, 5, 2, 4, 3, 1],\n",
       " [9, 8, 7, 6, 5, 1, 4, 3, 2],\n",
       " [9, 8, 7, 6, 5, 2, 4, 1, 3],\n",
       " [9, 8, 7, 6, 5, 1, 4, 2, 3],\n",
       " [9, 8, 7, 6, 5, 3, 2, 4, 1],\n",
       " [9, 8, 7, 6, 5, 3, 1, 4, 2],\n",
       " [9, 8, 7, 6, 5, 2, 3, 4, 1],\n",
       " [9, 8, 7, 6, 5, 1, 3, 4, 2],\n",
       " [9, 8, 7, 6, 5, 2, 1, 4, 3],\n",
       " [9, 8, 7, 6, 5, 1, 2, 4, 3],\n",
       " [9, 8, 7, 6, 5, 3, 2, 1, 4],\n",
       " [9, 8, 7, 6, 5, 3, 1, 2, 4],\n",
       " [9, 8, 7, 6, 5, 2, 3, 1, 4],\n",
       " [9, 8, 7, 6, 5, 1, 3, 2, 4],\n",
       " [9, 8, 7, 6, 5, 2, 1, 3, 4],\n",
       " [9, 8, 7, 6, 5, 1, 2, 3, 4],\n",
       " [9, 8, 7, 6, 4, 5, 3, 2, 1],\n",
       " [9, 8, 7, 6, 4, 5, 3, 1, 2],\n",
       " [9, 8, 7, 6, 4, 5, 2, 3, 1],\n",
       " [9, 8, 7, 6, 4, 5, 1, 3, 2],\n",
       " [9, 8, 7, 6, 4, 5, 2, 1, 3],\n",
       " [9, 8, 7, 6, 4, 5, 1, 2, 3],\n",
       " [9, 8, 7, 6, 3, 5, 4, 2, 1],\n",
       " [9, 8, 7, 6, 3, 5, 4, 1, 2],\n",
       " [9, 8, 7, 6, 2, 5, 4, 3, 1],\n",
       " [9, 8, 7, 6, 1, 5, 4, 3, 2],\n",
       " [9, 8, 7, 6, 2, 5, 4, 1, 3],\n",
       " [9, 8, 7, 6, 1, 5, 4, 2, 3],\n",
       " [9, 8, 7, 6, 3, 5, 2, 4, 1],\n",
       " [9, 8, 7, 6, 3, 5, 1, 4, 2],\n",
       " [9, 8, 7, 6, 2, 5, 3, 4, 1],\n",
       " [9, 8, 7, 6, 1, 5, 3, 4, 2],\n",
       " [9, 8, 7, 6, 2, 5, 1, 4, 3],\n",
       " [9, 8, 7, 6, 1, 5, 2, 4, 3],\n",
       " [9, 8, 7, 6, 3, 5, 2, 1, 4],\n",
       " [9, 8, 7, 6, 3, 5, 1, 2, 4],\n",
       " [9, 8, 7, 6, 2, 5, 3, 1, 4],\n",
       " [9, 8, 7, 6, 1, 5, 3, 2, 4],\n",
       " [9, 8, 7, 6, 2, 5, 1, 3, 4],\n",
       " [9, 8, 7, 6, 1, 5, 2, 3, 4],\n",
       " [9, 8, 7, 6, 4, 3, 5, 2, 1],\n",
       " [9, 8, 7, 6, 4, 3, 5, 1, 2],\n",
       " [9, 8, 7, 6, 4, 2, 5, 3, 1],\n",
       " [9, 8, 7, 6, 4, 1, 5, 3, 2],\n",
       " [9, 8, 7, 6, 4, 2, 5, 1, 3],\n",
       " [9, 8, 7, 6, 4, 1, 5, 2, 3],\n",
       " [9, 8, 7, 6, 3, 4, 5, 2, 1],\n",
       " [9, 8, 7, 6, 3, 4, 5, 1, 2],\n",
       " [9, 8, 7, 6, 2, 4, 5, 3, 1],\n",
       " [9, 8, 7, 6, 1, 4, 5, 3, 2],\n",
       " [9, 8, 7, 6, 2, 4, 5, 1, 3],\n",
       " [9, 8, 7, 6, 1, 4, 5, 2, 3],\n",
       " [9, 8, 7, 6, 3, 2, 5, 4, 1],\n",
       " [9, 8, 7, 6, 3, 1, 5, 4, 2],\n",
       " [9, 8, 7, 6, 2, 3, 5, 4, 1],\n",
       " [9, 8, 7, 6, 1, 3, 5, 4, 2],\n",
       " [9, 8, 7, 6, 2, 1, 5, 4, 3],\n",
       " [9, 8, 7, 6, 1, 2, 5, 4, 3],\n",
       " [9, 8, 7, 6, 3, 2, 5, 1, 4],\n",
       " [9, 8, 7, 6, 3, 1, 5, 2, 4],\n",
       " [9, 8, 7, 6, 2, 3, 5, 1, 4],\n",
       " [9, 8, 7, 6, 1, 3, 5, 2, 4],\n",
       " [9, 8, 7, 6, 2, 1, 5, 3, 4],\n",
       " [9, 8, 7, 6, 1, 2, 5, 3, 4],\n",
       " [9, 8, 7, 6, 4, 3, 2, 5, 1],\n",
       " [9, 8, 7, 6, 4, 3, 1, 5, 2],\n",
       " [9, 8, 7, 6, 4, 2, 3, 5, 1],\n",
       " [9, 8, 7, 6, 4, 1, 3, 5, 2],\n",
       " [9, 8, 7, 6, 4, 2, 1, 5, 3],\n",
       " [9, 8, 7, 6, 4, 1, 2, 5, 3],\n",
       " [9, 8, 7, 6, 3, 4, 2, 5, 1],\n",
       " [9, 8, 7, 6, 3, 4, 1, 5, 2],\n",
       " [9, 8, 7, 6, 2, 4, 3, 5, 1],\n",
       " [9, 8, 7, 6, 1, 4, 3, 5, 2],\n",
       " [9, 8, 7, 6, 2, 4, 1, 5, 3],\n",
       " [9, 8, 7, 6, 1, 4, 2, 5, 3],\n",
       " [9, 8, 7, 6, 3, 2, 4, 5, 1],\n",
       " [9, 8, 7, 6, 3, 1, 4, 5, 2],\n",
       " [9, 8, 7, 6, 2, 3, 4, 5, 1],\n",
       " [9, 8, 7, 6, 1, 3, 4, 5, 2],\n",
       " [9, 8, 7, 6, 2, 1, 4, 5, 3],\n",
       " [9, 8, 7, 6, 1, 2, 4, 5, 3],\n",
       " [9, 8, 7, 6, 3, 2, 1, 5, 4],\n",
       " [9, 8, 7, 6, 3, 1, 2, 5, 4],\n",
       " [9, 8, 7, 6, 2, 3, 1, 5, 4],\n",
       " [9, 8, 7, 6, 1, 3, 2, 5, 4],\n",
       " [9, 8, 7, 6, 2, 1, 3, 5, 4],\n",
       " [9, 8, 7, 6, 1, 2, 3, 5, 4],\n",
       " [9, 8, 7, 6, 4, 3, 2, 1, 5],\n",
       " [9, 8, 7, 6, 4, 3, 1, 2, 5],\n",
       " [9, 8, 7, 6, 4, 2, 3, 1, 5],\n",
       " [9, 8, 7, 6, 4, 1, 3, 2, 5],\n",
       " [9, 8, 7, 6, 4, 2, 1, 3, 5],\n",
       " [9, 8, 7, 6, 4, 1, 2, 3, 5],\n",
       " [9, 8, 7, 6, 3, 4, 2, 1, 5],\n",
       " [9, 8, 7, 6, 3, 4, 1, 2, 5],\n",
       " [9, 8, 7, 6, 2, 4, 3, 1, 5],\n",
       " [9, 8, 7, 6, 1, 4, 3, 2, 5],\n",
       " [9, 8, 7, 6, 2, 4, 1, 3, 5],\n",
       " [9, 8, 7, 6, 1, 4, 2, 3, 5],\n",
       " [9, 8, 7, 6, 3, 2, 4, 1, 5],\n",
       " [9, 8, 7, 6, 3, 1, 4, 2, 5],\n",
       " [9, 8, 7, 6, 2, 3, 4, 1, 5],\n",
       " [9, 8, 7, 6, 1, 3, 4, 2, 5],\n",
       " [9, 8, 7, 6, 2, 1, 4, 3, 5],\n",
       " [9, 8, 7, 6, 1, 2, 4, 3, 5],\n",
       " [9, 8, 7, 6, 3, 2, 1, 4, 5],\n",
       " [9, 8, 7, 6, 3, 1, 2, 4, 5],\n",
       " [9, 8, 7, 6, 2, 3, 1, 4, 5],\n",
       " [9, 8, 7, 6, 1, 3, 2, 4, 5],\n",
       " [9, 8, 7, 6, 2, 1, 3, 4, 5],\n",
       " [9, 8, 7, 6, 1, 2, 3, 4, 5],\n",
       " [9, 8, 7, 5, 6, 4, 3, 2, 1],\n",
       " [9, 8, 7, 5, 6, 4, 3, 1, 2],\n",
       " [9, 8, 7, 5, 6, 4, 2, 3, 1],\n",
       " [9, 8, 7, 5, 6, 4, 1, 3, 2],\n",
       " [9, 8, 7, 5, 6, 4, 2, 1, 3],\n",
       " [9, 8, 7, 5, 6, 4, 1, 2, 3],\n",
       " [9, 8, 7, 5, 6, 3, 4, 2, 1],\n",
       " [9, 8, 7, 5, 6, 3, 4, 1, 2],\n",
       " [9, 8, 7, 5, 6, 2, 4, 3, 1],\n",
       " [9, 8, 7, 5, 6, 1, 4, 3, 2],\n",
       " [9, 8, 7, 5, 6, 2, 4, 1, 3],\n",
       " [9, 8, 7, 5, 6, 1, 4, 2, 3],\n",
       " [9, 8, 7, 5, 6, 3, 2, 4, 1],\n",
       " [9, 8, 7, 5, 6, 3, 1, 4, 2],\n",
       " [9, 8, 7, 5, 6, 2, 3, 4, 1],\n",
       " [9, 8, 7, 5, 6, 1, 3, 4, 2],\n",
       " [9, 8, 7, 5, 6, 2, 1, 4, 3],\n",
       " [9, 8, 7, 5, 6, 1, 2, 4, 3],\n",
       " [9, 8, 7, 5, 6, 3, 2, 1, 4],\n",
       " [9, 8, 7, 5, 6, 3, 1, 2, 4],\n",
       " [9, 8, 7, 5, 6, 2, 3, 1, 4],\n",
       " [9, 8, 7, 5, 6, 1, 3, 2, 4],\n",
       " [9, 8, 7, 5, 6, 2, 1, 3, 4],\n",
       " [9, 8, 7, 5, 6, 1, 2, 3, 4],\n",
       " [9, 8, 7, 4, 6, 5, 3, 2, 1],\n",
       " [9, 8, 7, 4, 6, 5, 3, 1, 2],\n",
       " [9, 8, 7, 4, 6, 5, 2, 3, 1],\n",
       " [9, 8, 7, 4, 6, 5, 1, 3, 2],\n",
       " [9, 8, 7, 4, 6, 5, 2, 1, 3],\n",
       " [9, 8, 7, 4, 6, 5, 1, 2, 3],\n",
       " [9, 8, 7, 3, 6, 5, 4, 2, 1],\n",
       " [9, 8, 7, 3, 6, 5, 4, 1, 2],\n",
       " [9, 8, 7, 2, 6, 5, 4, 3, 1],\n",
       " [9, 8, 7, 1, 6, 5, 4, 3, 2],\n",
       " [9, 8, 7, 2, 6, 5, 4, 1, 3],\n",
       " [9, 8, 7, 1, 6, 5, 4, 2, 3],\n",
       " [9, 8, 7, 3, 6, 5, 2, 4, 1],\n",
       " [9, 8, 7, 3, 6, 5, 1, 4, 2],\n",
       " [9, 8, 7, 2, 6, 5, 3, 4, 1],\n",
       " [9, 8, 7, 1, 6, 5, 3, 4, 2],\n",
       " [9, 8, 7, 2, 6, 5, 1, 4, 3],\n",
       " [9, 8, 7, 1, 6, 5, 2, 4, 3],\n",
       " [9, 8, 7, 3, 6, 5, 2, 1, 4],\n",
       " [9, 8, 7, 3, 6, 5, 1, 2, 4],\n",
       " [9, 8, 7, 2, 6, 5, 3, 1, 4],\n",
       " [9, 8, 7, 1, 6, 5, 3, 2, 4],\n",
       " [9, 8, 7, 2, 6, 5, 1, 3, 4],\n",
       " [9, 8, 7, 1, 6, 5, 2, 3, 4],\n",
       " [9, 8, 7, 4, 6, 3, 5, 2, 1],\n",
       " [9, 8, 7, 4, 6, 3, 5, 1, 2],\n",
       " [9, 8, 7, 4, 6, 2, 5, 3, 1],\n",
       " [9, 8, 7, 4, 6, 1, 5, 3, 2],\n",
       " [9, 8, 7, 4, 6, 2, 5, 1, 3],\n",
       " [9, 8, 7, 4, 6, 1, 5, 2, 3],\n",
       " [9, 8, 7, 3, 6, 4, 5, 2, 1],\n",
       " [9, 8, 7, 3, 6, 4, 5, 1, 2],\n",
       " [9, 8, 7, 2, 6, 4, 5, 3, 1],\n",
       " [9, 8, 7, 1, 6, 4, 5, 3, 2],\n",
       " [9, 8, 7, 2, 6, 4, 5, 1, 3],\n",
       " [9, 8, 7, 1, 6, 4, 5, 2, 3],\n",
       " [9, 8, 7, 3, 6, 2, 5, 4, 1],\n",
       " [9, 8, 7, 3, 6, 1, 5, 4, 2],\n",
       " [9, 8, 7, 2, 6, 3, 5, 4, 1],\n",
       " [9, 8, 7, 1, 6, 3, 5, 4, 2],\n",
       " [9, 8, 7, 2, 6, 1, 5, 4, 3],\n",
       " [9, 8, 7, 1, 6, 2, 5, 4, 3],\n",
       " [9, 8, 7, 3, 6, 2, 5, 1, 4],\n",
       " [9, 8, 7, 3, 6, 1, 5, 2, 4],\n",
       " [9, 8, 7, 2, 6, 3, 5, 1, 4],\n",
       " [9, 8, 7, 1, 6, 3, 5, 2, 4],\n",
       " [9, 8, 7, 2, 6, 1, 5, 3, 4],\n",
       " [9, 8, 7, 1, 6, 2, 5, 3, 4],\n",
       " [9, 8, 7, 4, 6, 3, 2, 5, 1],\n",
       " [9, 8, 7, 4, 6, 3, 1, 5, 2],\n",
       " [9, 8, 7, 4, 6, 2, 3, 5, 1],\n",
       " [9, 8, 7, 4, 6, 1, 3, 5, 2],\n",
       " [9, 8, 7, 4, 6, 2, 1, 5, 3],\n",
       " [9, 8, 7, 4, 6, 1, 2, 5, 3],\n",
       " [9, 8, 7, 3, 6, 4, 2, 5, 1],\n",
       " [9, 8, 7, 3, 6, 4, 1, 5, 2],\n",
       " [9, 8, 7, 2, 6, 4, 3, 5, 1],\n",
       " [9, 8, 7, 1, 6, 4, 3, 5, 2],\n",
       " [9, 8, 7, 2, 6, 4, 1, 5, 3],\n",
       " [9, 8, 7, 1, 6, 4, 2, 5, 3],\n",
       " [9, 8, 7, 3, 6, 2, 4, 5, 1],\n",
       " [9, 8, 7, 3, 6, 1, 4, 5, 2],\n",
       " [9, 8, 7, 2, 6, 3, 4, 5, 1],\n",
       " [9, 8, 7, 1, 6, 3, 4, 5, 2],\n",
       " [9, 8, 7, 2, 6, 1, 4, 5, 3],\n",
       " [9, 8, 7, 1, 6, 2, 4, 5, 3],\n",
       " [9, 8, 7, 3, 6, 2, 1, 5, 4],\n",
       " [9, 8, 7, 3, 6, 1, 2, 5, 4],\n",
       " [9, 8, 7, 2, 6, 3, 1, 5, 4],\n",
       " [9, 8, 7, 1, 6, 3, 2, 5, 4],\n",
       " [9, 8, 7, 2, 6, 1, 3, 5, 4],\n",
       " [9, 8, 7, 1, 6, 2, 3, 5, 4],\n",
       " [9, 8, 7, 4, 6, 3, 2, 1, 5],\n",
       " [9, 8, 7, 4, 6, 3, 1, 2, 5],\n",
       " [9, 8, 7, 4, 6, 2, 3, 1, 5],\n",
       " [9, 8, 7, 4, 6, 1, 3, 2, 5],\n",
       " [9, 8, 7, 4, 6, 2, 1, 3, 5],\n",
       " [9, 8, 7, 4, 6, 1, 2, 3, 5],\n",
       " [9, 8, 7, 3, 6, 4, 2, 1, 5],\n",
       " [9, 8, 7, 3, 6, 4, 1, 2, 5],\n",
       " [9, 8, 7, 2, 6, 4, 3, 1, 5],\n",
       " [9, 8, 7, 1, 6, 4, 3, 2, 5],\n",
       " [9, 8, 7, 2, 6, 4, 1, 3, 5],\n",
       " [9, 8, 7, 1, 6, 4, 2, 3, 5],\n",
       " [9, 8, 7, 3, 6, 2, 4, 1, 5],\n",
       " [9, 8, 7, 3, 6, 1, 4, 2, 5],\n",
       " [9, 8, 7, 2, 6, 3, 4, 1, 5],\n",
       " [9, 8, 7, 1, 6, 3, 4, 2, 5],\n",
       " [9, 8, 7, 2, 6, 1, 4, 3, 5],\n",
       " [9, 8, 7, 1, 6, 2, 4, 3, 5],\n",
       " [9, 8, 7, 3, 6, 2, 1, 4, 5],\n",
       " [9, 8, 7, 3, 6, 1, 2, 4, 5],\n",
       " [9, 8, 7, 2, 6, 3, 1, 4, 5],\n",
       " [9, 8, 7, 1, 6, 3, 2, 4, 5],\n",
       " [9, 8, 7, 2, 6, 1, 3, 4, 5],\n",
       " [9, 8, 7, 1, 6, 2, 3, 4, 5],\n",
       " [9, 8, 7, 5, 4, 6, 3, 2, 1],\n",
       " [9, 8, 7, 5, 4, 6, 3, 1, 2],\n",
       " [9, 8, 7, 5, 4, 6, 2, 3, 1],\n",
       " [9, 8, 7, 5, 4, 6, 1, 3, 2],\n",
       " [9, 8, 7, 5, 4, 6, 2, 1, 3],\n",
       " [9, 8, 7, 5, 4, 6, 1, 2, 3],\n",
       " [9, 8, 7, 5, 3, 6, 4, 2, 1],\n",
       " [9, 8, 7, 5, 3, 6, 4, 1, 2],\n",
       " [9, 8, 7, 5, 2, 6, 4, 3, 1],\n",
       " [9, 8, 7, 5, 1, 6, 4, 3, 2],\n",
       " [9, 8, 7, 5, 2, 6, 4, 1, 3],\n",
       " [9, 8, 7, 5, 1, 6, 4, 2, 3],\n",
       " [9, 8, 7, 5, 3, 6, 2, 4, 1],\n",
       " [9, 8, 7, 5, 3, 6, 1, 4, 2],\n",
       " [9, 8, 7, 5, 2, 6, 3, 4, 1],\n",
       " [9, 8, 7, 5, 1, 6, 3, 4, 2],\n",
       " [9, 8, 7, 5, 2, 6, 1, 4, 3],\n",
       " [9, 8, 7, 5, 1, 6, 2, 4, 3],\n",
       " [9, 8, 7, 5, 3, 6, 2, 1, 4],\n",
       " [9, 8, 7, 5, 3, 6, 1, 2, 4],\n",
       " [9, 8, 7, 5, 2, 6, 3, 1, 4],\n",
       " [9, 8, 7, 5, 1, 6, 3, 2, 4],\n",
       " [9, 8, 7, 5, 2, 6, 1, 3, 4],\n",
       " [9, 8, 7, 5, 1, 6, 2, 3, 4],\n",
       " [9, 8, 7, 4, 5, 6, 3, 2, 1],\n",
       " [9, 8, 7, 4, 5, 6, 3, 1, 2],\n",
       " [9, 8, 7, 4, 5, 6, 2, 3, 1],\n",
       " [9, 8, 7, 4, 5, 6, 1, 3, 2],\n",
       " [9, 8, 7, 4, 5, 6, 2, 1, 3],\n",
       " [9, 8, 7, 4, 5, 6, 1, 2, 3],\n",
       " [9, 8, 7, 3, 5, 6, 4, 2, 1],\n",
       " [9, 8, 7, 3, 5, 6, 4, 1, 2],\n",
       " [9, 8, 7, 2, 5, 6, 4, 3, 1],\n",
       " [9, 8, 7, 1, 5, 6, 4, 3, 2],\n",
       " [9, 8, 7, 2, 5, 6, 4, 1, 3],\n",
       " [9, 8, 7, 1, 5, 6, 4, 2, 3],\n",
       " [9, 8, 7, 3, 5, 6, 2, 4, 1],\n",
       " [9, 8, 7, 3, 5, 6, 1, 4, 2],\n",
       " [9, 8, 7, 2, 5, 6, 3, 4, 1],\n",
       " [9, 8, 7, 1, 5, 6, 3, 4, 2],\n",
       " [9, 8, 7, 2, 5, 6, 1, 4, 3],\n",
       " [9, 8, 7, 1, 5, 6, 2, 4, 3],\n",
       " [9, 8, 7, 3, 5, 6, 2, 1, 4],\n",
       " [9, 8, 7, 3, 5, 6, 1, 2, 4],\n",
       " [9, 8, 7, 2, 5, 6, 3, 1, 4],\n",
       " [9, 8, 7, 1, 5, 6, 3, 2, 4],\n",
       " [9, 8, 7, 2, 5, 6, 1, 3, 4],\n",
       " [9, 8, 7, 1, 5, 6, 2, 3, 4],\n",
       " [9, 8, 7, 4, 3, 6, 5, 2, 1],\n",
       " [9, 8, 7, 4, 3, 6, 5, 1, 2],\n",
       " [9, 8, 7, 4, 2, 6, 5, 3, 1],\n",
       " [9, 8, 7, 4, 1, 6, 5, 3, 2],\n",
       " [9, 8, 7, 4, 2, 6, 5, 1, 3],\n",
       " [9, 8, 7, 4, 1, 6, 5, 2, 3],\n",
       " [9, 8, 7, 3, 4, 6, 5, 2, 1],\n",
       " [9, 8, 7, 3, 4, 6, 5, 1, 2],\n",
       " [9, 8, 7, 2, 4, 6, 5, 3, 1],\n",
       " [9, 8, 7, 1, 4, 6, 5, 3, 2],\n",
       " [9, 8, 7, 2, 4, 6, 5, 1, 3],\n",
       " [9, 8, 7, 1, 4, 6, 5, 2, 3],\n",
       " [9, 8, 7, 3, 2, 6, 5, 4, 1],\n",
       " [9, 8, 7, 3, 1, 6, 5, 4, 2],\n",
       " [9, 8, 7, 2, 3, 6, 5, 4, 1],\n",
       " [9, 8, 7, 1, 3, 6, 5, 4, 2],\n",
       " [9, 8, 7, 2, 1, 6, 5, 4, 3],\n",
       " [9, 8, 7, 1, 2, 6, 5, 4, 3],\n",
       " [9, 8, 7, 3, 2, 6, 5, 1, 4],\n",
       " [9, 8, 7, 3, 1, 6, 5, 2, 4],\n",
       " [9, 8, 7, 2, 3, 6, 5, 1, 4],\n",
       " [9, 8, 7, 1, 3, 6, 5, 2, 4],\n",
       " [9, 8, 7, 2, 1, 6, 5, 3, 4],\n",
       " [9, 8, 7, 1, 2, 6, 5, 3, 4],\n",
       " [9, 8, 7, 4, 3, 6, 2, 5, 1],\n",
       " [9, 8, 7, 4, 3, 6, 1, 5, 2],\n",
       " [9, 8, 7, 4, 2, 6, 3, 5, 1],\n",
       " [9, 8, 7, 4, 1, 6, 3, 5, 2],\n",
       " [9, 8, 7, 4, 2, 6, 1, 5, 3],\n",
       " [9, 8, 7, 4, 1, 6, 2, 5, 3],\n",
       " [9, 8, 7, 3, 4, 6, 2, 5, 1],\n",
       " [9, 8, 7, 3, 4, 6, 1, 5, 2],\n",
       " [9, 8, 7, 2, 4, 6, 3, 5, 1],\n",
       " [9, 8, 7, 1, 4, 6, 3, 5, 2],\n",
       " [9, 8, 7, 2, 4, 6, 1, 5, 3],\n",
       " [9, 8, 7, 1, 4, 6, 2, 5, 3],\n",
       " [9, 8, 7, 3, 2, 6, 4, 5, 1],\n",
       " [9, 8, 7, 3, 1, 6, 4, 5, 2],\n",
       " [9, 8, 7, 2, 3, 6, 4, 5, 1],\n",
       " [9, 8, 7, 1, 3, 6, 4, 5, 2],\n",
       " [9, 8, 7, 2, 1, 6, 4, 5, 3],\n",
       " [9, 8, 7, 1, 2, 6, 4, 5, 3],\n",
       " [9, 8, 7, 3, 2, 6, 1, 5, 4],\n",
       " [9, 8, 7, 3, 1, 6, 2, 5, 4],\n",
       " [9, 8, 7, 2, 3, 6, 1, 5, 4],\n",
       " [9, 8, 7, 1, 3, 6, 2, 5, 4],\n",
       " [9, 8, 7, 2, 1, 6, 3, 5, 4],\n",
       " [9, 8, 7, 1, 2, 6, 3, 5, 4],\n",
       " [9, 8, 7, 4, 3, 6, 2, 1, 5],\n",
       " [9, 8, 7, 4, 3, 6, 1, 2, 5],\n",
       " [9, 8, 7, 4, 2, 6, 3, 1, 5],\n",
       " [9, 8, 7, 4, 1, 6, 3, 2, 5],\n",
       " [9, 8, 7, 4, 2, 6, 1, 3, 5],\n",
       " [9, 8, 7, 4, 1, 6, 2, 3, 5],\n",
       " [9, 8, 7, 3, 4, 6, 2, 1, 5],\n",
       " [9, 8, 7, 3, 4, 6, 1, 2, 5],\n",
       " [9, 8, 7, 2, 4, 6, 3, 1, 5],\n",
       " [9, 8, 7, 1, 4, 6, 3, 2, 5],\n",
       " [9, 8, 7, 2, 4, 6, 1, 3, 5],\n",
       " [9, 8, 7, 1, 4, 6, 2, 3, 5],\n",
       " [9, 8, 7, 3, 2, 6, 4, 1, 5],\n",
       " [9, 8, 7, 3, 1, 6, 4, 2, 5],\n",
       " [9, 8, 7, 2, 3, 6, 4, 1, 5],\n",
       " [9, 8, 7, 1, 3, 6, 4, 2, 5],\n",
       " [9, 8, 7, 2, 1, 6, 4, 3, 5],\n",
       " [9, 8, 7, 1, 2, 6, 4, 3, 5],\n",
       " [9, 8, 7, 3, 2, 6, 1, 4, 5],\n",
       " [9, 8, 7, 3, 1, 6, 2, 4, 5],\n",
       " [9, 8, 7, 2, 3, 6, 1, 4, 5],\n",
       " [9, 8, 7, 1, 3, 6, 2, 4, 5],\n",
       " [9, 8, 7, 2, 1, 6, 3, 4, 5],\n",
       " [9, 8, 7, 1, 2, 6, 3, 4, 5],\n",
       " [9, 8, 7, 5, 4, 3, 6, 2, 1],\n",
       " [9, 8, 7, 5, 4, 3, 6, 1, 2],\n",
       " [9, 8, 7, 5, 4, 2, 6, 3, 1],\n",
       " [9, 8, 7, 5, 4, 1, 6, 3, 2],\n",
       " [9, 8, 7, 5, 4, 2, 6, 1, 3],\n",
       " [9, 8, 7, 5, 4, 1, 6, 2, 3],\n",
       " [9, 8, 7, 5, 3, 4, 6, 2, 1],\n",
       " [9, 8, 7, 5, 3, 4, 6, 1, 2],\n",
       " [9, 8, 7, 5, 2, 4, 6, 3, 1],\n",
       " [9, 8, 7, 5, 1, 4, 6, 3, 2],\n",
       " [9, 8, 7, 5, 2, 4, 6, 1, 3],\n",
       " [9, 8, 7, 5, 1, 4, 6, 2, 3],\n",
       " [9, 8, 7, 5, 3, 2, 6, 4, 1],\n",
       " [9, 8, 7, 5, 3, 1, 6, 4, 2],\n",
       " [9, 8, 7, 5, 2, 3, 6, 4, 1],\n",
       " [9, 8, 7, 5, 1, 3, 6, 4, 2],\n",
       " [9, 8, 7, 5, 2, 1, 6, 4, 3],\n",
       " [9, 8, 7, 5, 1, 2, 6, 4, 3],\n",
       " [9, 8, 7, 5, 3, 2, 6, 1, 4],\n",
       " [9, 8, 7, 5, 3, 1, 6, 2, 4],\n",
       " [9, 8, 7, 5, 2, 3, 6, 1, 4],\n",
       " [9, 8, 7, 5, 1, 3, 6, 2, 4],\n",
       " [9, 8, 7, 5, 2, 1, 6, 3, 4],\n",
       " [9, 8, 7, 5, 1, 2, 6, 3, 4],\n",
       " [9, 8, 7, 4, 5, 3, 6, 2, 1],\n",
       " [9, 8, 7, 4, 5, 3, 6, 1, 2],\n",
       " [9, 8, 7, 4, 5, 2, 6, 3, 1],\n",
       " [9, 8, 7, 4, 5, 1, 6, 3, 2],\n",
       " [9, 8, 7, 4, 5, 2, 6, 1, 3],\n",
       " [9, 8, 7, 4, 5, 1, 6, 2, 3],\n",
       " [9, 8, 7, 3, 5, 4, 6, 2, 1],\n",
       " [9, 8, 7, 3, 5, 4, 6, 1, 2],\n",
       " [9, 8, 7, 2, 5, 4, 6, 3, 1],\n",
       " [9, 8, 7, 1, 5, 4, 6, 3, 2],\n",
       " [9, 8, 7, 2, 5, 4, 6, 1, 3],\n",
       " [9, 8, 7, 1, 5, 4, 6, 2, 3],\n",
       " [9, 8, 7, 3, 5, 2, 6, 4, 1],\n",
       " [9, 8, 7, 3, 5, 1, 6, 4, 2],\n",
       " [9, 8, 7, 2, 5, 3, 6, 4, 1],\n",
       " [9, 8, 7, 1, 5, 3, 6, 4, 2],\n",
       " [9, 8, 7, 2, 5, 1, 6, 4, 3],\n",
       " [9, 8, 7, 1, 5, 2, 6, 4, 3],\n",
       " [9, 8, 7, 3, 5, 2, 6, 1, 4],\n",
       " [9, 8, 7, 3, 5, 1, 6, 2, 4],\n",
       " [9, 8, 7, 2, 5, 3, 6, 1, 4],\n",
       " [9, 8, 7, 1, 5, 3, 6, 2, 4],\n",
       " [9, 8, 7, 2, 5, 1, 6, 3, 4],\n",
       " [9, 8, 7, 1, 5, 2, 6, 3, 4],\n",
       " [9, 8, 7, 4, 3, 5, 6, 2, 1],\n",
       " [9, 8, 7, 4, 3, 5, 6, 1, 2],\n",
       " [9, 8, 7, 4, 2, 5, 6, 3, 1],\n",
       " [9, 8, 7, 4, 1, 5, 6, 3, 2],\n",
       " [9, 8, 7, 4, 2, 5, 6, 1, 3],\n",
       " [9, 8, 7, 4, 1, 5, 6, 2, 3],\n",
       " [9, 8, 7, 3, 4, 5, 6, 2, 1],\n",
       " [9, 8, 7, 3, 4, 5, 6, 1, 2],\n",
       " [9, 8, 7, 2, 4, 5, 6, 3, 1],\n",
       " [9, 8, 7, 1, 4, 5, 6, 3, 2],\n",
       " [9, 8, 7, 2, 4, 5, 6, 1, 3],\n",
       " [9, 8, 7, 1, 4, 5, 6, 2, 3],\n",
       " [9, 8, 7, 3, 2, 5, 6, 4, 1],\n",
       " [9, 8, 7, 3, 1, 5, 6, 4, 2],\n",
       " [9, 8, 7, 2, 3, 5, 6, 4, 1],\n",
       " [9, 8, 7, 1, 3, 5, 6, 4, 2],\n",
       " [9, 8, 7, 2, 1, 5, 6, 4, 3],\n",
       " [9, 8, 7, 1, 2, 5, 6, 4, 3],\n",
       " [9, 8, 7, 3, 2, 5, 6, 1, 4],\n",
       " [9, 8, 7, 3, 1, 5, 6, 2, 4],\n",
       " [9, 8, 7, 2, 3, 5, 6, 1, 4],\n",
       " [9, 8, 7, 1, 3, 5, 6, 2, 4],\n",
       " [9, 8, 7, 2, 1, 5, 6, 3, 4],\n",
       " [9, 8, 7, 1, 2, 5, 6, 3, 4],\n",
       " [9, 8, 7, 4, 3, 2, 6, 5, 1],\n",
       " [9, 8, 7, 4, 3, 1, 6, 5, 2],\n",
       " [9, 8, 7, 4, 2, 3, 6, 5, 1],\n",
       " [9, 8, 7, 4, 1, 3, 6, 5, 2],\n",
       " [9, 8, 7, 4, 2, 1, 6, 5, 3],\n",
       " [9, 8, 7, 4, 1, 2, 6, 5, 3],\n",
       " [9, 8, 7, 3, 4, 2, 6, 5, 1],\n",
       " [9, 8, 7, 3, 4, 1, 6, 5, 2],\n",
       " [9, 8, 7, 2, 4, 3, 6, 5, 1],\n",
       " [9, 8, 7, 1, 4, 3, 6, 5, 2],\n",
       " [9, 8, 7, 2, 4, 1, 6, 5, 3],\n",
       " [9, 8, 7, 1, 4, 2, 6, 5, 3],\n",
       " [9, 8, 7, 3, 2, 4, 6, 5, 1],\n",
       " [9, 8, 7, 3, 1, 4, 6, 5, 2],\n",
       " [9, 8, 7, 2, 3, 4, 6, 5, 1],\n",
       " [9, 8, 7, 1, 3, 4, 6, 5, 2],\n",
       " [9, 8, 7, 2, 1, 4, 6, 5, 3],\n",
       " [9, 8, 7, 1, 2, 4, 6, 5, 3],\n",
       " [9, 8, 7, 3, 2, 1, 6, 5, 4],\n",
       " [9, 8, 7, 3, 1, 2, 6, 5, 4],\n",
       " [9, 8, 7, 2, 3, 1, 6, 5, 4],\n",
       " [9, 8, 7, 1, 3, 2, 6, 5, 4],\n",
       " [9, 8, 7, 2, 1, 3, 6, 5, 4],\n",
       " [9, 8, 7, 1, 2, 3, 6, 5, 4],\n",
       " [9, 8, 7, 4, 3, 2, 6, 1, 5],\n",
       " [9, 8, 7, 4, 3, 1, 6, 2, 5],\n",
       " [9, 8, 7, 4, 2, 3, 6, 1, 5],\n",
       " [9, 8, 7, 4, 1, 3, 6, 2, 5],\n",
       " [9, 8, 7, 4, 2, 1, 6, 3, 5],\n",
       " [9, 8, 7, 4, 1, 2, 6, 3, 5],\n",
       " [9, 8, 7, 3, 4, 2, 6, 1, 5],\n",
       " [9, 8, 7, 3, 4, 1, 6, 2, 5],\n",
       " [9, 8, 7, 2, 4, 3, 6, 1, 5],\n",
       " [9, 8, 7, 1, 4, 3, 6, 2, 5],\n",
       " [9, 8, 7, 2, 4, 1, 6, 3, 5],\n",
       " [9, 8, 7, 1, 4, 2, 6, 3, 5],\n",
       " [9, 8, 7, 3, 2, 4, 6, 1, 5],\n",
       " [9, 8, 7, 3, 1, 4, 6, 2, 5],\n",
       " [9, 8, 7, 2, 3, 4, 6, 1, 5],\n",
       " [9, 8, 7, 1, 3, 4, 6, 2, 5],\n",
       " [9, 8, 7, 2, 1, 4, 6, 3, 5],\n",
       " [9, 8, 7, 1, 2, 4, 6, 3, 5],\n",
       " [9, 8, 7, 3, 2, 1, 6, 4, 5],\n",
       " [9, 8, 7, 3, 1, 2, 6, 4, 5],\n",
       " [9, 8, 7, 2, 3, 1, 6, 4, 5],\n",
       " [9, 8, 7, 1, 3, 2, 6, 4, 5],\n",
       " [9, 8, 7, 2, 1, 3, 6, 4, 5],\n",
       " [9, 8, 7, 1, 2, 3, 6, 4, 5],\n",
       " [9, 8, 7, 5, 4, 3, 2, 6, 1],\n",
       " [9, 8, 7, 5, 4, 3, 1, 6, 2],\n",
       " [9, 8, 7, 5, 4, 2, 3, 6, 1],\n",
       " [9, 8, 7, 5, 4, 1, 3, 6, 2],\n",
       " [9, 8, 7, 5, 4, 2, 1, 6, 3],\n",
       " [9, 8, 7, 5, 4, 1, 2, 6, 3],\n",
       " [9, 8, 7, 5, 3, 4, 2, 6, 1],\n",
       " [9, 8, 7, 5, 3, 4, 1, 6, 2],\n",
       " [9, 8, 7, 5, 2, 4, 3, 6, 1],\n",
       " [9, 8, 7, 5, 1, 4, 3, 6, 2],\n",
       " [9, 8, 7, 5, 2, 4, 1, 6, 3],\n",
       " [9, 8, 7, 5, 1, 4, 2, 6, 3],\n",
       " [9, 8, 7, 5, 3, 2, 4, 6, 1],\n",
       " [9, 8, 7, 5, 3, 1, 4, 6, 2],\n",
       " [9, 8, 7, 5, 2, 3, 4, 6, 1],\n",
       " [9, 8, 7, 5, 1, 3, 4, 6, 2],\n",
       " [9, 8, 7, 5, 2, 1, 4, 6, 3],\n",
       " [9, 8, 7, 5, 1, 2, 4, 6, 3],\n",
       " [9, 8, 7, 5, 3, 2, 1, 6, 4],\n",
       " [9, 8, 7, 5, 3, 1, 2, 6, 4],\n",
       " [9, 8, 7, 5, 2, 3, 1, 6, 4],\n",
       " [9, 8, 7, 5, 1, 3, 2, 6, 4],\n",
       " [9, 8, 7, 5, 2, 1, 3, 6, 4],\n",
       " [9, 8, 7, 5, 1, 2, 3, 6, 4],\n",
       " [9, 8, 7, 4, 5, 3, 2, 6, 1],\n",
       " [9, 8, 7, 4, 5, 3, 1, 6, 2],\n",
       " [9, 8, 7, 4, 5, 2, 3, 6, 1],\n",
       " [9, 8, 7, 4, 5, 1, 3, 6, 2],\n",
       " [9, 8, 7, 4, 5, 2, 1, 6, 3],\n",
       " [9, 8, 7, 4, 5, 1, 2, 6, 3],\n",
       " [9, 8, 7, 3, 5, 4, 2, 6, 1],\n",
       " [9, 8, 7, 3, 5, 4, 1, 6, 2],\n",
       " [9, 8, 7, 2, 5, 4, 3, 6, 1],\n",
       " [9, 8, 7, 1, 5, 4, 3, 6, 2],\n",
       " [9, 8, 7, 2, 5, 4, 1, 6, 3],\n",
       " [9, 8, 7, 1, 5, 4, 2, 6, 3],\n",
       " [9, 8, 7, 3, 5, 2, 4, 6, 1],\n",
       " [9, 8, 7, 3, 5, 1, 4, 6, 2],\n",
       " [9, 8, 7, 2, 5, 3, 4, 6, 1],\n",
       " [9, 8, 7, 1, 5, 3, 4, 6, 2],\n",
       " [9, 8, 7, 2, 5, 1, 4, 6, 3],\n",
       " [9, 8, 7, 1, 5, 2, 4, 6, 3],\n",
       " [9, 8, 7, 3, 5, 2, 1, 6, 4],\n",
       " [9, 8, 7, 3, 5, 1, 2, 6, 4],\n",
       " [9, 8, 7, 2, 5, 3, 1, 6, 4],\n",
       " [9, 8, 7, 1, 5, 3, 2, 6, 4],\n",
       " [9, 8, 7, 2, 5, 1, 3, 6, 4],\n",
       " [9, 8, 7, 1, 5, 2, 3, 6, 4],\n",
       " [9, 8, 7, 4, 3, 5, 2, 6, 1],\n",
       " [9, 8, 7, 4, 3, 5, 1, 6, 2],\n",
       " [9, 8, 7, 4, 2, 5, 3, 6, 1],\n",
       " [9, 8, 7, 4, 1, 5, 3, 6, 2],\n",
       " [9, 8, 7, 4, 2, 5, 1, 6, 3],\n",
       " [9, 8, 7, 4, 1, 5, 2, 6, 3],\n",
       " [9, 8, 7, 3, 4, 5, 2, 6, 1],\n",
       " [9, 8, 7, 3, 4, 5, 1, 6, 2],\n",
       " [9, 8, 7, 2, 4, 5, 3, 6, 1],\n",
       " [9, 8, 7, 1, 4, 5, 3, 6, 2],\n",
       " [9, 8, 7, 2, 4, 5, 1, 6, 3],\n",
       " [9, 8, 7, 1, 4, 5, 2, 6, 3],\n",
       " [9, 8, 7, 3, 2, 5, 4, 6, 1],\n",
       " [9, 8, 7, 3, 1, 5, 4, 6, 2],\n",
       " [9, 8, 7, 2, 3, 5, 4, 6, 1],\n",
       " [9, 8, 7, 1, 3, 5, 4, 6, 2],\n",
       " [9, 8, 7, 2, 1, 5, 4, 6, 3],\n",
       " [9, 8, 7, 1, 2, 5, 4, 6, 3],\n",
       " [9, 8, 7, 3, 2, 5, 1, 6, 4],\n",
       " [9, 8, 7, 3, 1, 5, 2, 6, 4],\n",
       " [9, 8, 7, 2, 3, 5, 1, 6, 4],\n",
       " [9, 8, 7, 1, 3, 5, 2, 6, 4],\n",
       " [9, 8, 7, 2, 1, 5, 3, 6, 4],\n",
       " [9, 8, 7, 1, 2, 5, 3, 6, 4],\n",
       " [9, 8, 7, 4, 3, 2, 5, 6, 1],\n",
       " [9, 8, 7, 4, 3, 1, 5, 6, 2],\n",
       " [9, 8, 7, 4, 2, 3, 5, 6, 1],\n",
       " [9, 8, 7, 4, 1, 3, 5, 6, 2],\n",
       " [9, 8, 7, 4, 2, 1, 5, 6, 3],\n",
       " [9, 8, 7, 4, 1, 2, 5, 6, 3],\n",
       " [9, 8, 7, 3, 4, 2, 5, 6, 1],\n",
       " [9, 8, 7, 3, 4, 1, 5, 6, 2],\n",
       " [9, 8, 7, 2, 4, 3, 5, 6, 1],\n",
       " [9, 8, 7, 1, 4, 3, 5, 6, 2],\n",
       " [9, 8, 7, 2, 4, 1, 5, 6, 3],\n",
       " [9, 8, 7, 1, 4, 2, 5, 6, 3],\n",
       " [9, 8, 7, 3, 2, 4, 5, 6, 1],\n",
       " [9, 8, 7, 3, 1, 4, 5, 6, 2],\n",
       " [9, 8, 7, 2, 3, 4, 5, 6, 1],\n",
       " [9, 8, 7, 1, 3, 4, 5, 6, 2],\n",
       " [9, 8, 7, 2, 1, 4, 5, 6, 3],\n",
       " [9, 8, 7, 1, 2, 4, 5, 6, 3],\n",
       " [9, 8, 7, 3, 2, 1, 5, 6, 4],\n",
       " [9, 8, 7, 3, 1, 2, 5, 6, 4],\n",
       " [9, 8, 7, 2, 3, 1, 5, 6, 4],\n",
       " [9, 8, 7, 1, 3, 2, 5, 6, 4],\n",
       " [9, 8, 7, 2, 1, 3, 5, 6, 4],\n",
       " [9, 8, 7, 1, 2, 3, 5, 6, 4],\n",
       " [9, 8, 7, 4, 3, 2, 1, 6, 5],\n",
       " [9, 8, 7, 4, 3, 1, 2, 6, 5],\n",
       " [9, 8, 7, 4, 2, 3, 1, 6, 5],\n",
       " [9, 8, 7, 4, 1, 3, 2, 6, 5],\n",
       " [9, 8, 7, 4, 2, 1, 3, 6, 5],\n",
       " [9, 8, 7, 4, 1, 2, 3, 6, 5],\n",
       " [9, 8, 7, 3, 4, 2, 1, 6, 5],\n",
       " [9, 8, 7, 3, 4, 1, 2, 6, 5],\n",
       " [9, 8, 7, 2, 4, 3, 1, 6, 5],\n",
       " [9, 8, 7, 1, 4, 3, 2, 6, 5],\n",
       " [9, 8, 7, 2, 4, 1, 3, 6, 5],\n",
       " [9, 8, 7, 1, 4, 2, 3, 6, 5],\n",
       " [9, 8, 7, 3, 2, 4, 1, 6, 5],\n",
       " [9, 8, 7, 3, 1, 4, 2, 6, 5],\n",
       " [9, 8, 7, 2, 3, 4, 1, 6, 5],\n",
       " [9, 8, 7, 1, 3, 4, 2, 6, 5],\n",
       " [9, 8, 7, 2, 1, 4, 3, 6, 5],\n",
       " [9, 8, 7, 1, 2, 4, 3, 6, 5],\n",
       " [9, 8, 7, 3, 2, 1, 4, 6, 5],\n",
       " [9, 8, 7, 3, 1, 2, 4, 6, 5],\n",
       " [9, 8, 7, 2, 3, 1, 4, 6, 5],\n",
       " [9, 8, 7, 1, 3, 2, 4, 6, 5],\n",
       " [9, 8, 7, 2, 1, 3, 4, 6, 5],\n",
       " [9, 8, 7, 1, 2, 3, 4, 6, 5],\n",
       " [9, 8, 7, 5, 4, 3, 2, 1, 6],\n",
       " [9, 8, 7, 5, 4, 3, 1, 2, 6],\n",
       " [9, 8, 7, 5, 4, 2, 3, 1, 6],\n",
       " [9, 8, 7, 5, 4, 1, 3, 2, 6],\n",
       " [9, 8, 7, 5, 4, 2, 1, 3, 6],\n",
       " [9, 8, 7, 5, 4, 1, 2, 3, 6],\n",
       " [9, 8, 7, 5, 3, 4, 2, 1, 6],\n",
       " [9, 8, 7, 5, 3, 4, 1, 2, 6],\n",
       " [9, 8, 7, 5, 2, 4, 3, 1, 6],\n",
       " [9, 8, 7, 5, 1, 4, 3, 2, 6],\n",
       " [9, 8, 7, 5, 2, 4, 1, 3, 6],\n",
       " [9, 8, 7, 5, 1, 4, 2, 3, 6],\n",
       " [9, 8, 7, 5, 3, 2, 4, 1, 6],\n",
       " [9, 8, 7, 5, 3, 1, 4, 2, 6],\n",
       " [9, 8, 7, 5, 2, 3, 4, 1, 6],\n",
       " [9, 8, 7, 5, 1, 3, 4, 2, 6],\n",
       " [9, 8, 7, 5, 2, 1, 4, 3, 6],\n",
       " [9, 8, 7, 5, 1, 2, 4, 3, 6],\n",
       " [9, 8, 7, 5, 3, 2, 1, 4, 6],\n",
       " [9, 8, 7, 5, 3, 1, 2, 4, 6],\n",
       " [9, 8, 7, 5, 2, 3, 1, 4, 6],\n",
       " [9, 8, 7, 5, 1, 3, 2, 4, 6],\n",
       " [9, 8, 7, 5, 2, 1, 3, 4, 6],\n",
       " [9, 8, 7, 5, 1, 2, 3, 4, 6],\n",
       " [9, 8, 7, 4, 5, 3, 2, 1, 6],\n",
       " [9, 8, 7, 4, 5, 3, 1, 2, 6],\n",
       " [9, 8, 7, 4, 5, 2, 3, 1, 6],\n",
       " [9, 8, 7, 4, 5, 1, 3, 2, 6],\n",
       " [9, 8, 7, 4, 5, 2, 1, 3, 6],\n",
       " [9, 8, 7, 4, 5, 1, 2, 3, 6],\n",
       " [9, 8, 7, 3, 5, 4, 2, 1, 6],\n",
       " [9, 8, 7, 3, 5, 4, 1, 2, 6],\n",
       " [9, 8, 7, 2, 5, 4, 3, 1, 6],\n",
       " [9, 8, 7, 1, 5, 4, 3, 2, 6],\n",
       " [9, 8, 7, 2, 5, 4, 1, 3, 6],\n",
       " [9, 8, 7, 1, 5, 4, 2, 3, 6],\n",
       " [9, 8, 7, 3, 5, 2, 4, 1, 6],\n",
       " [9, 8, 7, 3, 5, 1, 4, 2, 6],\n",
       " [9, 8, 7, 2, 5, 3, 4, 1, 6],\n",
       " [9, 8, 7, 1, 5, 3, 4, 2, 6],\n",
       " [9, 8, 7, 2, 5, 1, 4, 3, 6],\n",
       " [9, 8, 7, 1, 5, 2, 4, 3, 6],\n",
       " [9, 8, 7, 3, 5, 2, 1, 4, 6],\n",
       " [9, 8, 7, 3, 5, 1, 2, 4, 6],\n",
       " [9, 8, 7, 2, 5, 3, 1, 4, 6],\n",
       " [9, 8, 7, 1, 5, 3, 2, 4, 6],\n",
       " [9, 8, 7, 2, 5, 1, 3, 4, 6],\n",
       " [9, 8, 7, 1, 5, 2, 3, 4, 6],\n",
       " [9, 8, 7, 4, 3, 5, 2, 1, 6],\n",
       " [9, 8, 7, 4, 3, 5, 1, 2, 6],\n",
       " [9, 8, 7, 4, 2, 5, 3, 1, 6],\n",
       " [9, 8, 7, 4, 1, 5, 3, 2, 6],\n",
       " [9, 8, 7, 4, 2, 5, 1, 3, 6],\n",
       " [9, 8, 7, 4, 1, 5, 2, 3, 6],\n",
       " [9, 8, 7, 3, 4, 5, 2, 1, 6],\n",
       " [9, 8, 7, 3, 4, 5, 1, 2, 6],\n",
       " [9, 8, 7, 2, 4, 5, 3, 1, 6],\n",
       " [9, 8, 7, 1, 4, 5, 3, 2, 6],\n",
       " [9, 8, 7, 2, 4, 5, 1, 3, 6],\n",
       " [9, 8, 7, 1, 4, 5, 2, 3, 6],\n",
       " [9, 8, 7, 3, 2, 5, 4, 1, 6],\n",
       " [9, 8, 7, 3, 1, 5, 4, 2, 6],\n",
       " [9, 8, 7, 2, 3, 5, 4, 1, 6],\n",
       " [9, 8, 7, 1, 3, 5, 4, 2, 6],\n",
       " [9, 8, 7, 2, 1, 5, 4, 3, 6],\n",
       " [9, 8, 7, 1, 2, 5, 4, 3, 6],\n",
       " [9, 8, 7, 3, 2, 5, 1, 4, 6],\n",
       " [9, 8, 7, 3, 1, 5, 2, 4, 6],\n",
       " [9, 8, 7, 2, 3, 5, 1, 4, 6],\n",
       " [9, 8, 7, 1, 3, 5, 2, 4, 6],\n",
       " [9, 8, 7, 2, 1, 5, 3, 4, 6],\n",
       " [9, 8, 7, 1, 2, 5, 3, 4, 6],\n",
       " [9, 8, 7, 4, 3, 2, 5, 1, 6],\n",
       " [9, 8, 7, 4, 3, 1, 5, 2, 6],\n",
       " [9, 8, 7, 4, 2, 3, 5, 1, 6],\n",
       " [9, 8, 7, 4, 1, 3, 5, 2, 6],\n",
       " [9, 8, 7, 4, 2, 1, 5, 3, 6],\n",
       " [9, 8, 7, 4, 1, 2, 5, 3, 6],\n",
       " [9, 8, 7, 3, 4, 2, 5, 1, 6],\n",
       " [9, 8, 7, 3, 4, 1, 5, 2, 6],\n",
       " [9, 8, 7, 2, 4, 3, 5, 1, 6],\n",
       " [9, 8, 7, 1, 4, 3, 5, 2, 6],\n",
       " [9, 8, 7, 2, 4, 1, 5, 3, 6],\n",
       " [9, 8, 7, 1, 4, 2, 5, 3, 6],\n",
       " [9, 8, 7, 3, 2, 4, 5, 1, 6],\n",
       " [9, 8, 7, 3, 1, 4, 5, 2, 6],\n",
       " [9, 8, 7, 2, 3, 4, 5, 1, 6],\n",
       " [9, 8, 7, 1, 3, 4, 5, 2, 6],\n",
       " [9, 8, 7, 2, 1, 4, 5, 3, 6],\n",
       " [9, 8, 7, 1, 2, 4, 5, 3, 6],\n",
       " [9, 8, 7, 3, 2, 1, 5, 4, 6],\n",
       " [9, 8, 7, 3, 1, 2, 5, 4, 6],\n",
       " [9, 8, 7, 2, 3, 1, 5, 4, 6],\n",
       " [9, 8, 7, 1, 3, 2, 5, 4, 6],\n",
       " [9, 8, 7, 2, 1, 3, 5, 4, 6],\n",
       " [9, 8, 7, 1, 2, 3, 5, 4, 6],\n",
       " [9, 8, 7, 4, 3, 2, 1, 5, 6],\n",
       " [9, 8, 7, 4, 3, 1, 2, 5, 6],\n",
       " [9, 8, 7, 4, 2, 3, 1, 5, 6],\n",
       " [9, 8, 7, 4, 1, 3, 2, 5, 6],\n",
       " [9, 8, 7, 4, 2, 1, 3, 5, 6],\n",
       " [9, 8, 7, 4, 1, 2, 3, 5, 6],\n",
       " [9, 8, 7, 3, 4, 2, 1, 5, 6],\n",
       " [9, 8, 7, 3, 4, 1, 2, 5, 6],\n",
       " [9, 8, 7, 2, 4, 3, 1, 5, 6],\n",
       " [9, 8, 7, 1, 4, 3, 2, 5, 6],\n",
       " [9, 8, 7, 2, 4, 1, 3, 5, 6],\n",
       " [9, 8, 7, 1, 4, 2, 3, 5, 6],\n",
       " [9, 8, 7, 3, 2, 4, 1, 5, 6],\n",
       " [9, 8, 7, 3, 1, 4, 2, 5, 6],\n",
       " [9, 8, 7, 2, 3, 4, 1, 5, 6],\n",
       " [9, 8, 7, 1, 3, 4, 2, 5, 6],\n",
       " [9, 8, 7, 2, 1, 4, 3, 5, 6],\n",
       " [9, 8, 7, 1, 2, 4, 3, 5, 6],\n",
       " [9, 8, 7, 3, 2, 1, 4, 5, 6],\n",
       " [9, 8, 7, 3, 1, 2, 4, 5, 6],\n",
       " [9, 8, 7, 2, 3, 1, 4, 5, 6],\n",
       " [9, 8, 7, 1, 3, 2, 4, 5, 6],\n",
       " [9, 8, 7, 2, 1, 3, 4, 5, 6],\n",
       " [9, 8, 7, 1, 2, 3, 4, 5, 6],\n",
       " [9, 8, 6, 7, 5, 4, 3, 2, 1],\n",
       " [9, 8, 6, 7, 5, 4, 3, 1, 2],\n",
       " [9, 8, 6, 7, 5, 4, 2, 3, 1],\n",
       " [9, 8, 6, 7, 5, 4, 1, 3, 2],\n",
       " [9, 8, 6, 7, 5, 4, 2, 1, 3],\n",
       " [9, 8, 6, 7, 5, 4, 1, 2, 3],\n",
       " [9, 8, 6, 7, 5, 3, 4, 2, 1],\n",
       " [9, 8, 6, 7, 5, 3, 4, 1, 2],\n",
       " [9, 8, 6, 7, 5, 2, 4, 3, 1],\n",
       " [9, 8, 6, 7, 5, 1, 4, 3, 2],\n",
       " [9, 8, 6, 7, 5, 2, 4, 1, 3],\n",
       " [9, 8, 6, 7, 5, 1, 4, 2, 3],\n",
       " [9, 8, 6, 7, 5, 3, 2, 4, 1],\n",
       " [9, 8, 6, 7, 5, 3, 1, 4, 2],\n",
       " [9, 8, 6, 7, 5, 2, 3, 4, 1],\n",
       " [9, 8, 6, 7, 5, 1, 3, 4, 2],\n",
       " [9, 8, 6, 7, 5, 2, 1, 4, 3],\n",
       " [9, 8, 6, 7, 5, 1, 2, 4, 3],\n",
       " [9, 8, 6, 7, 5, 3, 2, 1, 4],\n",
       " [9, 8, 6, 7, 5, 3, 1, 2, 4],\n",
       " [9, 8, 6, 7, 5, 2, 3, 1, 4],\n",
       " [9, 8, 6, 7, 5, 1, 3, 2, 4],\n",
       " [9, 8, 6, 7, 5, 2, 1, 3, 4],\n",
       " [9, 8, 6, 7, 5, 1, 2, 3, 4],\n",
       " [9, 8, 6, 7, 4, 5, 3, 2, 1],\n",
       " [9, 8, 6, 7, 4, 5, 3, 1, 2],\n",
       " [9, 8, 6, 7, 4, 5, 2, 3, 1],\n",
       " [9, 8, 6, 7, 4, 5, 1, 3, 2],\n",
       " [9, 8, 6, 7, 4, 5, 2, 1, 3],\n",
       " [9, 8, 6, 7, 4, 5, 1, 2, 3],\n",
       " [9, 8, 6, 7, 3, 5, 4, 2, 1],\n",
       " [9, 8, 6, 7, 3, 5, 4, 1, 2],\n",
       " [9, 8, 6, 7, 2, 5, 4, 3, 1],\n",
       " [9, 8, 6, 7, 1, 5, 4, 3, 2],\n",
       " [9, 8, 6, 7, 2, 5, 4, 1, 3],\n",
       " [9, 8, 6, 7, 1, 5, 4, 2, 3],\n",
       " [9, 8, 6, 7, 3, 5, 2, 4, 1],\n",
       " [9, 8, 6, 7, 3, 5, 1, 4, 2],\n",
       " [9, 8, 6, 7, 2, 5, 3, 4, 1],\n",
       " [9, 8, 6, 7, 1, 5, 3, 4, 2],\n",
       " [9, 8, 6, 7, 2, 5, 1, 4, 3],\n",
       " [9, 8, 6, 7, 1, 5, 2, 4, 3],\n",
       " [9, 8, 6, 7, 3, 5, 2, 1, 4],\n",
       " [9, 8, 6, 7, 3, 5, 1, 2, 4],\n",
       " [9, 8, 6, 7, 2, 5, 3, 1, 4],\n",
       " [9, 8, 6, 7, 1, 5, 3, 2, 4],\n",
       " [9, 8, 6, 7, 2, 5, 1, 3, 4],\n",
       " [9, 8, 6, 7, 1, 5, 2, 3, 4],\n",
       " [9, 8, 6, 7, 4, 3, 5, 2, 1],\n",
       " [9, 8, 6, 7, 4, 3, 5, 1, 2],\n",
       " [9, 8, 6, 7, 4, 2, 5, 3, 1],\n",
       " [9, 8, 6, 7, 4, 1, 5, 3, 2],\n",
       " [9, 8, 6, 7, 4, 2, 5, 1, 3],\n",
       " [9, 8, 6, 7, 4, 1, 5, 2, 3],\n",
       " [9, 8, 6, 7, 3, 4, 5, 2, 1],\n",
       " [9, 8, 6, 7, 3, 4, 5, 1, 2],\n",
       " [9, 8, 6, 7, 2, 4, 5, 3, 1],\n",
       " [9, 8, 6, 7, 1, 4, 5, 3, 2],\n",
       " [9, 8, 6, 7, 2, 4, 5, 1, 3],\n",
       " [9, 8, 6, 7, 1, 4, 5, 2, 3],\n",
       " [9, 8, 6, 7, 3, 2, 5, 4, 1],\n",
       " [9, 8, 6, 7, 3, 1, 5, 4, 2],\n",
       " [9, 8, 6, 7, 2, 3, 5, 4, 1],\n",
       " [9, 8, 6, 7, 1, 3, 5, 4, 2],\n",
       " [9, 8, 6, 7, 2, 1, 5, 4, 3],\n",
       " [9, 8, 6, 7, 1, 2, 5, 4, 3],\n",
       " [9, 8, 6, 7, 3, 2, 5, 1, 4],\n",
       " [9, 8, 6, 7, 3, 1, 5, 2, 4],\n",
       " [9, 8, 6, 7, 2, 3, 5, 1, 4],\n",
       " [9, 8, 6, 7, 1, 3, 5, 2, 4],\n",
       " [9, 8, 6, 7, 2, 1, 5, 3, 4],\n",
       " [9, 8, 6, 7, 1, 2, 5, 3, 4],\n",
       " [9, 8, 6, 7, 4, 3, 2, 5, 1],\n",
       " [9, 8, 6, 7, 4, 3, 1, 5, 2],\n",
       " [9, 8, 6, 7, 4, 2, 3, 5, 1],\n",
       " [9, 8, 6, 7, 4, 1, 3, 5, 2],\n",
       " [9, 8, 6, 7, 4, 2, 1, 5, 3],\n",
       " [9, 8, 6, 7, 4, 1, 2, 5, 3],\n",
       " [9, 8, 6, 7, 3, 4, 2, 5, 1],\n",
       " [9, 8, 6, 7, 3, 4, 1, 5, 2],\n",
       " [9, 8, 6, 7, 2, 4, 3, 5, 1],\n",
       " [9, 8, 6, 7, 1, 4, 3, 5, 2],\n",
       " [9, 8, 6, 7, 2, 4, 1, 5, 3],\n",
       " [9, 8, 6, 7, 1, 4, 2, 5, 3],\n",
       " [9, 8, 6, 7, 3, 2, 4, 5, 1],\n",
       " [9, 8, 6, 7, 3, 1, 4, 5, 2],\n",
       " [9, 8, 6, 7, 2, 3, 4, 5, 1],\n",
       " [9, 8, 6, 7, 1, 3, 4, 5, 2],\n",
       " [9, 8, 6, 7, 2, 1, 4, 5, 3],\n",
       " [9, 8, 6, 7, 1, 2, 4, 5, 3],\n",
       " [9, 8, 6, 7, 3, 2, 1, 5, 4],\n",
       " [9, 8, 6, 7, 3, 1, 2, 5, 4],\n",
       " [9, 8, 6, 7, 2, 3, 1, 5, 4],\n",
       " [9, 8, 6, 7, 1, 3, 2, 5, 4],\n",
       " [9, 8, 6, 7, 2, 1, 3, 5, 4],\n",
       " [9, 8, 6, 7, 1, 2, 3, 5, 4],\n",
       " [9, 8, 6, 7, 4, 3, 2, 1, 5],\n",
       " [9, 8, 6, 7, 4, 3, 1, 2, 5],\n",
       " [9, 8, 6, 7, 4, 2, 3, 1, 5],\n",
       " [9, 8, 6, 7, 4, 1, 3, 2, 5],\n",
       " [9, 8, 6, 7, 4, 2, 1, 3, 5],\n",
       " [9, 8, 6, 7, 4, 1, 2, 3, 5],\n",
       " [9, 8, 6, 7, 3, 4, 2, 1, 5],\n",
       " [9, 8, 6, 7, 3, 4, 1, 2, 5],\n",
       " [9, 8, 6, 7, 2, 4, 3, 1, 5],\n",
       " [9, 8, 6, 7, 1, 4, 3, 2, 5],\n",
       " [9, 8, 6, 7, 2, 4, 1, 3, 5],\n",
       " [9, 8, 6, 7, 1, 4, 2, 3, 5],\n",
       " [9, 8, 6, 7, 3, 2, 4, 1, 5],\n",
       " [9, 8, 6, 7, 3, 1, 4, 2, 5],\n",
       " [9, 8, 6, 7, 2, 3, 4, 1, 5],\n",
       " [9, 8, 6, 7, 1, 3, 4, 2, 5],\n",
       " [9, 8, 6, 7, 2, 1, 4, 3, 5],\n",
       " [9, 8, 6, 7, 1, 2, 4, 3, 5],\n",
       " [9, 8, 6, 7, 3, 2, 1, 4, 5],\n",
       " [9, 8, 6, 7, 3, 1, 2, 4, 5],\n",
       " [9, 8, 6, 7, 2, 3, 1, 4, 5],\n",
       " [9, 8, 6, 7, 1, 3, 2, 4, 5],\n",
       " [9, 8, 6, 7, 2, 1, 3, 4, 5],\n",
       " [9, 8, 6, 7, 1, 2, 3, 4, 5],\n",
       " [9, 8, 5, 7, 6, 4, 3, 2, 1],\n",
       " [9, 8, 5, 7, 6, 4, 3, 1, 2],\n",
       " [9, 8, 5, 7, 6, 4, 2, 3, 1],\n",
       " [9, 8, 5, 7, 6, 4, 1, 3, 2],\n",
       " [9, 8, 5, 7, 6, 4, 2, 1, 3],\n",
       " [9, 8, 5, 7, 6, 4, 1, 2, 3],\n",
       " [9, 8, 5, 7, 6, 3, 4, 2, 1],\n",
       " [9, 8, 5, 7, 6, 3, 4, 1, 2],\n",
       " [9, 8, 5, 7, 6, 2, 4, 3, 1],\n",
       " [9, 8, 5, 7, 6, 1, 4, 3, 2],\n",
       " [9, 8, 5, 7, 6, 2, 4, 1, 3],\n",
       " [9, 8, 5, 7, 6, 1, 4, 2, 3],\n",
       " [9, 8, 5, 7, 6, 3, 2, 4, 1],\n",
       " [9, 8, 5, 7, 6, 3, 1, 4, 2],\n",
       " [9, 8, 5, 7, 6, 2, 3, 4, 1],\n",
       " [9, 8, 5, 7, 6, 1, 3, 4, 2],\n",
       " [9, 8, 5, 7, 6, 2, 1, 4, 3],\n",
       " [9, 8, 5, 7, 6, 1, 2, 4, 3],\n",
       " [9, 8, 5, 7, 6, 3, 2, 1, 4],\n",
       " [9, 8, 5, 7, 6, 3, 1, 2, 4],\n",
       " [9, 8, 5, 7, 6, 2, 3, 1, 4],\n",
       " [9, 8, 5, 7, 6, 1, 3, 2, 4],\n",
       " [9, 8, 5, 7, 6, 2, 1, 3, 4],\n",
       " [9, 8, 5, 7, 6, 1, 2, 3, 4],\n",
       " [9, 8, 4, 7, 6, 5, 3, 2, 1],\n",
       " [9, 8, 4, 7, 6, 5, 3, 1, 2],\n",
       " [9, 8, 4, 7, 6, 5, 2, 3, 1],\n",
       " [9, 8, 4, 7, 6, 5, 1, 3, 2],\n",
       " [9, 8, 4, 7, 6, 5, 2, 1, 3],\n",
       " [9, 8, 4, 7, 6, 5, 1, 2, 3],\n",
       " [9, 8, 3, 7, 6, 5, 4, 2, 1],\n",
       " [9, 8, 3, 7, 6, 5, 4, 1, 2],\n",
       " [9, 8, 2, 7, 6, 5, 4, 3, 1],\n",
       " [9, 8, 1, 7, 6, 5, 4, 3, 2],\n",
       " [9, 8, 2, 7, 6, 5, 4, 1, 3],\n",
       " [9, 8, 1, 7, 6, 5, 4, 2, 3],\n",
       " [9, 8, 3, 7, 6, 5, 2, 4, 1],\n",
       " [9, 8, 3, 7, 6, 5, 1, 4, 2],\n",
       " [9, 8, 2, 7, 6, 5, 3, 4, 1],\n",
       " [9, 8, 1, 7, 6, 5, 3, 4, 2],\n",
       " [9, 8, 2, 7, 6, 5, 1, 4, 3],\n",
       " [9, 8, 1, 7, 6, 5, 2, 4, 3],\n",
       " [9, 8, 3, 7, 6, 5, 2, 1, 4],\n",
       " [9, 8, 3, 7, 6, 5, 1, 2, 4],\n",
       " [9, 8, 2, 7, 6, 5, 3, 1, 4],\n",
       " [9, 8, 1, 7, 6, 5, 3, 2, 4],\n",
       " [9, 8, 2, 7, 6, 5, 1, 3, 4],\n",
       " [9, 8, 1, 7, 6, 5, 2, 3, 4],\n",
       " [9, 8, 4, 7, 6, 3, 5, 2, 1],\n",
       " [9, 8, 4, 7, 6, 3, 5, 1, 2],\n",
       " [9, 8, 4, 7, 6, 2, 5, 3, 1],\n",
       " [9, 8, 4, 7, 6, 1, 5, 3, 2],\n",
       " [9, 8, 4, 7, 6, 2, 5, 1, 3],\n",
       " [9, 8, 4, 7, 6, 1, 5, 2, 3],\n",
       " [9, 8, 3, 7, 6, 4, 5, 2, 1],\n",
       " [9, 8, 3, 7, 6, 4, 5, 1, 2],\n",
       " [9, 8, 2, 7, 6, 4, 5, 3, 1],\n",
       " [9, 8, 1, 7, 6, 4, 5, 3, 2],\n",
       " [9, 8, 2, 7, 6, 4, 5, 1, 3],\n",
       " [9, 8, 1, 7, 6, 4, 5, 2, 3],\n",
       " [9, 8, 3, 7, 6, 2, 5, 4, 1],\n",
       " [9, 8, 3, 7, 6, 1, 5, 4, 2],\n",
       " [9, 8, 2, 7, 6, 3, 5, 4, 1],\n",
       " [9, 8, 1, 7, 6, 3, 5, 4, 2],\n",
       " [9, 8, 2, 7, 6, 1, 5, 4, 3],\n",
       " [9, 8, 1, 7, 6, 2, 5, 4, 3],\n",
       " [9, 8, 3, 7, 6, 2, 5, 1, 4],\n",
       " [9, 8, 3, 7, 6, 1, 5, 2, 4],\n",
       " [9, 8, 2, 7, 6, 3, 5, 1, 4],\n",
       " [9, 8, 1, 7, 6, 3, 5, 2, 4],\n",
       " [9, 8, 2, 7, 6, 1, 5, 3, 4],\n",
       " [9, 8, 1, 7, 6, 2, 5, 3, 4],\n",
       " [9, 8, 4, 7, 6, 3, 2, 5, 1],\n",
       " [9, 8, 4, 7, 6, 3, 1, 5, 2],\n",
       " [9, 8, 4, 7, 6, 2, 3, 5, 1],\n",
       " [9, 8, 4, 7, 6, 1, 3, 5, 2],\n",
       " [9, 8, 4, 7, 6, 2, 1, 5, 3],\n",
       " [9, 8, 4, 7, 6, 1, 2, 5, 3],\n",
       " [9, 8, 3, 7, 6, 4, 2, 5, 1],\n",
       " [9, 8, 3, 7, 6, 4, 1, 5, 2],\n",
       " [9, 8, 2, 7, 6, 4, 3, 5, 1],\n",
       " [9, 8, 1, 7, 6, 4, 3, 5, 2],\n",
       " [9, 8, 2, 7, 6, 4, 1, 5, 3],\n",
       " [9, 8, 1, 7, 6, 4, 2, 5, 3],\n",
       " [9, 8, 3, 7, 6, 2, 4, 5, 1],\n",
       " [9, 8, 3, 7, 6, 1, 4, 5, 2],\n",
       " [9, 8, 2, 7, 6, 3, 4, 5, 1],\n",
       " [9, 8, 1, 7, 6, 3, 4, 5, 2],\n",
       " [9, 8, 2, 7, 6, 1, 4, 5, 3],\n",
       " [9, 8, 1, 7, 6, 2, 4, 5, 3],\n",
       " [9, 8, 3, 7, 6, 2, 1, 5, 4],\n",
       " [9, 8, 3, 7, 6, 1, 2, 5, 4],\n",
       " [9, 8, 2, 7, 6, 3, 1, 5, 4],\n",
       " [9, 8, 1, 7, 6, 3, 2, 5, 4],\n",
       " [9, 8, 2, 7, 6, 1, 3, 5, 4],\n",
       " [9, 8, 1, 7, 6, 2, 3, 5, 4],\n",
       " [9, 8, 4, 7, 6, 3, 2, 1, 5],\n",
       " [9, 8, 4, 7, 6, 3, 1, 2, 5],\n",
       " [9, 8, 4, 7, 6, 2, 3, 1, 5],\n",
       " [9, 8, 4, 7, 6, 1, 3, 2, 5],\n",
       " [9, 8, 4, 7, 6, 2, 1, 3, 5],\n",
       " [9, 8, 4, 7, 6, 1, 2, 3, 5],\n",
       " [9, 8, 3, 7, 6, 4, 2, 1, 5],\n",
       " [9, 8, 3, 7, 6, 4, 1, 2, 5],\n",
       " [9, 8, 2, 7, 6, 4, 3, 1, 5],\n",
       " [9, 8, 1, 7, 6, 4, 3, 2, 5],\n",
       " [9, 8, 2, 7, 6, 4, 1, 3, 5],\n",
       " [9, 8, 1, 7, 6, 4, 2, 3, 5],\n",
       " [9, 8, 3, 7, 6, 2, 4, 1, 5],\n",
       " [9, 8, 3, 7, 6, 1, 4, 2, 5],\n",
       " [9, 8, 2, 7, 6, 3, 4, 1, 5],\n",
       " [9, 8, 1, 7, 6, 3, 4, 2, 5],\n",
       " [9, 8, 2, 7, 6, 1, 4, 3, 5],\n",
       " [9, 8, 1, 7, 6, 2, 4, 3, 5],\n",
       " [9, 8, 3, 7, 6, 2, 1, 4, 5],\n",
       " [9, 8, 3, 7, 6, 1, 2, 4, 5],\n",
       " [9, 8, 2, 7, 6, 3, 1, 4, 5],\n",
       " [9, 8, 1, 7, 6, 3, 2, 4, 5],\n",
       " [9, 8, 2, 7, 6, 1, 3, 4, 5],\n",
       " [9, 8, 1, 7, 6, 2, 3, 4, 5],\n",
       " [9, 8, 5, 7, 4, 6, 3, 2, 1],\n",
       " [9, 8, 5, 7, 4, 6, 3, 1, 2],\n",
       " [9, 8, 5, 7, 4, 6, 2, 3, 1],\n",
       " [9, 8, 5, 7, 4, 6, 1, 3, 2],\n",
       " [9, 8, 5, 7, 4, 6, 2, 1, 3],\n",
       " [9, 8, 5, 7, 4, 6, 1, 2, 3],\n",
       " [9, 8, 5, 7, 3, 6, 4, 2, 1],\n",
       " [9, 8, 5, 7, 3, 6, 4, 1, 2],\n",
       " [9, 8, 5, 7, 2, 6, 4, 3, 1],\n",
       " [9, 8, 5, 7, 1, 6, 4, 3, 2],\n",
       " [9, 8, 5, 7, 2, 6, 4, 1, 3],\n",
       " [9, 8, 5, 7, 1, 6, 4, 2, 3],\n",
       " [9, 8, 5, 7, 3, 6, 2, 4, 1],\n",
       " [9, 8, 5, 7, 3, 6, 1, 4, 2],\n",
       " [9, 8, 5, 7, 2, 6, 3, 4, 1],\n",
       " [9, 8, 5, 7, 1, 6, 3, 4, 2],\n",
       " [9, 8, 5, 7, 2, 6, 1, 4, 3],\n",
       " [9, 8, 5, 7, 1, 6, 2, 4, 3],\n",
       " [9, 8, 5, 7, 3, 6, 2, 1, 4],\n",
       " [9, 8, 5, 7, 3, 6, 1, 2, 4],\n",
       " [9, 8, 5, 7, 2, 6, 3, 1, 4],\n",
       " [9, 8, 5, 7, 1, 6, 3, 2, 4],\n",
       " [9, 8, 5, 7, 2, 6, 1, 3, 4],\n",
       " [9, 8, 5, 7, 1, 6, 2, 3, 4],\n",
       " [9, 8, 4, 7, 5, 6, 3, 2, 1],\n",
       " [9, 8, 4, 7, 5, 6, 3, 1, 2],\n",
       " [9, 8, 4, 7, 5, 6, 2, 3, 1],\n",
       " [9, 8, 4, 7, 5, 6, 1, 3, 2],\n",
       " [9, 8, 4, 7, 5, 6, 2, 1, 3],\n",
       " [9, 8, 4, 7, 5, 6, 1, 2, 3],\n",
       " [9, 8, 3, 7, 5, 6, 4, 2, 1],\n",
       " [9, 8, 3, 7, 5, 6, 4, 1, 2],\n",
       " [9, 8, 2, 7, 5, 6, 4, 3, 1],\n",
       " [9, 8, 1, 7, 5, 6, 4, 3, 2],\n",
       " [9, 8, 2, 7, 5, 6, 4, 1, 3],\n",
       " [9, 8, 1, 7, 5, 6, 4, 2, 3],\n",
       " [9, 8, 3, 7, 5, 6, 2, 4, 1],\n",
       " [9, 8, 3, 7, 5, 6, 1, 4, 2],\n",
       " [9, 8, 2, 7, 5, 6, 3, 4, 1],\n",
       " [9, 8, 1, 7, 5, 6, 3, 4, 2],\n",
       " ...]"
      ]
     },
     "execution_count": 5,
     "metadata": {},
     "output_type": "execute_result"
    }
   ],
   "source": [
    "def permutation(n):\n",
    "    if n == 1:\n",
    "        return [[1]]\n",
    "    else:\n",
    "        last_list = permutation(n-1)\n",
    "        cur_list = []\n",
    "        for i in range(n):\n",
    "            for j in range(len(last_list)):\n",
    "                cur_list.append(last_list[j][:i]+[n]+last_list[j][i:])\n",
    "        return cur_list\n",
    "permutation(9)"
   ]
  }
 ],
 "metadata": {
  "kernelspec": {
   "display_name": "Python 3",
   "language": "python",
   "name": "python3"
  },
  "language_info": {
   "codemirror_mode": {
    "name": "ipython",
    "version": 3
   },
   "file_extension": ".py",
   "mimetype": "text/x-python",
   "name": "python",
   "nbconvert_exporter": "python",
   "pygments_lexer": "ipython3",
   "version": "3.6.2"
  }
 },
 "nbformat": 4,
 "nbformat_minor": 2
}
