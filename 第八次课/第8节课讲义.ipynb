{
 "cells": [
  {
   "cell_type": "markdown",
   "metadata": {},
   "source": [
    "# python语言与计算机科学引论\n",
    "***\n",
    "2017/12/2（2017秋季学期最后一节课）"
   ]
  },
  {
   "cell_type": "markdown",
   "metadata": {},
   "source": [
    "上节课我们学习了面向对象编程中的基础：\n",
    "\n",
    "* 将问题抽象为对象或对象与对象间的操作\n",
    "* 对象的构造（```__init__```）\n",
    "* 运算符重载\n",
    "\n",
    "本节课继续讨论一些面向对象编程的概念，例如继承与多态。\n",
    "\n",
    "先回顾一下上节课末尾实现的**有理数**类："
   ]
  },
  {
   "cell_type": "code",
   "execution_count": 86,
   "metadata": {
    "collapsed": true
   },
   "outputs": [],
   "source": [
    "class Rat(object):\n",
    "    \n",
    "    def __init__(self, n, d):\n",
    "        self.n = n\n",
    "        self.d = d\n",
    "    \n",
    "    # self + a equals to q.add(a)\n",
    "    def add(self, a):            \n",
    "        new_numer = self.n*a.d + a.n*self.d\n",
    "        new_denom = self.d*a.d\n",
    "        return Rat(new_numer, new_denom)\n",
    "    \n",
    "    # 重载 + 运算\n",
    "    def __add__(self, a):\n",
    "        new_numer = self.n*a.d + a.n*self.d\n",
    "        new_denom = self.d*a.d\n",
    "        return Rat(new_numer, new_denom)\n",
    "   \n",
    "    # 重载 - 运算\n",
    "    def __sub__(self, a):\n",
    "        new_numer = self.n*a.d - a.n*self.d\n",
    "        new_denom = self.d*a.d\n",
    "        return Rat(new_numer, new_denom)\n",
    "    \n",
    "    def __eq__(self, a):\n",
    "        return self.n*a.d == self.d*a.n\n",
    "    '''\n",
    "    __mul__    *\n",
    "    __div__    /\n",
    "    __eq__     ==\n",
    "    '''\n",
    "    \n",
    "    # 改写实例输出\n",
    "    def __str__(self):\n",
    "        return '%d/%d' % (self.n, self.d)\n",
    "    \n",
    "    __repr__ = __str__"
   ]
  },
  {
   "cell_type": "code",
   "execution_count": 88,
   "metadata": {},
   "outputs": [
    {
     "data": {
      "text/plain": [
       "False"
      ]
     },
     "execution_count": 88,
     "metadata": {},
     "output_type": "execute_result"
    }
   ],
   "source": [
    "q1 = Rat(1, 2)\n",
    "q2 = Rat(1, 3)\n",
    "q3 = Rat(2, 4)\n",
    "q1.add(q2)\n",
    "q1==q2\n",
    "def add(q1, q2):\n",
    "    pass"
   ]
  },
  {
   "cell_type": "markdown",
   "metadata": {},
   "source": [
    "### 访问限制\n",
    "\n",
    "在Class内部，可以有**属性**和**方法**，而外部代码可以通过直接调用实例变量的方法来操作数据，这样，就隐藏了内部的复杂逻辑。\n",
    "\n",
    "但是，从前面```Rat```类的定义来看，外部代码还是可以自由地修改一个实例的 ```n```、```d``` 属性："
   ]
  },
  {
   "cell_type": "code",
   "execution_count": 36,
   "metadata": {},
   "outputs": [
    {
     "data": {
      "text/plain": [
       "1"
      ]
     },
     "execution_count": 36,
     "metadata": {},
     "output_type": "execute_result"
    }
   ],
   "source": [
    "q = Rat(1, 2)\n",
    "q.n"
   ]
  },
  {
   "cell_type": "code",
   "execution_count": 37,
   "metadata": {},
   "outputs": [
    {
     "data": {
      "text/plain": [
       "40/2"
      ]
     },
     "execution_count": 37,
     "metadata": {},
     "output_type": "execute_result"
    }
   ],
   "source": [
    "q.n = 40     # 修改有理数实例q的分子\n",
    "q"
   ]
  },
  {
   "cell_type": "markdown",
   "metadata": {},
   "source": [
    "如果要让内部属性不被外部访问，可以把**属性的名称前加上两个下划线\\__**，在Python中，实例的变量名如果以\\__开头，就变成了一个**私有变量（private）**，只有内部可以访问，外部不能访问，所以，我们把```Rat```类改一改："
   ]
  },
  {
   "cell_type": "code",
   "execution_count": 89,
   "metadata": {
    "collapsed": true
   },
   "outputs": [],
   "source": [
    "class Rat(object):\n",
    "    \n",
    "    def __init__(self, n, d):\n",
    "        self.__n = n      # __n为私有变量\n",
    "        self.__d = d      # __d为私有变量\n",
    "        \n",
    "    def __str__(self):\n",
    "        return '%d/%d' % (self.__n, self.__d)  # 类内部可以访问私有变量\n",
    "    \n",
    "    __repr__ = __str__"
   ]
  },
  {
   "cell_type": "markdown",
   "metadata": {},
   "source": [
    "改完后，对于外部代码来说，没什么变动，但是已经无法从外部访问 ```实例变量.__n``` 和 ```实例变量.__d``` 了："
   ]
  },
  {
   "cell_type": "code",
   "execution_count": 90,
   "metadata": {},
   "outputs": [
    {
     "ename": "AttributeError",
     "evalue": "'Rat' object has no attribute '__n'",
     "output_type": "error",
     "traceback": [
      "\u001b[0;31m---------------------------------------------------------------------------\u001b[0m",
      "\u001b[0;31mAttributeError\u001b[0m                            Traceback (most recent call last)",
      "\u001b[0;32m<ipython-input-90-73f94a376afb>\u001b[0m in \u001b[0;36m<module>\u001b[0;34m()\u001b[0m\n\u001b[1;32m      1\u001b[0m \u001b[0mq\u001b[0m \u001b[0;34m=\u001b[0m \u001b[0mRat\u001b[0m\u001b[0;34m(\u001b[0m\u001b[0;36m1\u001b[0m\u001b[0;34m,\u001b[0m \u001b[0;36m2\u001b[0m\u001b[0;34m)\u001b[0m\u001b[0;34m\u001b[0m\u001b[0m\n\u001b[0;32m----> 2\u001b[0;31m \u001b[0mq\u001b[0m\u001b[0;34m.\u001b[0m\u001b[0m__n\u001b[0m\u001b[0;34m\u001b[0m\u001b[0m\n\u001b[0m",
      "\u001b[0;31mAttributeError\u001b[0m: 'Rat' object has no attribute '__n'"
     ]
    }
   ],
   "source": [
    "q = Rat(1, 2)\n",
    "q.__n"
   ]
  },
  {
   "cell_type": "markdown",
   "metadata": {},
   "source": [
    "这样就确保了外部代码不能随意修改对象内部的状态，这样通过访问限制的保护，代码更加**健壮**。\n",
    "\n",
    "但是如果外部代码要获取 ```n``` 和 ```d``` 怎么办？可以给 ```Rat``` 类增加 ```numer``` 和 ```denom``` 这样的方法："
   ]
  },
  {
   "cell_type": "code",
   "execution_count": 92,
   "metadata": {
    "collapsed": true
   },
   "outputs": [],
   "source": [
    "class Rat(object):\n",
    "    \n",
    "    def __init__(self, n, d):\n",
    "        self.__n = n      # __n为私有变量\n",
    "        self.__d = d      # __d为私有变量\n",
    "    \n",
    "    def numer(self):           # <---- 新增\n",
    "        return self.__n\n",
    "    \n",
    "    def denom(self):           # <---- 新增\n",
    "        return self.__d\n",
    "    \n",
    "    def __str__(self):\n",
    "        return '%d/%d' % (self.__n, self.__d)\n",
    "    __repr__ = __str__"
   ]
  },
  {
   "cell_type": "code",
   "execution_count": 93,
   "metadata": {},
   "outputs": [
    {
     "name": "stdout",
     "output_type": "stream",
     "text": [
      "1 9\n"
     ]
    }
   ],
   "source": [
    "q = Rat(1, 9)\n",
    "print(q.numer(), q.denom())"
   ]
  },
  {
   "cell_type": "markdown",
   "metadata": {},
   "source": [
    "如果又要允许外部代码修改```d```怎么办？可以再给```Rat```类增加 ```set_denom``` 方法："
   ]
  },
  {
   "cell_type": "code",
   "execution_count": 95,
   "metadata": {
    "collapsed": true
   },
   "outputs": [],
   "source": [
    "class Rat(object):\n",
    "    \n",
    "    def __init__(self, n, d):\n",
    "        self.__n = n      # __n为私有变量\n",
    "        self.__d = d      # __d为私有变量\n",
    "        \n",
    "    def __str__(self):\n",
    "        return '%d/%d' % (self.__n, self.__d)  # 类内部可以访问私有变量\n",
    "    \n",
    "    def numer(self):\n",
    "        return self.__n\n",
    "    \n",
    "    def denom(self):\n",
    "        return self.__d\n",
    "    \n",
    "    def set_denom(self, new_denom):                   # <---- 新增\n",
    "        if isinstance(new_denom, int):  # 类型检查\n",
    "            if new_denom:   # 除零检查\n",
    "                self.__d = new_denom\n",
    "            else:\n",
    "                raise ValueError('use zero as denominator')\n",
    "        else:\n",
    "            raise ValueError('denominator must be integers')\n",
    "    \n",
    "    def __str__(self):\n",
    "        return '%d/%d' % (self.__n, self.__d)\n",
    "    __repr__ = __str__"
   ]
  },
  {
   "cell_type": "code",
   "execution_count": 96,
   "metadata": {},
   "outputs": [
    {
     "data": {
      "text/plain": [
       "1/5"
      ]
     },
     "execution_count": 96,
     "metadata": {},
     "output_type": "execute_result"
    }
   ],
   "source": [
    "q = Rat(1, 2)\n",
    "q.set_denom(5)\n",
    "q"
   ]
  },
  {
   "cell_type": "markdown",
   "metadata": {},
   "source": [
    "你也许会问，原先那种直接通过 ```q.d = 5``` 也可以修改啊，为什么要定义一个方法大费周折？\n",
    "\n",
    "因为在方法中，可以对参数做检查，避免传入无效的参数："
   ]
  },
  {
   "cell_type": "code",
   "execution_count": 54,
   "metadata": {},
   "outputs": [
    {
     "ename": "ValueError",
     "evalue": "use zero as denominator",
     "output_type": "error",
     "traceback": [
      "\u001b[0;31m---------------------------------------------------------------------------\u001b[0m",
      "\u001b[0;31mValueError\u001b[0m                                Traceback (most recent call last)",
      "\u001b[0;32m<ipython-input-54-c7717034ef9d>\u001b[0m in \u001b[0;36m<module>\u001b[0;34m()\u001b[0m\n\u001b[0;32m----> 1\u001b[0;31m \u001b[0mq\u001b[0m\u001b[0;34m.\u001b[0m\u001b[0mset_denom\u001b[0m\u001b[0;34m(\u001b[0m\u001b[0;36m0\u001b[0m\u001b[0;34m)\u001b[0m\u001b[0;34m\u001b[0m\u001b[0m\n\u001b[0m",
      "\u001b[0;32m<ipython-input-48-b4e14e955c0b>\u001b[0m in \u001b[0;36mset_denom\u001b[0;34m(self, new_denom)\u001b[0m\n\u001b[1;32m     19\u001b[0m                 \u001b[0mself\u001b[0m\u001b[0;34m.\u001b[0m\u001b[0m__d\u001b[0m \u001b[0;34m=\u001b[0m \u001b[0mnew_denom\u001b[0m\u001b[0;34m\u001b[0m\u001b[0m\n\u001b[1;32m     20\u001b[0m             \u001b[0;32melse\u001b[0m\u001b[0;34m:\u001b[0m\u001b[0;34m\u001b[0m\u001b[0m\n\u001b[0;32m---> 21\u001b[0;31m                 \u001b[0;32mraise\u001b[0m \u001b[0mValueError\u001b[0m\u001b[0;34m(\u001b[0m\u001b[0;34m'use zero as denominator'\u001b[0m\u001b[0;34m)\u001b[0m\u001b[0;34m\u001b[0m\u001b[0m\n\u001b[0m\u001b[1;32m     22\u001b[0m         \u001b[0;32melse\u001b[0m\u001b[0;34m:\u001b[0m\u001b[0;34m\u001b[0m\u001b[0m\n\u001b[1;32m     23\u001b[0m             \u001b[0;32mraise\u001b[0m \u001b[0mValueError\u001b[0m\u001b[0;34m(\u001b[0m\u001b[0;34m'denominator must be integers'\u001b[0m\u001b[0;34m)\u001b[0m\u001b[0;34m\u001b[0m\u001b[0m\n",
      "\u001b[0;31mValueError\u001b[0m: use zero as denominator"
     ]
    }
   ],
   "source": [
    "q.set_denom(0)"
   ]
  },
  {
   "cell_type": "markdown",
   "metadata": {},
   "source": [
    "### 继承与多态\n",
    "在OOP程序设计中，当我们定义一个class的时候，可以从某个现有的class**继承**，新的class称为**子类（Subclass）**，而被继承的class称为**基类、父类或超类（Base class、Super class）**。\n",
    "\n",
    "比如，我们已经编写了一个名为Animal的class，有一个run()方法可以直接打印："
   ]
  },
  {
   "cell_type": "code",
   "execution_count": 97,
   "metadata": {
    "collapsed": true
   },
   "outputs": [],
   "source": [
    "class Animal():\n",
    "    def run(self):\n",
    "        print('Animal is running...')"
   ]
  },
  {
   "cell_type": "markdown",
   "metadata": {},
   "source": [
    "当我们需要编写Dog和Cat类时，就可以直接从Animal类继承："
   ]
  },
  {
   "cell_type": "code",
   "execution_count": 98,
   "metadata": {
    "collapsed": true
   },
   "outputs": [],
   "source": [
    "class Dog(Animal):\n",
    "    pass\n",
    "\n",
    "class Cat(Animal):\n",
    "    pass"
   ]
  },
  {
   "cell_type": "markdown",
   "metadata": {},
   "source": [
    "对于Dog来说，Animal就是它的父类，对于Animal来说，Dog就是它的子类。Cat和Dog类似。\n",
    "\n",
    "继承有什么好处？最大的好处是子类获得了父类的全部功能。由于Animial实现了run()方法，因此，Dog和Cat作为它的子类，什么事也没干，就自动拥有了run()方法："
   ]
  },
  {
   "cell_type": "code",
   "execution_count": 57,
   "metadata": {
    "scrolled": true
   },
   "outputs": [
    {
     "name": "stdout",
     "output_type": "stream",
     "text": [
      "Animal is running...\n",
      "Animal is running...\n"
     ]
    }
   ],
   "source": [
    "dog = Dog()\n",
    "dog.run()\n",
    "\n",
    "cat = Cat()\n",
    "cat.run()"
   ]
  },
  {
   "cell_type": "markdown",
   "metadata": {},
   "source": [
    "当然，也可以对子类增加一些方法，比如Dog类："
   ]
  },
  {
   "cell_type": "code",
   "execution_count": 63,
   "metadata": {
    "collapsed": true
   },
   "outputs": [],
   "source": [
    "class Dog(Animal):\n",
    "\n",
    "    def run(self):\n",
    "        print('Dog is running...')\n",
    "\n",
    "    def eat(self):\n",
    "        print('Eating meat...')"
   ]
  },
  {
   "cell_type": "markdown",
   "metadata": {},
   "source": [
    "继承的第二个好处需要我们对代码做一点改进。你看到了，无论是Dog还是Cat，它们run()的时候，显示的都是Animal is running...，符合逻辑的做法是分别显示Dog is running...和Cat is running...，因此，对Dog和Cat类改进如下："
   ]
  },
  {
   "cell_type": "code",
   "execution_count": 99,
   "metadata": {
    "collapsed": true
   },
   "outputs": [],
   "source": [
    "class Dog(Animal):\n",
    "\n",
    "    def run(self):\n",
    "        print('Dog is running...')\n",
    "\n",
    "class Cat(Animal):\n",
    "\n",
    "    def run(self):\n",
    "        print('Cat is running...')"
   ]
  },
  {
   "cell_type": "markdown",
   "metadata": {},
   "source": [
    "再次运行，结果如下："
   ]
  },
  {
   "cell_type": "code",
   "execution_count": 100,
   "metadata": {},
   "outputs": [
    {
     "name": "stdout",
     "output_type": "stream",
     "text": [
      "Dog is running...\n",
      "Cat is running...\n"
     ]
    }
   ],
   "source": [
    "dog = Dog()\n",
    "dog.run()\n",
    "\n",
    "cat = Cat()\n",
    "cat.run()"
   ]
  },
  {
   "cell_type": "markdown",
   "metadata": {},
   "source": [
    "当子类和父类都存在相同的run()方法时，我们说，子类的run()覆盖了父类的run()，在代码运行的时候，总是会调用子类的run()。这样，我们就获得了继承的另一个好处：**多态**。\n",
    "\n",
    "要理解什么是多态，我们首先要对数据类型再作一点说明。当我们定义一个class的时候，我们实际上就定义了一种数据类型。我们定义的数据类型和Python自带的数据类型，比如str、list、dict没什么两样："
   ]
  },
  {
   "cell_type": "code",
   "execution_count": 104,
   "metadata": {},
   "outputs": [
    {
     "data": {
      "text/plain": [
       "<__main__.Dog at 0xb0d6b34c>"
      ]
     },
     "execution_count": 104,
     "metadata": {},
     "output_type": "execute_result"
    }
   ],
   "source": [
    "a = list() # a是list类型 = []\n",
    "b = Animal() # b是Animal类型\n",
    "c = Dog() # c是Dog类型\n",
    "c"
   ]
  },
  {
   "cell_type": "markdown",
   "metadata": {},
   "source": [
    "判断一个变量是否是某个类型可以用isinstance()判断："
   ]
  },
  {
   "cell_type": "code",
   "execution_count": 66,
   "metadata": {},
   "outputs": [
    {
     "data": {
      "text/plain": [
       "True"
      ]
     },
     "execution_count": 66,
     "metadata": {},
     "output_type": "execute_result"
    }
   ],
   "source": [
    "isinstance(a, list)"
   ]
  },
  {
   "cell_type": "code",
   "execution_count": 67,
   "metadata": {},
   "outputs": [
    {
     "data": {
      "text/plain": [
       "True"
      ]
     },
     "execution_count": 67,
     "metadata": {},
     "output_type": "execute_result"
    }
   ],
   "source": [
    "isinstance(b, Animal)"
   ]
  },
  {
   "cell_type": "code",
   "execution_count": 68,
   "metadata": {},
   "outputs": [
    {
     "data": {
      "text/plain": [
       "True"
      ]
     },
     "execution_count": 68,
     "metadata": {},
     "output_type": "execute_result"
    }
   ],
   "source": [
    "isinstance(c, Dog)"
   ]
  },
  {
   "cell_type": "markdown",
   "metadata": {},
   "source": [
    "看来a、b、c确实对应着list、Animal、Dog这3种类型。\n",
    "\n",
    "但是等等，试试："
   ]
  },
  {
   "cell_type": "code",
   "execution_count": 69,
   "metadata": {},
   "outputs": [
    {
     "data": {
      "text/plain": [
       "True"
      ]
     },
     "execution_count": 69,
     "metadata": {},
     "output_type": "execute_result"
    }
   ],
   "source": [
    "isinstance(c, Animal)"
   ]
  },
  {
   "cell_type": "markdown",
   "metadata": {},
   "source": [
    "看来c不仅仅是Dog，c还是Animal！\n",
    "\n",
    "不过仔细想想，这是有道理的，因为Dog是从Animal继承下来的，当我们创建了一个Dog的实例c时，我们认为c的数据类型是Dog没错，但c同时也是Animal也没错，Dog本来就是Animal的一种！\n",
    "\n",
    "所以，**在继承关系中，如果一个实例的数据类型是某个子类，那它的数据类型也可以被看做是父类**。但是，反过来就不行："
   ]
  },
  {
   "cell_type": "code",
   "execution_count": 70,
   "metadata": {},
   "outputs": [
    {
     "data": {
      "text/plain": [
       "False"
      ]
     },
     "execution_count": 70,
     "metadata": {},
     "output_type": "execute_result"
    }
   ],
   "source": [
    "isinstance(b, Dog)"
   ]
  },
  {
   "cell_type": "markdown",
   "metadata": {},
   "source": [
    "Dog可以看成Animal，但Animal不可以看成Dog。\n",
    "\n",
    "要理解多态的好处，我们还需要再编写一个函数，这个函数接受一个Animal类型的变量："
   ]
  },
  {
   "cell_type": "code",
   "execution_count": 109,
   "metadata": {
    "collapsed": true
   },
   "outputs": [],
   "source": [
    "def run_twice(animal):\n",
    "    if isinstance(animal, Animal):\n",
    "        animal.run()\n",
    "        animal.run()\n",
    "    else:\n",
    "        raise ValueError('...')"
   ]
  },
  {
   "cell_type": "markdown",
   "metadata": {},
   "source": [
    "当我们传入Animal的实例时，run_twice()就打印出："
   ]
  },
  {
   "cell_type": "code",
   "execution_count": 106,
   "metadata": {},
   "outputs": [
    {
     "name": "stdout",
     "output_type": "stream",
     "text": [
      "Animal is running...\n",
      "Animal is running...\n"
     ]
    }
   ],
   "source": [
    "run_twice(Animal())"
   ]
  },
  {
   "cell_type": "markdown",
   "metadata": {},
   "source": [
    "当我们传入Dog的实例时，run_twice()就打印出："
   ]
  },
  {
   "cell_type": "code",
   "execution_count": 107,
   "metadata": {},
   "outputs": [
    {
     "name": "stdout",
     "output_type": "stream",
     "text": [
      "Dog is running...\n",
      "Dog is running...\n"
     ]
    }
   ],
   "source": [
    "run_twice(Dog())"
   ]
  },
  {
   "cell_type": "markdown",
   "metadata": {},
   "source": [
    "当我们传入Cat的实例时，run_twice()就打印出："
   ]
  },
  {
   "cell_type": "code",
   "execution_count": 75,
   "metadata": {},
   "outputs": [
    {
     "name": "stdout",
     "output_type": "stream",
     "text": [
      "Cat is running...\n",
      "Cat is running...\n"
     ]
    }
   ],
   "source": [
    "run_twice(Cat())"
   ]
  },
  {
   "cell_type": "markdown",
   "metadata": {},
   "source": [
    "看上去没啥意思，但是仔细想想，现在，如果我们再定义一个Tortoise类型，也从Animal派生："
   ]
  },
  {
   "cell_type": "code",
   "execution_count": 108,
   "metadata": {
    "collapsed": true
   },
   "outputs": [],
   "source": [
    "class Tortoise(Animal):\n",
    "    \n",
    "    def run(self):\n",
    "        print('Tortoise is running slowly...')"
   ]
  },
  {
   "cell_type": "markdown",
   "metadata": {},
   "source": [
    "当我们调用run_twice()时，传入Tortoise的实例："
   ]
  },
  {
   "cell_type": "code",
   "execution_count": 77,
   "metadata": {},
   "outputs": [
    {
     "name": "stdout",
     "output_type": "stream",
     "text": [
      "Tortoise is running slowly...\n",
      "Tortoise is running slowly...\n"
     ]
    }
   ],
   "source": [
    "run_twice(Tortoise())"
   ]
  },
  {
   "cell_type": "markdown",
   "metadata": {},
   "source": [
    "你会发现，新增一个Animal的子类，不必对run_twice()做任何修改，实际上，任何依赖Animal作为参数的函数或者方法都可以不加修改地正常运行，原因就在于多态。\n",
    "\n",
    "多态的好处就是，当我们需要传入Dog、Cat、Tortoise……时，我们只需要接收Animal类型就可以了，因为Dog、Cat、Tortoise……都是Animal类型，然后，按照Animal类型进行操作即可。由于Animal类型有run()方法，因此，传入的任意类型，只要是Animal类或者子类，就会自动调用实际类型的run()方法，这就是多态的意思：\n",
    "\n",
    "对于一个变量，我们只需要知道它是Animal类型，无需确切地知道它的子类型，就可以放心地调用run()方法，而具体调用的run()方法是作用在Animal、Dog、Cat还是Tortoise对象上，由运行时该对象的确切类型决定，这就是多态真正的威力：调用方只管调用，不管细节，而当我们新增一种Animal的子类时，只要确保run()方法编写正确，不用管原来的代码是如何调用的。这就是著名的“开闭”原则：\n",
    "\n",
    "对扩展开放：允许新增Animal子类；\n",
    "\n",
    "对修改封闭：不需要修改依赖Animal类型的run_twice()等函数。\n",
    "\n",
    "继承还可以一级一级地继承下来，就好比从爷爷到爸爸、再到儿子这样的关系。而任何类，最终都可以追溯到根类object，这些继承关系看上去就像一颗倒着的树。继承还可以一级一级地继承下来，就好比从爷爷到爸爸、再到儿子这样的关系。而任何类，最终都可以追溯到根类object，这些继承关系看上去就像一颗倒着的树。比如如下的继承树：\n",
    "\n",
    "                ┌───────────────┐\n",
    "                │    object     │\n",
    "                └───────────────┘\n",
    "                        │\n",
    "           ┌────────────┴────────────┐\n",
    "           │                         │\n",
    "           ▼                         ▼\n",
    "    ┌─────────────┐           ┌─────────────┐\n",
    "    │   Animal    │           │    Plant    │\n",
    "    └─────────────┘           └─────────────┘\n",
    "           │                         │\n",
    "     ┌─────┴──────┐            ┌─────┴──────┐\n",
    "     │            │            │            │\n",
    "     ▼            ▼            ▼            ▼\n",
    "┌─────────┐  ┌─────────┐  ┌─────────┐  ┌─────────┐\n",
    "│   Dog   │  │   Cat   │  │  Tree   │  │ Flower  │\n",
    "└─────────┘  └─────────┘  └─────────┘  └─────────┘\n",
    "\n"
   ]
  },
  {
   "cell_type": "code",
   "execution_count": 203,
   "metadata": {
    "collapsed": true
   },
   "outputs": [],
   "source": [
    "def gcd(a, b):\n",
    "    r = b%a\n",
    "    return a if r == 0 else gcd(r, a)\n",
    "\n",
    "class Rat(object):\n",
    "    \n",
    "    def __init__(self, n=0, d=1):\n",
    "        if isinstance(n, int) and isinstance(d, int):\n",
    "            if d:\n",
    "                if n:\n",
    "                    q = abs(gcd(n, d))\n",
    "                    n, d = (abs(n)//q, abs(d)//q) if n*d >= 0 else (-abs(n)//q, abs(d)//q)\n",
    "                else:\n",
    "                    d = 1\n",
    "                self.n = n\n",
    "                self.d = d\n",
    "            else:\n",
    "                raise ValueError('use zero as denominator')\n",
    "        else:\n",
    "            raise ValueError('denominator and numerator must be integers')\n",
    "            \n",
    "    def numer(self):\n",
    "        return self.n\n",
    "    \n",
    "    def denom(self):\n",
    "        return self.d\n",
    "    \n",
    "    # 重载 + 运算\n",
    "    def __add__(self, a):\n",
    "        new_numer = self.n*a.d + a.n*self.d\n",
    "        new_denom = self.d*a.d\n",
    "        return Rat(new_numer, new_denom)\n",
    "   \n",
    "    # 重载 - 运算\n",
    "    def __sub__(self, a):\n",
    "        new_numer = self.n*a.d - a.n*self.d\n",
    "        new_denom = self.d*a.d\n",
    "        return Rat(new_numer, new_denom)\n",
    "    \n",
    "    def __mul__(self, a):\n",
    "        new_numer = self.n*a.n\n",
    "        new_denom = self.d*a.d\n",
    "        return Rat(new_numer, new_denom)\n",
    "    \n",
    "    def __truediv__(self, a):\n",
    "        new_numer = self.n*a.d\n",
    "        new_denom = self.d*a.n\n",
    "        return Rat(new_numer, new_denom)\n",
    "    \n",
    "    def __eq__(self, a):\n",
    "        return self.n*a.d == self.d*a.n\n",
    "    \n",
    "    def __str__(self):\n",
    "        return '%d/%d' % (self.n, self.d) if self.d != 1 else str(self.n)\n",
    "    __repr__ = __str__"
   ]
  },
  {
   "cell_type": "code",
   "execution_count": 201,
   "metadata": {
    "collapsed": true
   },
   "outputs": [],
   "source": [
    "from functools import reduce\n",
    "\n",
    "def rsum(l):\n",
    "    return reduce(lambda a, b: a+b, l)\n",
    "\n",
    "class poly(object):\n",
    "\n",
    "    def __init__(self, coef):\n",
    "\n",
    "        def regular(c):\n",
    "            return c if c[-1] != Rat() or len(c) == 1 else regular(c[:-1])\n",
    "\n",
    "        self.coef = regular(coef)\n",
    "        self.rank = len(self.coef)-1\n",
    "    # len()\n",
    "    def __len__(self):\n",
    "        return self.rank\n",
    "\n",
    "    def __add__(self, a):\n",
    "        r = max(self.rank, a.rank)\n",
    "        return poly([(self.coef[i] if i <= self.rank else Rat()) +\n",
    "                     (a.coef[i] if i <= a.rank else Rat())\n",
    "                     for i in range(r+1)])\n",
    "\n",
    "    def __sub__(self, a):\n",
    "        r = max(self.rank, a.rank)\n",
    "        return poly([(self.coef[i] if i <= self.rank else Rat()) -\n",
    "                     (a.coef[i] if i <= a.rank else Rat())\n",
    "                     for i in range(r + 1)])\n",
    "\n",
    "    def __mul__(self, a):\n",
    "        return poly([rsum([self.coef[j] * a.coef[i-j] \n",
    "                           for j in range(i+1)\n",
    "                           if 0 <= j <= self.rank and 0 <= i-j <= a.rank])\n",
    "                     for i in range(self.rank+a.rank+1)])\n",
    "    \n",
    "    def __truediv__(self, a):\n",
    "        def div_iter(p):\n",
    "            rank = p.rank-a.rank\n",
    "            if rank < 0:\n",
    "                return poly([Rat()])\n",
    "            term = poly([p.coef[-1]/a.coef[-1] if i == rank else Rat()\n",
    "                         for i in range(rank+1)])\n",
    "            # print(term)\n",
    "            return term + div_iter(p-a*term)\n",
    "        return div_iter(self)\n",
    "            \n",
    "    def __repr__(self):\n",
    "        return str(self.coef)"
   ]
  },
  {
   "cell_type": "code",
   "execution_count": 166,
   "metadata": {},
   "outputs": [
    {
     "data": {
      "text/plain": [
       "1"
      ]
     },
     "execution_count": 166,
     "metadata": {},
     "output_type": "execute_result"
    }
   ],
   "source": [
    "rsum([Rat(), Rat(1)])"
   ]
  },
  {
   "cell_type": "code",
   "execution_count": 206,
   "metadata": {},
   "outputs": [
    {
     "data": {
      "text/plain": [
       "[13/27, 5/9, 4/3]"
      ]
     },
     "execution_count": 206,
     "metadata": {},
     "output_type": "execute_result"
    }
   ],
   "source": [
    "poly([Rat(i) for i in range(5)]) / poly([Rat(), Rat(1), Rat(3)])"
   ]
  }
 ],
 "metadata": {
  "kernelspec": {
   "display_name": "Python 3",
   "language": "python",
   "name": "python3"
  },
  "language_info": {
   "codemirror_mode": {
    "name": "ipython",
    "version": 3
   },
   "file_extension": ".py",
   "mimetype": "text/x-python",
   "name": "python",
   "nbconvert_exporter": "python",
   "pygments_lexer": "ipython3",
   "version": "3.6.2"
  }
 },
 "nbformat": 4,
 "nbformat_minor": 2
}
