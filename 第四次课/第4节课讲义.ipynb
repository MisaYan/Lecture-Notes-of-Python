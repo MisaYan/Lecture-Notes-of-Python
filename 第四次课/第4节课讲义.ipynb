{
 "cells": [
  {
   "cell_type": "markdown",
   "metadata": {},
   "source": [
    "# python语言与计算机科学引论\n",
    "***\n",
    "2017/11/5 第四次课"
   ]
  },
  {
   "cell_type": "markdown",
   "metadata": {},
   "source": [
    "### 函数的参数\n",
    "定义函数的时候，我们把参数的名字和位置确定下来，函数的接口定义就完成了。对于函数的调用者来说，只需要知道如何传递正确的参数，以及函数将返回什\n",
    "么样的值就够了，函数内部的复杂逻辑被封装起来，调用者无需了解。\n",
    "\n",
    "Python的函数定义非常简单，但灵活度却非常大。除了正常定义的必选参数外，还可以使用默认参数、可变参数和关键字参数，使得函数定义出来的接口，不但能处理复杂的参数，还可以简化调用者的代码。"
   ]
  },
  {
   "cell_type": "markdown",
   "metadata": {},
   "source": [
    "#### 位置参数\n",
    "我们先写一个计算$x^2$的函数："
   ]
  },
  {
   "cell_type": "code",
   "execution_count": 1,
   "metadata": {
    "collapsed": true
   },
   "outputs": [],
   "source": [
    "def power(x):\n",
    "    return x * x"
   ]
  },
  {
   "cell_type": "markdown",
   "metadata": {},
   "source": [
    "对于```power(x)```函数，参数```x```就是一个位置参数。\n",
    "\n",
    "当我们调用```power```函数时，必须传入有且仅有的一个参数```x```："
   ]
  },
  {
   "cell_type": "code",
   "execution_count": 2,
   "metadata": {},
   "outputs": [
    {
     "data": {
      "text/plain": [
       "625"
      ]
     },
     "execution_count": 2,
     "metadata": {},
     "output_type": "execute_result"
    }
   ],
   "source": [
    "power(25)"
   ]
  },
  {
   "cell_type": "markdown",
   "metadata": {},
   "source": [
    "现在，如果我们要计算$x^3$怎么办？可以再定义一个```power_3```函数，但是如果要计算$x^4,x^5,\\ldots$ 怎么办？我们不可能定义无限多个函数。\n",
    "\n",
    "你也许想到了，可以把```power(x)```修改为```power(x, n)```，用来计算$x^n$，说干就干："
   ]
  },
  {
   "cell_type": "code",
   "execution_count": 6,
   "metadata": {
    "collapsed": true
   },
   "outputs": [],
   "source": [
    "def power(x, n):\n",
    "    s = 1\n",
    "    while n > 0:\n",
    "        n -= 1\n",
    "        s *= x\n",
    "    return s"
   ]
  },
  {
   "cell_type": "markdown",
   "metadata": {},
   "source": [
    "对于这个修改后的```power(x, n)```函数，可以计算任意n次方："
   ]
  },
  {
   "cell_type": "code",
   "execution_count": 7,
   "metadata": {},
   "outputs": [
    {
     "data": {
      "text/plain": [
       "125"
      ]
     },
     "execution_count": 7,
     "metadata": {},
     "output_type": "execute_result"
    }
   ],
   "source": [
    "power(5, 3)"
   ]
  },
  {
   "cell_type": "markdown",
   "metadata": {},
   "source": [
    "修改后的```power(x, n)```函数有两个参数：```x```和```n```，这两个参数都是位置参数，调用函数时，传入的两个值按照位置顺序依次赋给参数```x```和```n```。"
   ]
  },
  {
   "cell_type": "markdown",
   "metadata": {},
   "source": [
    "#### 默认参数\n",
    "新的```power(x, n)```函数定义没有问题，但是，旧的调用代码失败了，原因是我们增加了一个参数，导致旧的代码因为缺少一个参数而无法正常调用："
   ]
  },
  {
   "cell_type": "code",
   "execution_count": 8,
   "metadata": {},
   "outputs": [
    {
     "ename": "TypeError",
     "evalue": "power() missing 1 required positional argument: 'n'",
     "output_type": "error",
     "traceback": [
      "\u001b[0;31m---------------------------------------------------------------------------\u001b[0m",
      "\u001b[0;31mTypeError\u001b[0m                                 Traceback (most recent call last)",
      "\u001b[0;32m<ipython-input-8-1fcd865a69f9>\u001b[0m in \u001b[0;36m<module>\u001b[0;34m()\u001b[0m\n\u001b[0;32m----> 1\u001b[0;31m \u001b[0mpower\u001b[0m\u001b[0;34m(\u001b[0m\u001b[0;36m5\u001b[0m\u001b[0;34m)\u001b[0m\u001b[0;34m\u001b[0m\u001b[0m\n\u001b[0m",
      "\u001b[0;31mTypeError\u001b[0m: power() missing 1 required positional argument: 'n'"
     ]
    }
   ],
   "source": [
    "power(5)"
   ]
  },
  {
   "cell_type": "markdown",
   "metadata": {},
   "source": [
    "Python的错误信息很明确：调用函数```power()```缺少了一个位置参数```n```。\n",
    "\n",
    "这个时候，默认参数就排上用场了。由于我们经常计算$x^2$，所以，完全可以把第二个参数n的默认值设定为2："
   ]
  },
  {
   "cell_type": "code",
   "execution_count": 10,
   "metadata": {
    "collapsed": true
   },
   "outputs": [],
   "source": [
    "def power(x, n=2):\n",
    "    s = 1\n",
    "    while n > 0:\n",
    "        n = n - 1\n",
    "        s = s * x\n",
    "    return s"
   ]
  },
  {
   "cell_type": "markdown",
   "metadata": {},
   "source": [
    "这样，当我们调用```power(5)```时，相当于调用```power(5, 2)```："
   ]
  },
  {
   "cell_type": "code",
   "execution_count": 11,
   "metadata": {},
   "outputs": [
    {
     "data": {
      "text/plain": [
       "25"
      ]
     },
     "execution_count": 11,
     "metadata": {},
     "output_type": "execute_result"
    }
   ],
   "source": [
    "power(5)"
   ]
  },
  {
   "cell_type": "code",
   "execution_count": 12,
   "metadata": {},
   "outputs": [
    {
     "data": {
      "text/plain": [
       "25"
      ]
     },
     "execution_count": 12,
     "metadata": {},
     "output_type": "execute_result"
    }
   ],
   "source": [
    "power(5, 2)"
   ]
  },
  {
   "cell_type": "markdown",
   "metadata": {},
   "source": [
    "而对于n > 2的其他情况，就必须明确地传入```n```，比如```power(5, 3)```。\n",
    "\n",
    "从上面的例子可以看出，默认参数可以简化函数的调用。设置默认参数时，有几点要注意：\n",
    "\n",
    "1. **必选参数在前，默认参数在后**，否则Python的解释器会报错（思考一下为什么默认参数不能放在必选参数前面）；\n",
    "\n",
    "2. 如何设置默认参数。\n",
    "\n",
    "当函数有多个参数时，把变化大的参数放前面，变化小的参数放后面。变化小的参数就可以作为默认参数。\n",
    "\n",
    "使用默认参数最大的好处是能降低调用函数的难度。\n",
    "\n",
    "举个例子，我们写个一年级小学生注册的函数，需要传入```name```和```gender```两个参数："
   ]
  },
  {
   "cell_type": "code",
   "execution_count": 13,
   "metadata": {
    "collapsed": true
   },
   "outputs": [],
   "source": [
    "def enroll(name, gender):\n",
    "    print('name:', name)\n",
    "    print('gender:', gender)"
   ]
  },
  {
   "cell_type": "markdown",
   "metadata": {},
   "source": [
    "这样，调用```enroll()```函数只需要传入两个参数："
   ]
  },
  {
   "cell_type": "code",
   "execution_count": 14,
   "metadata": {},
   "outputs": [
    {
     "name": "stdout",
     "output_type": "stream",
     "text": [
      "name: Sarah\n",
      "gender: F\n"
     ]
    }
   ],
   "source": [
    "enroll('Sarah', 'F')"
   ]
  },
  {
   "cell_type": "markdown",
   "metadata": {},
   "source": [
    "如果要继续传入年龄、城市等信息怎么办？这样会使得调用函数的复杂度大大增加。\n",
    "\n",
    "我们可以把年龄和城市设为默认参数："
   ]
  },
  {
   "cell_type": "code",
   "execution_count": 1,
   "metadata": {
    "collapsed": true
   },
   "outputs": [],
   "source": [
    "def enroll(name, gender, age=6, city='Beijing'):\n",
    "    print('name:', name)\n",
    "    print('gender:', gender)\n",
    "    print('age:', age)\n",
    "    print('city:', city)"
   ]
  },
  {
   "cell_type": "markdown",
   "metadata": {},
   "source": [
    "这样，大多数学生注册时不需要提供年龄和城市，只提供必须的两个参数："
   ]
  },
  {
   "cell_type": "code",
   "execution_count": 20,
   "metadata": {},
   "outputs": [
    {
     "name": "stdout",
     "output_type": "stream",
     "text": [
      "name: Sarah\n",
      "gender: F\n",
      "age: 6\n",
      "city: Beijing\n"
     ]
    }
   ],
   "source": [
    "enroll('Sarah', 'F')"
   ]
  },
  {
   "cell_type": "markdown",
   "metadata": {},
   "source": [
    "只有与默认参数不符的学生才需要提供额外的信息："
   ]
  },
  {
   "cell_type": "code",
   "execution_count": 21,
   "metadata": {
    "scrolled": true
   },
   "outputs": [
    {
     "name": "stdout",
     "output_type": "stream",
     "text": [
      "name: 朱政同\n",
      "gender: M\n",
      "age: 20\n",
      "city: Rizhao\n"
     ]
    }
   ],
   "source": [
    "enroll('朱政同', 'M', age=20, city='Rizhao')"
   ]
  },
  {
   "cell_type": "markdown",
   "metadata": {},
   "source": [
    "可见，默认参数降低了函数调用的难度，而一旦需要更复杂的调用时，又可以传递更多的参数来实现。无论是简单调用还是复杂调用，函数只需要定义一个。\n",
    "\n",
    "有多个默认参数时，调用的时候，既可以按顺序提供默认参数，比如调用```enroll('Bob', 'M', 7)```，意思是，除了name，gender这两个参数外，最后1个参数应用在参数age上，city参数由于没有提供，仍然使用默认值。\n",
    "\n",
    "也可以不按顺序提供部分默认参数。当不按顺序提供部分默认参数时，需要把参数名写上。比如调用```enroll('Adam', 'M', city='Tianjin')```，意思是，city参数用传进去的值，其他默认参数继续使用默认值。\n",
    "\n",
    "默认参数很有用，但使用不当，也会掉坑里。默认参数有个最大的坑，演示如下：\n",
    "\n",
    "先定义一个函数，传入一个```list```，添加一个```END```再返回："
   ]
  },
  {
   "cell_type": "code",
   "execution_count": 23,
   "metadata": {
    "collapsed": true
   },
   "outputs": [],
   "source": [
    "def add_end(L=[]):\n",
    "    L.append('END')\n",
    "    return L"
   ]
  },
  {
   "cell_type": "markdown",
   "metadata": {},
   "source": [
    "当你正常调用时，结果似乎不错："
   ]
  },
  {
   "cell_type": "code",
   "execution_count": 24,
   "metadata": {},
   "outputs": [
    {
     "data": {
      "text/plain": [
       "[1, 2, 3, 'END']"
      ]
     },
     "execution_count": 24,
     "metadata": {},
     "output_type": "execute_result"
    }
   ],
   "source": [
    "add_end([1, 2, 3])"
   ]
  },
  {
   "cell_type": "code",
   "execution_count": 26,
   "metadata": {},
   "outputs": [
    {
     "data": {
      "text/plain": [
       "['x', 'y', 'z', 'END']"
      ]
     },
     "execution_count": 26,
     "metadata": {},
     "output_type": "execute_result"
    }
   ],
   "source": [
    "add_end(['x', 'y', 'z'])"
   ]
  },
  {
   "cell_type": "markdown",
   "metadata": {},
   "source": [
    "当你使用默认参数调用时，一开始结果也是对的："
   ]
  },
  {
   "cell_type": "code",
   "execution_count": 27,
   "metadata": {},
   "outputs": [
    {
     "data": {
      "text/plain": [
       "['END']"
      ]
     },
     "execution_count": 27,
     "metadata": {},
     "output_type": "execute_result"
    }
   ],
   "source": [
    "add_end()"
   ]
  },
  {
   "cell_type": "markdown",
   "metadata": {},
   "source": [
    "但是，再次调用```add_end()```时，结果就不对了："
   ]
  },
  {
   "cell_type": "code",
   "execution_count": 28,
   "metadata": {},
   "outputs": [
    {
     "data": {
      "text/plain": [
       "['END', 'END']"
      ]
     },
     "execution_count": 28,
     "metadata": {},
     "output_type": "execute_result"
    }
   ],
   "source": [
    "add_end()"
   ]
  },
  {
   "cell_type": "code",
   "execution_count": 29,
   "metadata": {},
   "outputs": [
    {
     "data": {
      "text/plain": [
       "['END', 'END', 'END']"
      ]
     },
     "execution_count": 29,
     "metadata": {},
     "output_type": "execute_result"
    }
   ],
   "source": [
    "add_end()"
   ]
  },
  {
   "cell_type": "markdown",
   "metadata": {},
   "source": [
    "很多初学者很疑惑，默认参数是```[]```，但是函数似乎每次都“记住了”上次添加了```'END'```后的```list```。\n",
    "\n",
    "原因解释如下：\n",
    "\n",
    "Python函数在定义的时候，默认参数L的值就被计算出来了，即```[]```，因为**默认参数```L```也是一个变量，它指向对象```[]```**，每次调用该函数，如果改变了```L```的内容，则下次调用时，默认参数的内容就变了，不再是函数定义时的```[]```了。\n",
    "\n",
    "所以，定义默认参数要牢记一点：**默认参数必须指向不变对象!**\n",
    "\n",
    "要修改上面的例子，我们可以用```None```这个不变对象来实现："
   ]
  },
  {
   "cell_type": "code",
   "execution_count": 30,
   "metadata": {
    "collapsed": true
   },
   "outputs": [],
   "source": [
    "def add_end(L=None):\n",
    "    if L is None:\n",
    "        L = []\n",
    "    L.append('END')\n",
    "    return L"
   ]
  },
  {
   "cell_type": "markdown",
   "metadata": {},
   "source": [
    "现在，无论调用多少次，都不会有问题："
   ]
  },
  {
   "cell_type": "code",
   "execution_count": 32,
   "metadata": {},
   "outputs": [
    {
     "name": "stdout",
     "output_type": "stream",
     "text": [
      "['END']\n",
      "['END']\n",
      "['END']\n",
      "['END']\n"
     ]
    }
   ],
   "source": [
    "print(add_end())\n",
    "print(add_end())\n",
    "print(add_end())\n",
    "print(add_end())"
   ]
  },
  {
   "cell_type": "markdown",
   "metadata": {},
   "source": [
    "为什么要设计str、None这样的不变对象呢？\n",
    "\n",
    "因为不变对象一旦创建，对象内部的数据就不能修改，这样就减少了由于修改数据导致的错误。此外，由于对象不变，多任务环境下同时读取对象不需要加锁，同时读一点问题都没有。**我们在编写程序时，如果可以设计一个不变对象，那就尽量设计成不变对象**。"
   ]
  },
  {
   "cell_type": "markdown",
   "metadata": {},
   "source": [
    "#### 可变参数\n",
    "在Python函数中，还可以定义可变参数。顾名思义，可变参数就是传入的参数个数是可变的，可以是1个、2个到任意个，还可以是0个。\n",
    "\n",
    "我们以数学题为例子，给定一组数字 $a, b, c, \\ldots$，请计算 $a^2+ b^2+ c^2+ \\ldots$ \n",
    "\n",
    "要定义出这个函数，我们必须确定输入的参数。由于参数个数不确定，我们首先想到可以把 $a, b, c, \\ldots$ 作为一个```list```或```tuple```传进来，这样，函数可以定义如下："
   ]
  },
  {
   "cell_type": "code",
   "execution_count": 33,
   "metadata": {
    "collapsed": true
   },
   "outputs": [],
   "source": [
    "def calc(numbers):\n",
    "    sum = 0\n",
    "    for n in numbers:\n",
    "        sum += n * n\n",
    "    return sum"
   ]
  },
  {
   "cell_type": "markdown",
   "metadata": {},
   "source": [
    "但是调用的时候，需要先组装出一个```list```或```tuple```："
   ]
  },
  {
   "cell_type": "code",
   "execution_count": 34,
   "metadata": {},
   "outputs": [
    {
     "data": {
      "text/plain": [
       "14"
      ]
     },
     "execution_count": 34,
     "metadata": {},
     "output_type": "execute_result"
    }
   ],
   "source": [
    " calc([1, 2, 3])"
   ]
  },
  {
   "cell_type": "code",
   "execution_count": 35,
   "metadata": {},
   "outputs": [
    {
     "data": {
      "text/plain": [
       "84"
      ]
     },
     "execution_count": 35,
     "metadata": {},
     "output_type": "execute_result"
    }
   ],
   "source": [
    "calc((1, 3, 5, 7))"
   ]
  },
  {
   "cell_type": "markdown",
   "metadata": {},
   "source": [
    "如果利用可变参数，调用函数的方式可以简化成这样：\n",
    "```python\n",
    ">>> calc(1, 2, 3)\n",
    "14\n",
    ">>> calc(1, 3, 5, 7)\n",
    "84\n",
    "```\n",
    "\n",
    "所以，我们把函数的参数改为可变参数："
   ]
  },
  {
   "cell_type": "code",
   "execution_count": 41,
   "metadata": {
    "collapsed": true
   },
   "outputs": [],
   "source": [
    "def calc(*numbers):\n",
    "    sum = 0\n",
    "    for n in numbers:\n",
    "        sum = sum + n * n\n",
    "    return sum"
   ]
  },
  {
   "cell_type": "markdown",
   "metadata": {},
   "source": [
    "**定义可变参数和定义一个list或tuple参数相比，仅仅在参数前面加了一个\\*号**。在函数内部，参数numbers接收到的是一个tuple，因此，函数代码完全不变。但是，调用该函数时，可以传入任意个参数，包括0个参数："
   ]
  },
  {
   "cell_type": "code",
   "execution_count": 42,
   "metadata": {},
   "outputs": [
    {
     "data": {
      "text/plain": [
       "5"
      ]
     },
     "execution_count": 42,
     "metadata": {},
     "output_type": "execute_result"
    }
   ],
   "source": [
    "calc(1, 2)"
   ]
  },
  {
   "cell_type": "code",
   "execution_count": 38,
   "metadata": {},
   "outputs": [
    {
     "data": {
      "text/plain": [
       "0"
      ]
     },
     "execution_count": 38,
     "metadata": {},
     "output_type": "execute_result"
    }
   ],
   "source": [
    "calc()"
   ]
  },
  {
   "cell_type": "markdown",
   "metadata": {},
   "source": [
    "如果已经有一个list或者tuple，要调用一个可变参数怎么办？\n",
    "\n",
    "可以这样做："
   ]
  },
  {
   "cell_type": "code",
   "execution_count": 43,
   "metadata": {},
   "outputs": [
    {
     "data": {
      "text/plain": [
       "14"
      ]
     },
     "execution_count": 43,
     "metadata": {},
     "output_type": "execute_result"
    }
   ],
   "source": [
    "nums = [1, 2, 3]\n",
    "calc(nums[0], nums[1], nums[2])       # 太蠢了"
   ]
  },
  {
   "cell_type": "markdown",
   "metadata": {},
   "source": [
    "这种写法当然是可行的，问题是太繁琐，所以**Python允许你在list或tuple前面加一个*号，把list或tuple的元素变成可变参数传进去**："
   ]
  },
  {
   "cell_type": "code",
   "execution_count": 45,
   "metadata": {},
   "outputs": [
    {
     "data": {
      "text/plain": [
       "14"
      ]
     },
     "execution_count": 45,
     "metadata": {},
     "output_type": "execute_result"
    }
   ],
   "source": [
    "nums = [1, 2, 3]\n",
    "calc(*nums)                           # 很简洁"
   ]
  },
  {
   "cell_type": "markdown",
   "metadata": {},
   "source": [
    "**\\*nums表示把nums这个list的所有元素作为可变参数传进去**。这种写法相当有用，而且很常见。"
   ]
  },
  {
   "cell_type": "markdown",
   "metadata": {},
   "source": [
    "#### 关键字参数\n",
    "\n",
    "可变参数允许你传入0个或任意个参数，这些可变参数在函数调用时自动组装为一个tuple。而关键字参数允许你传入0个或任意个含参数名的参数，这些关键字参数在函数内部自动组装为一个**dict**。请看示例："
   ]
  },
  {
   "cell_type": "code",
   "execution_count": 46,
   "metadata": {
    "collapsed": true
   },
   "outputs": [],
   "source": [
    "def person(name, age, **kw):\n",
    "    print('name:', name, 'age:', age, 'other:', kw)"
   ]
  },
  {
   "cell_type": "markdown",
   "metadata": {},
   "source": [
    "函数```person```除了必选参数```name```和```age```外，还接受关键字参数```kw```。在调用该函数时，可以只传入必选参数："
   ]
  },
  {
   "cell_type": "code",
   "execution_count": 47,
   "metadata": {
    "scrolled": true
   },
   "outputs": [
    {
     "name": "stdout",
     "output_type": "stream",
     "text": [
      "name: Michael age: 30 other: {}\n"
     ]
    }
   ],
   "source": [
    "person('Michael', 30)"
   ]
  },
  {
   "cell_type": "markdown",
   "metadata": {},
   "source": [
    "也可以传入任意个数的关键字参数："
   ]
  },
  {
   "cell_type": "code",
   "execution_count": 49,
   "metadata": {},
   "outputs": [
    {
     "name": "stdout",
     "output_type": "stream",
     "text": [
      "name: Bob age: 35 other: {'city': 'Beijing'}\n"
     ]
    }
   ],
   "source": [
    "person('Bob', 35, city='Beijing')"
   ]
  },
  {
   "cell_type": "code",
   "execution_count": 51,
   "metadata": {},
   "outputs": [
    {
     "name": "stdout",
     "output_type": "stream",
     "text": [
      "name: Adam age: 45 other: {'gender': 'M', 'job': 'Engineer'}\n"
     ]
    }
   ],
   "source": [
    "person('Adam', 45, gender='M', job='Engineer')"
   ]
  },
  {
   "cell_type": "markdown",
   "metadata": {},
   "source": [
    "关键字参数有什么用？\n",
    "\n",
    "它可以扩展函数的功能。比如，在```person```函数里，我们保证能接收到```name```和```age```这两个参数，但是，如果调用者愿意提供更多的参数，我们也能收到。试想你正在做一个用户注册的功能，除了用户名和年龄是必填项外，其他都是可选项，利用关键字参数来定义这个函数就能满足注册的需求。\n",
    "\n",
    "和可变参数类似，也可以先组装出一个dict，然后，把该dict转换为关键字参数传进去："
   ]
  },
  {
   "cell_type": "code",
   "execution_count": 52,
   "metadata": {},
   "outputs": [
    {
     "name": "stdout",
     "output_type": "stream",
     "text": [
      "name: Jack age: 24 other: {'city': 'Beijing', 'job': 'Engineer'}\n"
     ]
    }
   ],
   "source": [
    "extra = {'city': 'Beijing', 'job': 'Engineer'}\n",
    "person('Jack', 24, city=extra['city'], job=extra['job'])          # 比较蠢"
   ]
  },
  {
   "cell_type": "markdown",
   "metadata": {},
   "source": [
    "当然，上面复杂的调用可以用简化的写法："
   ]
  },
  {
   "cell_type": "code",
   "execution_count": 54,
   "metadata": {},
   "outputs": [
    {
     "name": "stdout",
     "output_type": "stream",
     "text": [
      "name: Jack age: 24 other: {'city': 'Beijing', 'job': 'Engineer'}\n"
     ]
    }
   ],
   "source": [
    "extra = {'city': 'Beijing', 'job': 'Engineer'}\n",
    "person('Jack', 24, **extra)                                       # 简洁优雅"
   ]
  },
  {
   "cell_type": "markdown",
   "metadata": {},
   "source": [
    "**\\*\\*extra表示把extra这个dict的所有key-value用关键字参数传入到函数的\\*\\*kw参数**，kw将获得一个dict，注意kw获得的dict是extra的一份拷贝，对kw的改动不会影响到函数外的extra。"
   ]
  },
  {
   "cell_type": "markdown",
   "metadata": {},
   "source": [
    "#### 命名关键字参数\n",
    "\n",
    "对于关键字参数，函数的调用者可以传入任意不受限制的关键字参数。至于到底传入了哪些，就需要在函数内部通过```kw```检查。\n",
    "\n",
    "仍以```person()```函数为例，我们希望检查是否有```city```和```job```参数："
   ]
  },
  {
   "cell_type": "code",
   "execution_count": 55,
   "metadata": {
    "collapsed": true
   },
   "outputs": [],
   "source": [
    "def person(name, age, **kw):\n",
    "    if 'city' in kw:\n",
    "        # 有city参数\n",
    "        pass\n",
    "    if 'job' in kw:\n",
    "        # 有job参数\n",
    "        pass\n",
    "    print('name:', name, 'age:', age, 'other:', kw)"
   ]
  },
  {
   "cell_type": "markdown",
   "metadata": {},
   "source": [
    "但是调用者仍可以传入不受限制的关键字参数："
   ]
  },
  {
   "cell_type": "code",
   "execution_count": 56,
   "metadata": {},
   "outputs": [
    {
     "name": "stdout",
     "output_type": "stream",
     "text": [
      "name: Jack age: 24 other: {'city': 'Beijing', 'addr': 'Chaoyang', 'zipcode': 123456}\n"
     ]
    }
   ],
   "source": [
    "person('Jack', 24, city='Beijing', addr='Chaoyang', zipcode=123456)"
   ]
  },
  {
   "cell_type": "markdown",
   "metadata": {},
   "source": [
    "如果要**限制关键字参数的名字**，就可以用命名关键字参数，例如，只接收```city```和```job```作为关键字参数。这种方式定义的函数如下："
   ]
  },
  {
   "cell_type": "code",
   "execution_count": 57,
   "metadata": {
    "collapsed": true
   },
   "outputs": [],
   "source": [
    "def person(name, age, *, city, job):\n",
    "    print(name, age, city, job)"
   ]
  },
  {
   "cell_type": "markdown",
   "metadata": {},
   "source": [
    "和关键字参数\\*\\*kw不同，命名关键字参数需要一个特殊分隔符\\*，\\*后面的参数被视为命名关键字参数。\n",
    "\n",
    "调用方式如下："
   ]
  },
  {
   "cell_type": "code",
   "execution_count": 58,
   "metadata": {},
   "outputs": [
    {
     "name": "stdout",
     "output_type": "stream",
     "text": [
      "Jack 24 Beijing Engineer\n"
     ]
    }
   ],
   "source": [
    "person('Jack', 24, city='Beijing', job='Engineer')"
   ]
  },
  {
   "cell_type": "markdown",
   "metadata": {},
   "source": [
    "如果函数定义中已经有了一个可变参数，后面跟着的命名关键字参数就不再需要一个特殊分隔符\\*了："
   ]
  },
  {
   "cell_type": "code",
   "execution_count": 59,
   "metadata": {
    "collapsed": true
   },
   "outputs": [],
   "source": [
    "def person(name, age, *args, city, job):\n",
    "    print(name, age, args, city, job)"
   ]
  },
  {
   "cell_type": "markdown",
   "metadata": {},
   "source": [
    "**命名关键字参数必须传入参数名**，这和位置参数不同。如果没有传入参数名，调用将报错："
   ]
  },
  {
   "cell_type": "code",
   "execution_count": 60,
   "metadata": {},
   "outputs": [
    {
     "ename": "TypeError",
     "evalue": "person() missing 2 required keyword-only arguments: 'city' and 'job'",
     "output_type": "error",
     "traceback": [
      "\u001b[0;31m---------------------------------------------------------------------------\u001b[0m",
      "\u001b[0;31mTypeError\u001b[0m                                 Traceback (most recent call last)",
      "\u001b[0;32m<ipython-input-60-70c5f703212a>\u001b[0m in \u001b[0;36m<module>\u001b[0;34m()\u001b[0m\n\u001b[0;32m----> 1\u001b[0;31m \u001b[0mperson\u001b[0m\u001b[0;34m(\u001b[0m\u001b[0;34m'Jack'\u001b[0m\u001b[0;34m,\u001b[0m \u001b[0;36m24\u001b[0m\u001b[0;34m,\u001b[0m \u001b[0;34m'Beijing'\u001b[0m\u001b[0;34m,\u001b[0m \u001b[0;34m'Engineer'\u001b[0m\u001b[0;34m)\u001b[0m\u001b[0;34m\u001b[0m\u001b[0m\n\u001b[0m",
      "\u001b[0;31mTypeError\u001b[0m: person() missing 2 required keyword-only arguments: 'city' and 'job'"
     ]
    }
   ],
   "source": [
    "person('Jack', 24, 'Beijing', 'Engineer')"
   ]
  },
  {
   "cell_type": "markdown",
   "metadata": {},
   "source": [
    "由于调用时缺少参数名```city```和```job```，Python解释器把这4个参数均视为位置参数，但```person()```函数仅接受2个位置参数。\n",
    "\n",
    "命名关键字参数可以有缺省值，从而简化调用："
   ]
  },
  {
   "cell_type": "code",
   "execution_count": 61,
   "metadata": {
    "collapsed": true
   },
   "outputs": [],
   "source": [
    "def person(name, age, *, city='Beijing', job):\n",
    "    print(name, age, city, job)"
   ]
  },
  {
   "cell_type": "markdown",
   "metadata": {},
   "source": [
    "由于命名关键字参数city具有默认值，调用时，可不传入city参数："
   ]
  },
  {
   "cell_type": "code",
   "execution_count": 62,
   "metadata": {},
   "outputs": [
    {
     "name": "stdout",
     "output_type": "stream",
     "text": [
      "Jack 24 Beijing Engineer\n"
     ]
    }
   ],
   "source": [
    "person('Jack', 24, job='Engineer')"
   ]
  },
  {
   "cell_type": "markdown",
   "metadata": {},
   "source": [
    "使用命名关键字参数时，要特别注意，**如果没有可变参数，就必须加一个\\*作为特殊分隔符**。如果缺少\\*，Python解释器将无法识别位置参数和命名关键字参数。"
   ]
  },
  {
   "cell_type": "markdown",
   "metadata": {},
   "source": [
    "#### 参数组合\n",
    "\n",
    "在Python中定义函数，可以用必选参数、默认参数、可变参数、关键字参数和命名关键字参数，**这5种参数都可以组合使用**。但是请注意，**参数定义的顺序必须是：必选参数、默认参数、可变参数、命名关键字参数和关键字参数**。\n",
    "\n",
    "比如定义一个函数，包含上述若干种参数："
   ]
  },
  {
   "cell_type": "code",
   "execution_count": 63,
   "metadata": {
    "collapsed": true
   },
   "outputs": [],
   "source": [
    "def f1(a, b, c=0, *args, **kw):\n",
    "    print('a =', a, 'b =', b, 'c =', c, 'args =', args, 'kw =', kw)\n",
    "\n",
    "    \n",
    "def f2(a, b, c=0, *, d, **kw):\n",
    "    print('a =', a, 'b =', b, 'c =', c, 'd =', d, 'kw =', kw)"
   ]
  },
  {
   "cell_type": "code",
   "execution_count": 64,
   "metadata": {},
   "outputs": [
    {
     "name": "stdout",
     "output_type": "stream",
     "text": [
      "a = 1 b = 2 c = 0 args = () kw = {}\n",
      "a = 1 b = 2 c = 3 args = () kw = {}\n",
      "a = 1 b = 2 c = 3 args = ('a', 'b') kw = {}\n",
      "a = 1 b = 2 c = 3 args = ('a', 'b') kw = {'x': 99}\n"
     ]
    }
   ],
   "source": [
    "f1(1, 2)\n",
    "f1(1, 2, c=3)\n",
    "f1(1, 2, 3, 'a', 'b')\n",
    "f1(1, 2, 3, 'a', 'b', x=99)"
   ]
  },
  {
   "cell_type": "code",
   "execution_count": 65,
   "metadata": {},
   "outputs": [
    {
     "name": "stdout",
     "output_type": "stream",
     "text": [
      "a = 1 b = 2 c = 0 d = 99 kw = {'ext': None}\n"
     ]
    }
   ],
   "source": [
    "f2(1, 2, d=99, ext=None)"
   ]
  },
  {
   "cell_type": "markdown",
   "metadata": {},
   "source": [
    "最神奇的是通过一个tuple和dict，你也可以调用上述函数："
   ]
  },
  {
   "cell_type": "code",
   "execution_count": 67,
   "metadata": {},
   "outputs": [
    {
     "name": "stdout",
     "output_type": "stream",
     "text": [
      "a = 1 b = 2 c = 3 args = (4,) kw = {'d': 99, 'x': '#'}\n",
      "a = 1 b = 2 c = 3 d = 99 kw = {'x': '#'}\n"
     ]
    }
   ],
   "source": [
    "args = (1, 2, 3, 4)\n",
    "kw = {'d': 99, 'x': '#'}\n",
    "f1(*args, **kw)\n",
    "args = (1, 2, 3)\n",
    "f2(*args, **kw)"
   ]
  },
  {
   "cell_type": "markdown",
   "metadata": {},
   "source": [
    "所以，**对于任意函数，都可以通过类似func(*args, \\*\\*kw)的形式调用它**，无论它的参数是如何定义的。"
   ]
  },
  {
   "cell_type": "markdown",
   "metadata": {},
   "source": [
    "#### 小结\n",
    "\n",
    "* Python的函数具有非常灵活的参数形态，既可以实现简单的调用，又可以传入非常复杂的参数。\n",
    "\n",
    "* 默认参数一定要用不可变对象，如果是可变对象，程序运行时会有逻辑错误！\n",
    "\n",
    "* 要注意定义可变参数和关键字参数的语法：\n",
    "\n",
    "* \\*args是可变参数，args接收的是一个tuple；\n",
    "\n",
    "* \\*\\*kw是关键字参数，kw接收的是一个dict。\n",
    "\n",
    "* 以及调用函数时如何传入可变参数和关键字参数的语法：\n",
    "\n",
    "* 可变参数既可以直接传入：```func(1, 2, 3)```，又可以先组装list或tuple，再通过\\*args传入：```func(*(1, 2, 3))```；\n",
    "\n",
    "* 关键字参数既可以直接传入：```func(a=1, b=2)```，又可以先组装dict，再通过\\*\\*kw传入：```func(\\*\\*{'a': 1, 'b': 2})```。\n",
    "\n",
    "* 使用\\*args和\\*\\*kw是Python的习惯写法，当然也可以用其他参数名，但最好使用习惯用法。\n",
    "\n",
    "* 命名的关键字参数是为了限制调用者可以传入的参数名，同时可以提供默认值。\n",
    "\n",
    "* 定义命名的关键字参数在没有可变参数的情况下不要忘了写分隔符\\*，否则定义的将是位置参数。"
   ]
  },
  {
   "cell_type": "markdown",
   "metadata": {},
   "source": [
    "### \\* 算法复杂度\n",
    "程序在工作的过程中，需要占用时间与空间（内存）资源。程序的性能也就是由其所占用的时空资源来决定的。\n",
    "\n",
    "同一问题可用不同算法解决，而一个算法的质量优劣将影响到算法乃至程序的效率。算法分析的目的在于选择合适算法和改进算法。\n",
    "为了对程序的性能做出估计，我们将引入算法复杂度的概念。\n",
    "\n",
    "#### 时间复杂度\n",
    "1. 时间频度\n",
    "\n",
    "    一个算法执行所耗费的时间，从理论上是不能算出来的，必须上机运行测试才能知道。但我们不可能也没有必要对每个算法都上机测试，只需知道哪个算法花费的时间多，哪个算法花费的时间少就可以了。并且一个算法花费的时间与算法中语句的执行次数成正比例，哪个算法中语句执行次数多，它花费时间就多。**一个算法中的语句执行次数称为语句频度或时间频度，记为 $T(n)$，其中 $n$ 为问题规模。**算法的时间复杂度是指执行算法所需要的计算工作量。\n",
    "    \n",
    "2. 时间复杂度\n",
    "\n",
    "    在刚才提到的时间频度中，当$n$不断变化时，时间频度$T(n)$也会不断变化。但有时我们想知道它变化时呈现什么规律。为此，我们引入时间复杂度概念。\n",
    "    \n",
    "    一般情况下，算法中基本操作重复执行的次数是问题规模 $n$ 的某个函数，用 $T(n)$ 表示，若有某个辅助函数 $f(n)$,使得:\n",
    "    $$\\lim_{n\\to\\infty}\\frac{T(n)}{f(n)}=c\\neq 0$$\n",
    "    或者：\n",
    "    $$\\left(\\exists k_1,k_2 \\in \\mathbb{Z}^+ \\right) \\left(\\forall n \\in \\mathbb{Z}^+ \\right)\\left[k_1f(n)\\leqslant T(n) \\leqslant k_2f(n)\\right]$$\n",
    "    则称 $f(n)$是$T(n)$的同数量级函数。记作 $T(n)=O(f(n))$,称 $O(f(n))$ 为算法的**渐进时间复杂度**，简称**时间复杂度**。\n",
    "    \n",
    "#### 空间复杂度\n",
    "略\n",
    "\n",
    "渐进复杂度为我们提供了计算过程性能的一种很粗略的描述。例如，某过程需要$n^2$步，另一计算过程需要$1000n^2$步，还有一个计算过程需要$3n^2+10n+17$步，它们的渐进复杂度都是$O(n^2)$。\n",
    "\n",
    "但另一方面，在问题规模改变时，渐进复杂度对估计一个计算过程的行为变化提供了有用的线索。例如，对一个$O(n)$（线性复杂度）的过程，规模增大一倍大致将使它所用的资源增加一倍。对于一个$O(2^n)$（指数复杂度）的过程，问题规模每增加1都将导致所用资源按某个常数倍增长。\n",
    "\n",
    "按数量级递增排列，常见的时间复杂度有：\n",
    "\n",
    "常数阶$O(1)$, 对数阶$O(\\log_2n)$, 线性阶$O(n)$,\n",
    "线性对数阶$O(n\\log_2n)$, 平方阶$O(n^2)$, 立方阶$O(n^3),\\ldots,$\n",
    "$k$次方阶$O(n^k)$, 指数阶$O(2^n)$, 阶乘阶$O(n!)$。\n",
    "\n",
    "![](http://images.cnitblog.com/blog/175043/201412/151255023901167.png)\n",
    "\n",
    "随着问题规模n的不断增大，上述时间复杂度不断增大，算法的执行效率越来越低。\n",
    "\n",
    "作为例子我们来分析一下上面实现过的```power```函数：\n",
    "\n",
    "```python\n",
    "def power(x, n=2):\n",
    "    s = 1\n",
    "    while n > 0:\n",
    "        n = n - 1\n",
    "        s = s * x        <---- 看这里\n",
    "    return s\n",
    "```\n",
    "\n",
    "容易看出，```power```对于```n```的时间复杂度为$O(n)$。\n",
    "接下来我们会看到，基于n的因子分解，我们可以将```power```的最好复杂度优化到$O(\\log_2n)$。\n",
    "\n",
    "先来看看初等数论里最基本的一个定理——唯一因子分解定理：\n",
    "\n",
    "对任意 $1<N \\in \\mathbb{Z}$，存在$n$个质数$p_1 < p_2 < \\ldots < p_n$，\n",
    "以及诸指数$\\lambda_1,\\lambda_2,\\ldots,\\lambda_n \\in \\mathbb{Z}^+$，\n",
    "使得：\n",
    "$$N = p_{1}^{\\lambda_1} p_{2}^{\\lambda_2} \\ldots p_{n}^{\\lambda_n}$$\n",
    "\n",
    "藉由该公式，我们可以得到：\n",
    "$$x^N = \\left(x^{\\prod\\limits_{i=2}^n{p_i^{\\lambda_i}}}\\right)^{p_1^{\\lambda_1}}=\n",
    "\\left(\\left(\\left(x^{p_n^{\\lambda_n}}\\right)\\cdots\\right)^{p_2^{\\lambda_2}}\\right)^{p_1^{\\lambda_1}}$$\n",
    "\n",
    "为了简化问题，我们记 $M=\\prod\\limits_{i=2}^n{p_i^{\\lambda_i}}$（显然$M$是一个奇数），$D=x^M$，并假设$p_1=2$。\n",
    "我们可以通过连续求平方，以更少的步骤完成乘幂计算（实施上只需要$M \\cdot \\lambda_1$次）：\n",
    "$$D^2 = D \\cdot D \\\\ \n",
    "D^4 = D^2 \\cdot D^2 \\\\ \n",
    "D^8 = D^4 \\cdot D^4 \\\\\n",
    "\\ldots \\\\\n",
    "x^N=D^{\\left(2^{\\lambda_1}\\right)} = \n",
    "D^{\\left(2^{\\lambda_1-1}\\right)} \\cdot D^{\\left(2^{\\lambda_1-1}\\right)}$$\n",
    "\n",
    "算法的逻辑为：\n",
    "$$x^n = \\left(x^{n/2}\\right)^2,2 \\mid n \\\\ \n",
    "x^n = x \\cdot x^{n-1},else$$\n",
    "\n",
    "于是可以重写```power```函数："
   ]
  },
  {
   "cell_type": "code",
   "execution_count": 76,
   "metadata": {
    "collapsed": true
   },
   "outputs": [],
   "source": [
    "def better_power(x, n=2):\n",
    "    \n",
    "    def is_odd(m):\n",
    "        return m % 2 == 0\n",
    "    if n == 0:\n",
    "        return 1\n",
    "    elif is_odd(n):\n",
    "        return power(x, n/2)*power(x, n/2)\n",
    "    return x*power(x, n-1)"
   ]
  },
  {
   "cell_type": "code",
   "execution_count": 77,
   "metadata": {},
   "outputs": [
    {
     "data": {
      "text/plain": [
       "81"
      ]
     },
     "execution_count": 77,
     "metadata": {},
     "output_type": "execute_result"
    }
   ],
   "source": [
    "better_power(3, 4)"
   ]
  },
  {
   "cell_type": "code",
   "execution_count": 80,
   "metadata": {},
   "outputs": [
    {
     "data": {
      "text/plain": [
       "256"
      ]
     },
     "execution_count": 80,
     "metadata": {},
     "output_type": "execute_result"
    }
   ],
   "source": [
    "better_power(2, 8)"
   ]
  },
  {
   "cell_type": "markdown",
   "metadata": {},
   "source": [
    "那么我们是不是可以通过逐级展开括号，对乘幂算法做一个彻底的优化？\n",
    "\n",
    "答案是可以。但是，这样做最好时间复杂度会退化为$O(n^{1/4})$。\n",
    "\n",
    "原因是对$n$做因子分解的算法（Pollard_rho快速分解），本身时间复杂度为$O(n^{1/4})$...\n",
    "\n",
    "需要注意的是，就算完全将上面的括号展开，乘幂算法仍然拥有$O(n)$的最坏复杂度（试考虑n为质数的情况）。"
   ]
  },
  {
   "cell_type": "markdown",
   "metadata": {},
   "source": [
    "### * 递归的力量\n",
    "如果一个函数在内部调用自身本身，这个函数就是递归函数。\n",
    "\n",
    "举个例子，我们来计算阶乘n!，用函数```fact(n)```表示，可以看出：\n",
    "\n",
    "```fact(n) = fact(n-1) * n```\n",
    "\n",
    "所以，```fact(n)```可以表示为```n * fact(n-1)```，只有```n=1```时需要特殊处理（递归出口）。\n",
    "\n",
    "于是，```fact(n)```用递归的方式写出来就是："
   ]
  },
  {
   "cell_type": "code",
   "execution_count": 81,
   "metadata": {
    "collapsed": true
   },
   "outputs": [],
   "source": [
    "def fact(n):\n",
    "    if n==1:\n",
    "        return 1\n",
    "    return n * fact(n - 1)"
   ]
  },
  {
   "cell_type": "code",
   "execution_count": 82,
   "metadata": {
    "scrolled": false
   },
   "outputs": [
    {
     "data": {
      "text/plain": [
       "93326215443944152681699238856266700490715968264381621468592963895217599993229915608941463976156518286253697920827223758251185210916864000000000000000000000000"
      ]
     },
     "execution_count": 82,
     "metadata": {},
     "output_type": "execute_result"
    }
   ],
   "source": [
    "fact(100)"
   ]
  },
  {
   "cell_type": "markdown",
   "metadata": {},
   "source": [
    "如果我们计算```fact(6)```，可以根据函数定义看到计算过程如下：\n",
    "\n",
    "![](https://timgsa.baidu.com/timg?image&quality=80&size=b9999_10000&sec=1509828681051&di=db66831c40bc29611940db47924c28d9&imgtype=jpg&src=http%3A%2F%2Fimg0.imgtn.bdimg.com%2Fit%2Fu%3D993488017%2C42446274%26fm%3D214%26gp%3D0.jpg)"
   ]
  },
  {
   "cell_type": "markdown",
   "metadata": {},
   "source": [
    "递归函数的优点是定义简单，逻辑清晰。理论上，**所有的递归函数都可以写成循环的方式**，但循环的逻辑不如递归清晰。\n",
    "\n",
    "使用递归函数需要注意防止**栈溢出**。在计算机中，**函数调用是通过栈（stack）这种数据结构实现的**，每当进入一个函数调用，栈就会加一层栈帧，每当函数返回，栈就会减一层栈帧。由于栈的大小不是无限的，所以，递归调用的次数过多，会导致栈溢出。可以试试fact(2000)："
   ]
  },
  {
   "cell_type": "code",
   "execution_count": 91,
   "metadata": {
    "scrolled": true
   },
   "outputs": [
    {
     "ename": "RecursionError",
     "evalue": "maximum recursion depth exceeded in comparison",
     "output_type": "error",
     "traceback": [
      "\u001b[0;31m---------------------------------------------------------------------------\u001b[0m",
      "\u001b[0;31mRecursionError\u001b[0m                            Traceback (most recent call last)",
      "\u001b[0;32m<ipython-input-91-4a22f4c82a86>\u001b[0m in \u001b[0;36m<module>\u001b[0;34m()\u001b[0m\n\u001b[0;32m----> 1\u001b[0;31m \u001b[0mfact\u001b[0m\u001b[0;34m(\u001b[0m\u001b[0;36m2000\u001b[0m\u001b[0;34m)\u001b[0m\u001b[0;34m\u001b[0m\u001b[0m\n\u001b[0m",
      "\u001b[0;32m<ipython-input-81-693862ec2c5d>\u001b[0m in \u001b[0;36mfact\u001b[0;34m(n)\u001b[0m\n\u001b[1;32m      2\u001b[0m     \u001b[0;32mif\u001b[0m \u001b[0mn\u001b[0m\u001b[0;34m==\u001b[0m\u001b[0;36m1\u001b[0m\u001b[0;34m:\u001b[0m\u001b[0;34m\u001b[0m\u001b[0m\n\u001b[1;32m      3\u001b[0m         \u001b[0;32mreturn\u001b[0m \u001b[0;36m1\u001b[0m\u001b[0;34m\u001b[0m\u001b[0m\n\u001b[0;32m----> 4\u001b[0;31m     \u001b[0;32mreturn\u001b[0m \u001b[0mn\u001b[0m \u001b[0;34m*\u001b[0m \u001b[0mfact\u001b[0m\u001b[0;34m(\u001b[0m\u001b[0mn\u001b[0m \u001b[0;34m-\u001b[0m \u001b[0;36m1\u001b[0m\u001b[0;34m)\u001b[0m\u001b[0;34m\u001b[0m\u001b[0m\n\u001b[0m",
      "... last 1 frames repeated, from the frame below ...\n",
      "\u001b[0;32m<ipython-input-81-693862ec2c5d>\u001b[0m in \u001b[0;36mfact\u001b[0;34m(n)\u001b[0m\n\u001b[1;32m      2\u001b[0m     \u001b[0;32mif\u001b[0m \u001b[0mn\u001b[0m\u001b[0;34m==\u001b[0m\u001b[0;36m1\u001b[0m\u001b[0;34m:\u001b[0m\u001b[0;34m\u001b[0m\u001b[0m\n\u001b[1;32m      3\u001b[0m         \u001b[0;32mreturn\u001b[0m \u001b[0;36m1\u001b[0m\u001b[0;34m\u001b[0m\u001b[0m\n\u001b[0;32m----> 4\u001b[0;31m     \u001b[0;32mreturn\u001b[0m \u001b[0mn\u001b[0m \u001b[0;34m*\u001b[0m \u001b[0mfact\u001b[0m\u001b[0;34m(\u001b[0m\u001b[0mn\u001b[0m \u001b[0;34m-\u001b[0m \u001b[0;36m1\u001b[0m\u001b[0;34m)\u001b[0m\u001b[0;34m\u001b[0m\u001b[0m\n\u001b[0m",
      "\u001b[0;31mRecursionError\u001b[0m: maximum recursion depth exceeded in comparison"
     ]
    }
   ],
   "source": [
    "fact(2000)"
   ]
  },
  {
   "cell_type": "markdown",
   "metadata": {},
   "source": [
    "解决递归调用栈溢出的方法是通过**尾递归优化**，事实上尾递归和循环的效果是一样的，所以，把循环看成是一种特殊的尾递归函数也是可以的。\n",
    "\n",
    "尾递归是指，在函数返回的时候，调用自身本身，并且，return语句不能包含表达式。这样，编译器或者解释器就可以把尾递归做优化，使递归本身无论调用多少次，都只占用一个栈帧，不会出现栈溢出的情况。\n",
    "\n",
    "上面的```fact(n)```函数由于```return n * fact(n - 1)```引入了乘法表达式，所以就不是尾递归了。要改成尾递归方式，需要多一点代码，主要是要把每一步的乘积传入到递归函数中："
   ]
  },
  {
   "cell_type": "code",
   "execution_count": 93,
   "metadata": {
    "collapsed": true
   },
   "outputs": [],
   "source": [
    "def fact(n):\n",
    "    \n",
    "    def fact_iter(num, product):\n",
    "        if num == 1:\n",
    "            return product\n",
    "        return fact_iter(num - 1, num * product)\n",
    "    \n",
    "    return fact_iter(n, 1)"
   ]
  },
  {
   "cell_type": "markdown",
   "metadata": {},
   "source": [
    "可以看到，```return fact_iter(num - 1, num * product)```仅返回递归函数本身，```num - 1```和```num * product```在函数调用前就会被计算，不影响函数调用。\n",
    "\n",
    "```fact(5)```对应的```fact_iter(5, 1)```的调用如下：\n",
    "```python\n",
    "===> fact_iter(5, 1)\n",
    "===> fact_iter(4, 5)\n",
    "===> fact_iter(3, 20)\n",
    "===> fact_iter(2, 60)\n",
    "===> fact_iter(1, 120)\n",
    "===> 120\n",
    "```\n",
    "\n",
    "尾递归调用时，如果做了优化，栈不会增长，因此，无论多少次调用也不会导致栈溢出。\n",
    "\n",
    "遗憾的是，大多数编程语言没有针对尾递归做优化，**Python解释器也没有做优化**，所以，即使把上面的```fact(n)```函数改成尾递归方式，也会导致栈溢出。"
   ]
  },
  {
   "cell_type": "markdown",
   "metadata": {},
   "source": [
    "下面我们来看一个很经典的问题，叫做换零钱，题干如下：\n",
    "\n",
    "给了半美元，四分之一美元，10美分，5美分和1美分的硬币，将1美元换成零钱，一共有多少种不同方式？更一般的问题是，给了任意数量的现金，我们能写出一个程序，计算所有换零钱方式的种数吗？"
   ]
  },
  {
   "cell_type": "markdown",
   "metadata": {},
   "source": [
    "换零钱问题的scheme代码：\n",
    "\n",
    "```scheme\n",
    "(define (count-change amount)\n",
    "    (cc amount 5))\n",
    "  \n",
    "(define (cc amount kind-of-coins)\n",
    "    (cond ((= amount 0) 1)\n",
    "          ((or (< amount 0) (= kind-of-coins 0)) 0)\n",
    "          (else (+ (cc amount\n",
    "                       (- kind-of-coins 1))\n",
    "                   (cc (- amount\n",
    "                          (first-denomination kind-of-coins))\n",
    "                       kind-of-coins)))))\n",
    "\n",
    "(define (first-denomination kind-of-coins)\n",
    "    (cond ((= kind-of-coins 1) 1)\n",
    "          ((= kind-of-coins 2) 5)\n",
    "          ((= kind-of-coins 3) 10)\n",
    "          ((= kind-of-coins 4) 25)\n",
    "          ((= kind-of-coins 5) 50)))\n",
    "```"
   ]
  }
 ],
 "metadata": {
  "kernelspec": {
   "display_name": "Python 3",
   "language": "python",
   "name": "python3"
  },
  "language_info": {
   "codemirror_mode": {
    "name": "ipython",
    "version": 3
   },
   "file_extension": ".py",
   "mimetype": "text/x-python",
   "name": "python",
   "nbconvert_exporter": "python",
   "pygments_lexer": "ipython3",
   "version": "3.6.2"
  }
 },
 "nbformat": 4,
 "nbformat_minor": 2
}
