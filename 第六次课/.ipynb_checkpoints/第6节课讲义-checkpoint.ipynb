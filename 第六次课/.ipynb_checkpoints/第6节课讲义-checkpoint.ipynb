{
 "cells": [
  {
   "cell_type": "markdown",
   "metadata": {},
   "source": [
    "# python语言与计算机科学引论\n",
    "***\n",
    "2017/11/18 第六次课"
   ]
  },
  {
   "cell_type": "markdown",
   "metadata": {},
   "source": [
    "在之前的课程里，同学们已经学习了所有Python（面向过程）的基础语法。\n",
    "\n",
    "它们分别是：\n",
    "\n",
    "* Python基本数据类型（```int, float, bool, str, NoneType```）\n",
    "* 输入与输出\n",
    "* 字符串与编码\n",
    "* 四种带有集合性质的数据类型（```list, tuple, dict, set```）\n",
    "* 条件判断\n",
    "* 两种循环（```while, for ... in ...```）\n",
    "* 函数（调用，定义，参数，递归，匿名函数）\n",
    "\n",
    "事实上，在熟悉这些基本语法后，大家已经可以将许多复杂的程序通过Python表达了。\n",
    "\n",
    "在接下来的课程中，我们将进入Python的高级内容，以及**计算机科学**的部分。"
   ]
  },
  {
   "cell_type": "markdown",
   "metadata": {},
   "source": [
    "### 切片\n",
    "取一个list或tuple的部分元素是非常常见的操作。比如，一个list如下："
   ]
  },
  {
   "cell_type": "code",
   "execution_count": 2,
   "metadata": {
    "collapsed": true
   },
   "outputs": [],
   "source": [
    "L = ['Michael', 'Sarah', 'Tracy', 'Bob', 'Jack']"
   ]
  },
  {
   "cell_type": "markdown",
   "metadata": {},
   "source": [
    "取前3个元素，应该怎么做？\n",
    "\n",
    "笨办法："
   ]
  },
  {
   "cell_type": "code",
   "execution_count": 3,
   "metadata": {},
   "outputs": [
    {
     "data": {
      "text/plain": [
       "['Michael', 'Sarah', 'Tracy']"
      ]
     },
     "execution_count": 3,
     "metadata": {},
     "output_type": "execute_result"
    }
   ],
   "source": [
    "[L[0], L[1], L[2]]"
   ]
  },
  {
   "cell_type": "markdown",
   "metadata": {},
   "source": [
    "之所以是笨办法是因为扩展一下，取前N个元素就没辙了。\n",
    "\n",
    "取前N个元素，也就是索引为0-(N-1)的元素，可以用循环："
   ]
  },
  {
   "cell_type": "code",
   "execution_count": 5,
   "metadata": {},
   "outputs": [
    {
     "data": {
      "text/plain": [
       "['Michael', 'Sarah', 'Tracy']"
      ]
     },
     "execution_count": 5,
     "metadata": {},
     "output_type": "execute_result"
    }
   ],
   "source": [
    "r = []\n",
    "n = 3\n",
    "for i in range(n):\n",
    "    r.append(L[i])\n",
    "r"
   ]
  },
  {
   "cell_type": "markdown",
   "metadata": {},
   "source": [
    "对这种经常取指定索引范围的操作，用循环十分繁琐，因此，Python提供了**切片（Slice）**操作符，能大大简化这种操作。\n",
    "\n",
    "对应上面的问题，取前3个元素，用一行代码就可以完成切片："
   ]
  },
  {
   "cell_type": "code",
   "execution_count": 6,
   "metadata": {},
   "outputs": [
    {
     "data": {
      "text/plain": [
       "['Michael', 'Sarah', 'Tracy']"
      ]
     },
     "execution_count": 6,
     "metadata": {},
     "output_type": "execute_result"
    }
   ],
   "source": [
    "L[0:3]"
   ]
  },
  {
   "cell_type": "markdown",
   "metadata": {},
   "source": [
    "```L[0:3]```表示，从索引```0```开始取，直到索引```3```为止，但不包括索引```3```。即索引```0```，```1```，```2```，正好是3个元素。\n",
    "\n",
    "如果第一个索引是```0```，还可以省略："
   ]
  },
  {
   "cell_type": "code",
   "execution_count": 7,
   "metadata": {},
   "outputs": [
    {
     "data": {
      "text/plain": [
       "['Michael', 'Sarah', 'Tracy']"
      ]
     },
     "execution_count": 7,
     "metadata": {},
     "output_type": "execute_result"
    }
   ],
   "source": [
    "L[: 3]"
   ]
  },
  {
   "cell_type": "markdown",
   "metadata": {},
   "source": [
    "也可以从索引```1```开始，取出2个元素出来："
   ]
  },
  {
   "cell_type": "code",
   "execution_count": 8,
   "metadata": {
    "scrolled": true
   },
   "outputs": [
    {
     "data": {
      "text/plain": [
       "['Sarah', 'Tracy']"
      ]
     },
     "execution_count": 8,
     "metadata": {},
     "output_type": "execute_result"
    }
   ],
   "source": [
    "L[1: 3]"
   ]
  },
  {
   "cell_type": "markdown",
   "metadata": {},
   "source": [
    "类似的，既然Python支持```L[-1]```取倒数第一个元素，那么它同样支持倒数切片，试试："
   ]
  },
  {
   "cell_type": "code",
   "execution_count": 9,
   "metadata": {},
   "outputs": [
    {
     "data": {
      "text/plain": [
       "['Bob', 'Jack']"
      ]
     },
     "execution_count": 9,
     "metadata": {},
     "output_type": "execute_result"
    }
   ],
   "source": [
    "L[-2:]"
   ]
  },
  {
   "cell_type": "code",
   "execution_count": 10,
   "metadata": {},
   "outputs": [
    {
     "data": {
      "text/plain": [
       "['Bob']"
      ]
     },
     "execution_count": 10,
     "metadata": {},
     "output_type": "execute_result"
    }
   ],
   "source": [
    "L[-2: -1]"
   ]
  },
  {
   "cell_type": "markdown",
   "metadata": {},
   "source": [
    "记住倒数第一个元素的索引是```-1```。\n",
    "\n",
    "切片操作十分有用。我们先创建一个0-99的数列："
   ]
  },
  {
   "cell_type": "code",
   "execution_count": 6,
   "metadata": {
    "collapsed": true,
    "scrolled": true
   },
   "outputs": [],
   "source": [
    "L = list(range(100))         # 记住range产生的是一个迭代器，并不是一个list。"
   ]
  },
  {
   "cell_type": "markdown",
   "metadata": {},
   "source": [
    "可以通过切片轻松取出某一段数列。比如前10个数："
   ]
  },
  {
   "cell_type": "code",
   "execution_count": 14,
   "metadata": {},
   "outputs": [
    {
     "data": {
      "text/plain": [
       "[0, 1, 2, 3, 4, 5, 6, 7, 8, 9]"
      ]
     },
     "execution_count": 14,
     "metadata": {},
     "output_type": "execute_result"
    }
   ],
   "source": [
    "L[: 10]"
   ]
  },
  {
   "cell_type": "markdown",
   "metadata": {},
   "source": [
    "后10个数："
   ]
  },
  {
   "cell_type": "code",
   "execution_count": 15,
   "metadata": {},
   "outputs": [
    {
     "data": {
      "text/plain": [
       "[90, 91, 92, 93, 94, 95, 96, 97, 98, 99]"
      ]
     },
     "execution_count": 15,
     "metadata": {},
     "output_type": "execute_result"
    }
   ],
   "source": [
    "L[-10: ]"
   ]
  },
  {
   "cell_type": "markdown",
   "metadata": {},
   "source": [
    "前11-20个数："
   ]
  },
  {
   "cell_type": "code",
   "execution_count": 16,
   "metadata": {},
   "outputs": [
    {
     "data": {
      "text/plain": [
       "[10, 11, 12, 13, 14, 15, 16, 17, 18, 19]"
      ]
     },
     "execution_count": 16,
     "metadata": {},
     "output_type": "execute_result"
    }
   ],
   "source": [
    "L[10: 20]"
   ]
  },
  {
   "cell_type": "markdown",
   "metadata": {},
   "source": [
    "前10个数，每两个取一个："
   ]
  },
  {
   "cell_type": "code",
   "execution_count": 18,
   "metadata": {},
   "outputs": [
    {
     "data": {
      "text/plain": [
       "[0, 2, 4, 6, 8]"
      ]
     },
     "execution_count": 18,
     "metadata": {},
     "output_type": "execute_result"
    }
   ],
   "source": [
    "L[: 10: 2]"
   ]
  },
  {
   "cell_type": "markdown",
   "metadata": {},
   "source": [
    "原列表倒序："
   ]
  },
  {
   "cell_type": "code",
   "execution_count": 19,
   "metadata": {
    "scrolled": true
   },
   "outputs": [
    {
     "data": {
      "text/plain": [
       "[99,\n",
       " 98,\n",
       " 97,\n",
       " 96,\n",
       " 95,\n",
       " 94,\n",
       " 93,\n",
       " 92,\n",
       " 91,\n",
       " 90,\n",
       " 89,\n",
       " 88,\n",
       " 87,\n",
       " 86,\n",
       " 85,\n",
       " 84,\n",
       " 83,\n",
       " 82,\n",
       " 81,\n",
       " 80,\n",
       " 79,\n",
       " 78,\n",
       " 77,\n",
       " 76,\n",
       " 75,\n",
       " 74,\n",
       " 73,\n",
       " 72,\n",
       " 71,\n",
       " 70,\n",
       " 69,\n",
       " 68,\n",
       " 67,\n",
       " 66,\n",
       " 65,\n",
       " 64,\n",
       " 63,\n",
       " 62,\n",
       " 61,\n",
       " 60,\n",
       " 59,\n",
       " 58,\n",
       " 57,\n",
       " 56,\n",
       " 55,\n",
       " 54,\n",
       " 53,\n",
       " 52,\n",
       " 51,\n",
       " 50,\n",
       " 49,\n",
       " 48,\n",
       " 47,\n",
       " 46,\n",
       " 45,\n",
       " 44,\n",
       " 43,\n",
       " 42,\n",
       " 41,\n",
       " 40,\n",
       " 39,\n",
       " 38,\n",
       " 37,\n",
       " 36,\n",
       " 35,\n",
       " 34,\n",
       " 33,\n",
       " 32,\n",
       " 31,\n",
       " 30,\n",
       " 29,\n",
       " 28,\n",
       " 27,\n",
       " 26,\n",
       " 25,\n",
       " 24,\n",
       " 23,\n",
       " 22,\n",
       " 21,\n",
       " 20,\n",
       " 19,\n",
       " 18,\n",
       " 17,\n",
       " 16,\n",
       " 15,\n",
       " 14,\n",
       " 13,\n",
       " 12,\n",
       " 11,\n",
       " 10,\n",
       " 9,\n",
       " 8,\n",
       " 7,\n",
       " 6,\n",
       " 5,\n",
       " 4,\n",
       " 3,\n",
       " 2,\n",
       " 1,\n",
       " 0]"
      ]
     },
     "execution_count": 19,
     "metadata": {},
     "output_type": "execute_result"
    }
   ],
   "source": [
    "L[::-1]"
   ]
  },
  {
   "cell_type": "code",
   "execution_count": 9,
   "metadata": {
    "scrolled": true
   },
   "outputs": [
    {
     "data": {
      "text/plain": [
       "[98,\n",
       " 97,\n",
       " 96,\n",
       " 95,\n",
       " 94,\n",
       " 93,\n",
       " 92,\n",
       " 91,\n",
       " 90,\n",
       " 89,\n",
       " 88,\n",
       " 87,\n",
       " 86,\n",
       " 85,\n",
       " 84,\n",
       " 83,\n",
       " 82,\n",
       " 81,\n",
       " 80,\n",
       " 79,\n",
       " 78,\n",
       " 77,\n",
       " 76,\n",
       " 75,\n",
       " 74,\n",
       " 73,\n",
       " 72,\n",
       " 71,\n",
       " 70,\n",
       " 69,\n",
       " 68,\n",
       " 67,\n",
       " 66,\n",
       " 65,\n",
       " 64,\n",
       " 63,\n",
       " 62,\n",
       " 61,\n",
       " 60,\n",
       " 59,\n",
       " 58,\n",
       " 57,\n",
       " 56,\n",
       " 55,\n",
       " 54,\n",
       " 53,\n",
       " 52,\n",
       " 51,\n",
       " 50,\n",
       " 49,\n",
       " 48,\n",
       " 47,\n",
       " 46,\n",
       " 45,\n",
       " 44,\n",
       " 43,\n",
       " 42,\n",
       " 41,\n",
       " 40,\n",
       " 39,\n",
       " 38,\n",
       " 37,\n",
       " 36,\n",
       " 35,\n",
       " 34,\n",
       " 33,\n",
       " 32,\n",
       " 31,\n",
       " 30,\n",
       " 29,\n",
       " 28,\n",
       " 27,\n",
       " 26,\n",
       " 25,\n",
       " 24,\n",
       " 23,\n",
       " 22,\n",
       " 21,\n",
       " 20,\n",
       " 19,\n",
       " 18,\n",
       " 17,\n",
       " 16,\n",
       " 15,\n",
       " 14,\n",
       " 13,\n",
       " 12,\n",
       " 11,\n",
       " 10,\n",
       " 9,\n",
       " 8,\n",
       " 7,\n",
       " 6,\n",
       " 5,\n",
       " 4,\n",
       " 3,\n",
       " 2,\n",
       " 1,\n",
       " 0]"
      ]
     },
     "execution_count": 9,
     "metadata": {},
     "output_type": "execute_result"
    }
   ],
   "source": [
    "L[-2::-1]"
   ]
  },
  {
   "cell_type": "markdown",
   "metadata": {},
   "source": [
    "```tuple```和```str```都与```list```相似，它们也可以用切片操作。结果的数据类型与被切片前保持一致。以字符串为例："
   ]
  },
  {
   "cell_type": "code",
   "execution_count": 20,
   "metadata": {},
   "outputs": [
    {
     "data": {
      "text/plain": [
       "'ABC'"
      ]
     },
     "execution_count": 20,
     "metadata": {},
     "output_type": "execute_result"
    }
   ],
   "source": [
    "'ABCDEFG'[:3]"
   ]
  },
  {
   "cell_type": "markdown",
   "metadata": {},
   "source": [
    "### 迭代\n",
    "如果给定一个list或tuple，我们可以通过```for```循环来遍历这个list或tuple，这种遍历我们称为**迭代（Iteration）**。\n",
    "\n",
    "在Python中，迭代是通过```for ... in```来完成的，而很多语言比如C语言，迭代list是通过下标完成的，看一看C的写法：\n",
    "\n",
    "```c\n",
    "int i;\n",
    "T n;\n",
    "for (i = 0; i < sizeof(list)/sizeof(list[0]); i++) {\n",
    "    n = list[i];\n",
    "}\n",
    "```\n",
    "\n",
    "可以看出，Python的```for```循环抽象程度要高于C的```for```循环，因为Python的```for```循环不仅可以用在list或tuple上，还可以作用在其他可迭代对象上。\n",
    "\n",
    "list这种数据类型虽然有下标，但很多其他数据类型是没有下标的，但是，只要是**可迭代对象**，无论有无下标，都可以迭代，比如```dict```就可以迭代："
   ]
  },
  {
   "cell_type": "code",
   "execution_count": 13,
   "metadata": {},
   "outputs": [
    {
     "name": "stdout",
     "output_type": "stream",
     "text": [
      "a\n",
      "b\n",
      "c\n"
     ]
    }
   ],
   "source": [
    "d = {'a': 1, 'b': 2, 'c': 3}\n",
    "for key in d:\n",
    "    print(key)"
   ]
  },
  {
   "cell_type": "markdown",
   "metadata": {},
   "source": [
    "因为dict的存储不是按照list的方式顺序排列，所以，迭代出的结果顺序很可能不一样。\n",
    "\n",
    "默认情况下，dict迭代的是key。如果要迭代value，可以用```for value in d.values()```，如果要同时迭代key和value，可以用```for k, v in d.items()```。\n",
    "\n",
    "由于字符串也是可迭代对象，因此，也可以作用于```for```循环："
   ]
  },
  {
   "cell_type": "code",
   "execution_count": 22,
   "metadata": {
    "scrolled": true
   },
   "outputs": [
    {
     "name": "stdout",
     "output_type": "stream",
     "text": [
      "A\n",
      "B\n",
      "C\n"
     ]
    }
   ],
   "source": [
    "for ch in 'ABC':\n",
    "    print(ch)"
   ]
  },
  {
   "cell_type": "markdown",
   "metadata": {},
   "source": [
    "所以，当我们使用```for```循环时，只要作用于一个可迭代对象，```for```循环就可以正常运行，而我们不太关心该对象究竟是list还是其他数据类型。\n",
    "\n",
    "那么，如何判断一个对象是可迭代对象呢？方法是通过```collections```模块的```Iterable```类型判断："
   ]
  },
  {
   "cell_type": "code",
   "execution_count": 23,
   "metadata": {},
   "outputs": [
    {
     "name": "stdout",
     "output_type": "stream",
     "text": [
      "True True False\n"
     ]
    }
   ],
   "source": [
    "from collections import Iterable\n",
    "print(isinstance('abc', Iterable),      # str是否可迭代\n",
    "      isinstance([1,2,3], Iterable),    # list是否可迭代\n",
    "      isinstance(123, Iterable))        # 整数是否可迭代"
   ]
  },
  {
   "cell_type": "markdown",
   "metadata": {},
   "source": [
    "最后一个小问题，如果要对list实现类似C那样的下标循环怎么办？\n",
    "\n",
    "比较容易想到的办法是，利用```len```函数："
   ]
  },
  {
   "cell_type": "code",
   "execution_count": 25,
   "metadata": {
    "scrolled": true
   },
   "outputs": [
    {
     "name": "stdout",
     "output_type": "stream",
     "text": [
      "0 A\n",
      "1 B\n",
      "2 C\n"
     ]
    }
   ],
   "source": [
    "L = ['A', 'B', 'C']\n",
    "for i in range(len(L)):\n",
    "    print(i, L[i])"
   ]
  },
  {
   "cell_type": "markdown",
   "metadata": {},
   "source": [
    "可是这样做不pythonic，Python内置的```enumerate```函数可以**把一个list变成索引-元素对**，这样就可以在for循环中同时迭代索引和元素本身："
   ]
  },
  {
   "cell_type": "code",
   "execution_count": 16,
   "metadata": {},
   "outputs": [
    {
     "name": "stdout",
     "output_type": "stream",
     "text": [
      "0 a\n",
      "1 b\n",
      "2 c\n"
     ]
    }
   ],
   "source": [
    "for i, value in enumerate(L):\n",
    "    print(i, value)"
   ]
  },
  {
   "cell_type": "markdown",
   "metadata": {},
   "source": [
    "上面的```for```循环里，同时引用了两个变量，在Python里是很常见的，比如下面的代码："
   ]
  },
  {
   "cell_type": "code",
   "execution_count": 27,
   "metadata": {
    "scrolled": true
   },
   "outputs": [
    {
     "name": "stdout",
     "output_type": "stream",
     "text": [
      "1 1\n",
      "2 4\n",
      "3 9\n"
     ]
    }
   ],
   "source": [
    "for x, y in [(1, 1), (2, 4), (3, 9)]:\n",
    "    print(x, y)"
   ]
  },
  {
   "cell_type": "markdown",
   "metadata": {},
   "source": [
    "### 生成式\n",
    "生成式即Comprehensions，是Python内置的非常简单却强大的可以用来创建list,dict和set的工具。\n",
    "\n",
    "生成式分为三种，分别是：\n",
    "\n",
    "* 列表生成式\n",
    "* 字典生成式\n",
    "* 集合生成式\n",
    "\n",
    "下面分别看看它们的使用方法。\n",
    "\n",
    "#### 列表生成式\n",
    "要生成list [1, 2, 3, 4, 5, 6, 7, 8, 9, 10]，可以用```list(range(1, 11))```："
   ]
  },
  {
   "cell_type": "code",
   "execution_count": 28,
   "metadata": {
    "scrolled": true
   },
   "outputs": [
    {
     "data": {
      "text/plain": [
       "[1, 2, 3, 4, 5, 6, 7, 8, 9, 10]"
      ]
     },
     "execution_count": 28,
     "metadata": {},
     "output_type": "execute_result"
    }
   ],
   "source": [
    "list(range(1, 11))"
   ]
  },
  {
   "cell_type": "markdown",
   "metadata": {},
   "source": [
    "但如果要生成 $[1^2, 2^2, 3^2, \\ldots, 10^2]$ 怎么做？\n",
    "\n",
    "方法一是循环："
   ]
  },
  {
   "cell_type": "code",
   "execution_count": 29,
   "metadata": {},
   "outputs": [
    {
     "data": {
      "text/plain": [
       "[1, 4, 9, 16, 25, 36, 49, 64, 81, 100]"
      ]
     },
     "execution_count": 29,
     "metadata": {},
     "output_type": "execute_result"
    }
   ],
   "source": [
    "L = []\n",
    "for x in range(1, 11):\n",
    "    L.append(x * x)\n",
    "L"
   ]
  },
  {
   "cell_type": "markdown",
   "metadata": {},
   "source": [
    "但是循环太繁琐，还创建了额外的中间变量，而**列表生成式可以用一行语句代替循环生成上面的list**："
   ]
  },
  {
   "cell_type": "code",
   "execution_count": 30,
   "metadata": {},
   "outputs": [
    {
     "data": {
      "text/plain": [
       "[1, 4, 9, 16, 25, 36, 49, 64, 81, 100]"
      ]
     },
     "execution_count": 30,
     "metadata": {},
     "output_type": "execute_result"
    }
   ],
   "source": [
    "[x * x for x in range(1, 11)]"
   ]
  },
  {
   "cell_type": "markdown",
   "metadata": {},
   "source": [
    "写列表生成式时，把要生成的元素```x * x```放到前面，后面跟```for```循环，就可以把list创建出来，十分有用，多写几次，很快就可以熟悉这种语法。\n",
    "\n",
    "for循环后面还可以加上if判断，这样我们就可以筛选出偶数的平方："
   ]
  },
  {
   "cell_type": "code",
   "execution_count": 31,
   "metadata": {},
   "outputs": [
    {
     "data": {
      "text/plain": [
       "[4, 16, 36, 64, 100]"
      ]
     },
     "execution_count": 31,
     "metadata": {},
     "output_type": "execute_result"
    }
   ],
   "source": [
    "[x * x for x in range(1, 11) if x % 2 == 0]"
   ]
  },
  {
   "cell_type": "markdown",
   "metadata": {},
   "source": [
    "概括一下，单层列表生成式的语法模板为：\n",
    "\n",
    "```python\n",
    "[<val> for <var> in <domain> if <condition>]\n",
    "```\n",
    "其中```<var>```为变量，```<val>```为由变量决定的值，```<domain>```为变量的取值范围，```<contidion>```为过滤条件（值为```False```则被过滤）。"
   ]
  },
  {
   "cell_type": "markdown",
   "metadata": {},
   "source": [
    "还可以使用两层循环，生成全排列："
   ]
  },
  {
   "cell_type": "code",
   "execution_count": 32,
   "metadata": {
    "scrolled": true
   },
   "outputs": [
    {
     "data": {
      "text/plain": [
       "['AX', 'AY', 'AZ', 'BX', 'BY', 'BZ', 'CX', 'CY', 'CZ']"
      ]
     },
     "execution_count": 32,
     "metadata": {},
     "output_type": "execute_result"
    }
   ],
   "source": [
    "[m + n for m in 'ABC' for n in 'XYZ']"
   ]
  },
  {
   "cell_type": "markdown",
   "metadata": {},
   "source": [
    "三层和三层以上的循环就很少用到了。\n",
    "\n",
    "```for```循环其实可以同时使用两个甚至多个变量，比如dict的```items()```可以同时迭代```key```和```value```："
   ]
  },
  {
   "cell_type": "code",
   "execution_count": 33,
   "metadata": {
    "scrolled": true
   },
   "outputs": [
    {
     "name": "stdout",
     "output_type": "stream",
     "text": [
      "x = A\n",
      "y = B\n",
      "z = C\n"
     ]
    }
   ],
   "source": [
    "d = {'x': 'A', 'y': 'B', 'z': 'C' }\n",
    "for k, v in d.items():\n",
    "    print(k, '=', v)"
   ]
  },
  {
   "cell_type": "markdown",
   "metadata": {},
   "source": [
    "因此，列表生成式也可以使用两个变量来生成list："
   ]
  },
  {
   "cell_type": "code",
   "execution_count": 34,
   "metadata": {
    "scrolled": true
   },
   "outputs": [
    {
     "data": {
      "text/plain": [
       "['x=A', 'y=B', 'z=C']"
      ]
     },
     "execution_count": 34,
     "metadata": {},
     "output_type": "execute_result"
    }
   ],
   "source": [
    "[k + '=' + v for k, v in d.items()]"
   ]
  },
  {
   "cell_type": "markdown",
   "metadata": {},
   "source": [
    "最后把一个list中所有的字符串变成小写："
   ]
  },
  {
   "cell_type": "code",
   "execution_count": 35,
   "metadata": {},
   "outputs": [
    {
     "data": {
      "text/plain": [
       "['hello', 'world', 'ibm', 'apple']"
      ]
     },
     "execution_count": 35,
     "metadata": {},
     "output_type": "execute_result"
    }
   ],
   "source": [
    "L = ['Hello', 'World', 'IBM', 'Apple']\n",
    "[s.lower() for s in L]"
   ]
  },
  {
   "cell_type": "markdown",
   "metadata": {},
   "source": [
    "#### 字典生成式\n",
    "假设有一个表格，其中有一列是学生姓名，另一列是学生年龄。将表格导入Python后，姓名和年龄分别被组装为两个表格。\n",
    "\n",
    "现在我们想建立一个姓名到年龄的字典，可以用循环来做："
   ]
  },
  {
   "cell_type": "code",
   "execution_count": 36,
   "metadata": {},
   "outputs": [
    {
     "data": {
      "text/plain": [
       "{'孙二': 12, '张三': 13, '李四': 11, '王一': 13}"
      ]
     },
     "execution_count": 36,
     "metadata": {},
     "output_type": "execute_result"
    }
   ],
   "source": [
    "names = ['王一', '孙二', '张三', '李四']\n",
    "ages = [13, 12, 13, 11]\n",
    "D = {}\n",
    "for name, age in zip(names, ages):\n",
    "    D[name] = age\n",
    "D"
   ]
  },
  {
   "cell_type": "markdown",
   "metadata": {},
   "source": [
    "其中```zip```用来把两个长度相同的list压缩为一个迭代器，看一个例子："
   ]
  },
  {
   "cell_type": "code",
   "execution_count": 40,
   "metadata": {},
   "outputs": [
    {
     "data": {
      "text/plain": [
       "[(1, 'a'), (2, 'b'), (3, 'c')]"
      ]
     },
     "execution_count": 40,
     "metadata": {},
     "output_type": "execute_result"
    }
   ],
   "source": [
    "a = [1, 2, 3]\n",
    "b = ['a', 'b', 'c']\n",
    "list(zip(a, b))"
   ]
  },
  {
   "cell_type": "markdown",
   "metadata": {},
   "source": [
    "可是这样写过于繁琐，我们可以用一行语句代替循环："
   ]
  },
  {
   "cell_type": "code",
   "execution_count": 42,
   "metadata": {},
   "outputs": [
    {
     "data": {
      "text/plain": [
       "{'孙二': 12, '张三': 13, '李四': 11, '王一': 13}"
      ]
     },
     "execution_count": 42,
     "metadata": {},
     "output_type": "execute_result"
    }
   ],
   "source": [
    "{name: age for name, age in zip(names, ages)}"
   ]
  },
  {
   "cell_type": "markdown",
   "metadata": {},
   "source": [
    "下面我们来看一个更现实的例子：\n",
    "\n",
    "假设我们通过爬虫爬取了豆瓣电影上热门电影的片名和评分，结果用两个list储存。\n",
    "\n",
    "现在我们想组装一个dict，建立片名和评分之间的映射，同时抛弃所有评分低于7.0的电影（应该不剩下什么国产片了）。"
   ]
  },
  {
   "cell_type": "code",
   "execution_count": 20,
   "metadata": {
    "scrolled": true
   },
   "outputs": [],
   "source": [
    "movie_names = ['正义联盟 Justice League', '暴雪将至', '英雄本色', '东方快车谋杀案 Murder on the Orient Express', \n",
    "               '恐袭波士顿 Patriots Day', '雷神3：诸神黄昏 Thor: Ragnarok', '七十七天', \n",
    "               '精灵宝可梦：波尔凯尼恩与机巧的玛机雅娜 ポケモン・ザ・ムービーXY&Z ボルケニオンと機巧のマギアナ', \n",
    "               '狂兽 狂獸', '羞羞的铁拳', '追捕', '相爱相亲', '不成问题的问题', '密战', \n",
    "               '我的爸爸是森林之王 The Son Of Bigfoot', '全球风暴 Geostorm', '银翼杀手2049 Blade Runner 2049', \n",
    "               '缝纫机乐队', '刺杀盖世太保 HHhH', '王牌特工2：黄金圈 Kingsman: The Golden Circle', '英伦对决 The Foreigner', \n",
    "               '兄弟，别闹！', '天才枪手 ฉลาดเกมส์โกง', '烽火芳菲', '嘉年华', '捍卫者', '艺海风光一：电影城', \n",
    "               '我只认识你', '怨灵2', '托马斯大电影之了不起的比赛 Thomas & Friends: The Great Race', '追龙 追龍', '暴裂无声']\n",
    "\n",
    "rates = ['7.3', '7.1', '8.6', '7.1', '8.0', '7.5', '6.6', '6.5', '5.1', '7.2', '6.0', '8.6', '8.0', '4.9', '6.8', '6.2', \n",
    "         '8.5', '7.0', '6.5', '7.2', '7.2', '3.7', '8.3', '6.2', '8.1', '8.1', '7.9', '8.4', '4.3', '6.6', '7.5', '7.2']"
   ]
  },
  {
   "cell_type": "code",
   "execution_count": 21,
   "metadata": {},
   "outputs": [
    {
     "data": {
      "text/plain": [
       "{'不成问题的问题': 8.0,\n",
       " '东方快车谋杀案 Murder on the Orient Express': 7.1,\n",
       " '嘉年华': 8.1,\n",
       " '天才枪手 ฉลาดเกมส์โกง': 8.3,\n",
       " '恐袭波士顿 Patriots Day': 8.0,\n",
       " '我只认识你': 8.4,\n",
       " '捍卫者': 8.1,\n",
       " '暴裂无声': 7.2,\n",
       " '暴雪将至': 7.1,\n",
       " '正义联盟 Justice League': 7.3,\n",
       " '王牌特工2：黄金圈 Kingsman: The Golden Circle': 7.2,\n",
       " '相爱相亲': 8.6,\n",
       " '缝纫机乐队': 7.0,\n",
       " '羞羞的铁拳': 7.2,\n",
       " '艺海风光一：电影城': 7.9,\n",
       " '英伦对决 The Foreigner': 7.2,\n",
       " '英雄本色': 8.6,\n",
       " '追龙 追龍': 7.5,\n",
       " '银翼杀手2049 Blade Runner 2049': 8.5,\n",
       " '雷神3：诸神黄昏 Thor: Ragnarok': 7.5}"
      ]
     },
     "execution_count": 21,
     "metadata": {},
     "output_type": "execute_result"
    }
   ],
   "source": [
    "{name: float(rate) for name, rate in zip(movie_names, rates) if float(rate) >= 7}"
   ]
  },
  {
   "cell_type": "markdown",
   "metadata": {},
   "source": [
    "#### 集合生成式\n",
    "由于不太常用，不详细展开，这里只给出一个例子。\n",
    "\n",
    "计算之前的学生年龄```ages```中，学生们年龄的范围："
   ]
  },
  {
   "cell_type": "code",
   "execution_count": 49,
   "metadata": {
    "scrolled": true
   },
   "outputs": [
    {
     "data": {
      "text/plain": [
       "{11, 12, 13}"
      ]
     },
     "execution_count": 49,
     "metadata": {},
     "output_type": "execute_result"
    }
   ],
   "source": [
    "{age for age in ages}   # 同样是大括号，不要把字典生成式和集合生成式混淆！"
   ]
  },
  {
   "cell_type": "markdown",
   "metadata": {},
   "source": [
    "### * 函数式思想\n",
    "函数式编程是一个极为庞大而深刻的话题。\n",
    "\n",
    "限于时间和我的能力，甚至没有办法给大家做一个鸟瞰式的介绍。为了展示函数式编程的强大，这里简单提一提函数式编程的特征和一些初步的思想。\n",
    "\n",
    "函数式编程的特征是：\n",
    "\n",
    "* 没有变量\n",
    "* 没有循环\n",
    "* 没有纯粹的**语句**（用来执行某件事，没有返回值。例如命令式编程中修改变量的值），处理问题的每一个步骤都是**函数**，且函数必须有返回值\n",
    "\n",
    "函数式编程与命令式编程最大的不同之处在于：\n",
    "\n",
    "**函数式编程关心数据的映射，命令式编程关心解决问题的步骤。**\n",
    "\n",
    "解决一个复杂问题，科学的做法是把问题分解为一些较为简单（且相互解耦）的部分，依此解决。最后将这些较为简单的部分按一定的顺序组装起来，即解决了原问题。\n",
    "\n",
    "对于使用命令式编程的程序员来说，化归问题的方式通常是将原问题分解为一些**命令**，再顺序执行它们，得到结果。\n",
    "\n",
    "而函数式的程序员，会考察从输入到输出中数据的变化，把变化过程的关键部分表达为一个**计算**。最后通过**计算的嵌套**得到结果。\n",
    "\n",
    "举例来说，我们要把一个整数列表中每一个元素都加1，命令式的风格是这样的："
   ]
  },
  {
   "cell_type": "code",
   "execution_count": 50,
   "metadata": {},
   "outputs": [
    {
     "data": {
      "text/plain": [
       "[2, 3, 4, 5, 6]"
      ]
     },
     "execution_count": 50,
     "metadata": {},
     "output_type": "execute_result"
    }
   ],
   "source": [
    "L = [1, 2, 3, 4, 5]\n",
    "for i in range(len(L)):\n",
    "    L[i] += 1\n",
    "L"
   ]
  },
  {
   "cell_type": "markdown",
   "metadata": {},
   "source": [
    "再看看函数式的风格："
   ]
  },
  {
   "cell_type": "code",
   "execution_count": 56,
   "metadata": {},
   "outputs": [
    {
     "data": {
      "text/plain": [
       "[2, 3, 4, 5, 6]"
      ]
     },
     "execution_count": 56,
     "metadata": {},
     "output_type": "execute_result"
    }
   ],
   "source": [
    "L = [1, 2, 3, 4, 5]\n",
    "def add1_to_each(l):\n",
    "    return ([l[0]+1] + add1_to_each(l[1:]) \n",
    "            if l[1:]:\n",
    "            else [l[0]+1])\n",
    "add1_to_each(L)"
   ]
  },
  {
   "cell_type": "markdown",
   "metadata": {},
   "source": [
    "这段代码最终达到的目的同样是给整数列表中每个元素加1，但是它得到结果的方式和上面的命令式代码有着本质的差别：\n",
    "\n",
    "函数式通过描述一个 旧列表->新列表 的映射，而不是描述「从旧列表得到新列表应该怎样做」来达到目的。\n",
    "\n",
    "接下来看一个例子：从最基本的整数求和出发，逐步抽象，最后得到一个叫做```accumulate```的积累函数。\n",
    "\n",
    "第一个函数用来计算从a到b的整数之和："
   ]
  },
  {
   "cell_type": "code",
   "execution_count": 57,
   "metadata": {},
   "outputs": [
    {
     "data": {
      "text/plain": [
       "5050"
      ]
     },
     "execution_count": 57,
     "metadata": {},
     "output_type": "execute_result"
    }
   ],
   "source": [
    "def sum_integer(a, b):\n",
    "    return 0 if a > b else a + sum_integer(a+1, b)\n",
    "sum_integer(0, 100)"
   ]
  },
  {
   "cell_type": "markdown",
   "metadata": {},
   "source": [
    "第二个用来计算给定范围内整数的立方和："
   ]
  },
  {
   "cell_type": "code",
   "execution_count": 60,
   "metadata": {},
   "outputs": [
    {
     "data": {
      "text/plain": [
       "225"
      ]
     },
     "execution_count": 60,
     "metadata": {},
     "output_type": "execute_result"
    }
   ],
   "source": [
    "def sum_cubes(a, b):\n",
    "    return 0 if a > b else a**3 + sum_cubes(a+1, b)\n",
    "sum_cubes(0, 5)"
   ]
  },
  {
   "cell_type": "markdown",
   "metadata": {},
   "source": [
    "第三个用来计算下面序列之和：\n",
    "$$ \\frac{1}{1\\cdot 3} + \\frac{1}{5\\cdot 7} + \\frac{1}{9\\cdot 11} + \\cdots$$\n",
    "\n",
    "它将（非常缓慢地）收敛到$\\pi/8$："
   ]
  },
  {
   "cell_type": "code",
   "execution_count": 64,
   "metadata": {},
   "outputs": [
    {
     "data": {
      "text/plain": [
       "3.140592653839793"
      ]
     },
     "execution_count": 64,
     "metadata": {},
     "output_type": "execute_result"
    }
   ],
   "source": [
    "def pi_sum(a, b):\n",
    "    return (0 \n",
    "            if a > b \n",
    "            else 1/(a*(a+2)) + pi_sum(a+4, b))\n",
    "\n",
    "8*pi_sum(1, 2000)"
   ]
  },
  {
   "cell_type": "markdown",
   "metadata": {},
   "source": [
    "可以看出，这三个过程共享着一种公共的基础模式。他们的很大一部分是共同的，只是所用的过程名字上不一样：\n",
    "\n",
    "用a计算待加项的函数```<term>```，以及提供下一个a值的函数```<next>```。\n",
    "\n",
    "我们可以通过填充下面模板上的空位，产生出上面的各个过程：\n",
    "\n",
    "```python\n",
    "def <name>(a, b):\n",
    "    return (0\n",
    "            if a > b\n",
    "            else <term>(a) + <name>(<next>(a), b))\n",
    "```\n",
    "这种公共模式的存在证明，这里实际上有一种很有用的抽象，在那里等着浮现出来。\n",
    "\n",
    "确实，数学家很早就认识到了序列求和中的抽象模式，并提出了专门的“求和记法”：\n",
    "$$\\sum\\limits_{n=a}^b{f(n)}=f(a)+\\cdots+f(b)$$\n",
    "求和记法的威力在于，它使数学家能去处理求和的概念本身，而不是只是某个特定的求和。\n",
    "\n",
    "与此类似，作为程序模式，我们也希望所用的语言足够强大，能用于写出一个过程，去**表述求和的概念，而不是只能计算特定求和结果**。"
   ]
  },
  {
   "cell_type": "code",
   "execution_count": 68,
   "metadata": {
    "collapsed": true
   },
   "outputs": [],
   "source": [
    "def _sum(term, a, _next, b):\n",
    "    return (0\n",
    "            if a > b\n",
    "            else term(a) + _sum(term, _next(a), _next, b))"
   ]
  },
  {
   "cell_type": "code",
   "execution_count": 71,
   "metadata": {
    "scrolled": true
   },
   "outputs": [
    {
     "name": "stdout",
     "output_type": "stream",
     "text": [
      "5050 225\n"
     ]
    }
   ],
   "source": [
    "print(_sum(lambda x: x, 0, lambda x: x+1, 100),   # 计算0到100整数的和\n",
    "      _sum(lambda x: x**3, 0, lambda x: x+1, 5))  # 计算0到5整数的立方和"
   ]
  },
  {
   "cell_type": "markdown",
   "metadata": {},
   "source": [
    "一旦有了```sum```，我们就能用它为基本构件，去**形式化**其他概念。例如，求出函数 $f(x)$ 在范围 $a$ 和 $b$ 之间的定积分的近似值，可以用下面公式（矩形法）完成：\n",
    "$$\\int\\limits_a^b{f(x)dx}=\\left[f\\left(a+\\frac{\\Delta x}{2}\\right)+f\\left(a+\\Delta x+\\frac{\\Delta x}{2}\\right)+\n",
    "f\\left(a+2\\Delta x+\\frac{\\Delta x}{2}\\right)+\\cdots\\right]\\Delta x$$\n",
    "\n",
    "其中 $\\Delta x$ 是一个很小的值。\n",
    "\n",
    "我们可以将这个公式直接写成一个函数："
   ]
  },
  {
   "cell_type": "code",
   "execution_count": 78,
   "metadata": {
    "collapsed": true
   },
   "outputs": [],
   "source": [
    "def integral(f, a, b, delta):\n",
    "    return _sum(f, \n",
    "                a + delta/2,\n",
    "                lambda x: x + delta,\n",
    "                b) * delta"
   ]
  },
  {
   "cell_type": "markdown",
   "metadata": {},
   "source": [
    "用它来计算一下$\\int_0^1{x^2 dx}$的值："
   ]
  },
  {
   "cell_type": "code",
   "execution_count": 84,
   "metadata": {},
   "outputs": [
    {
     "data": {
      "text/plain": [
       "0.33333325000000047"
      ]
     },
     "execution_count": 84,
     "metadata": {},
     "output_type": "execute_result"
    }
   ],
   "source": [
    "integral(lambda x: x**2, 0, 1, 0.001)"
   ]
  },
  {
   "cell_type": "markdown",
   "metadata": {},
   "source": [
    "数学有一种与求和类似的过程，叫做求积：\n",
    "$$\\prod \\limits_{n=a}^b{f(n)}=f(a)\\cdot \\cdots \\cdot f(b)$$\n",
    "\n",
    "我们可以仿照```_sum```，直接写出求积的函数```prod```："
   ]
  },
  {
   "cell_type": "code",
   "execution_count": 85,
   "metadata": {
    "collapsed": true
   },
   "outputs": [],
   "source": [
    "def prod(term, a, _next, b):\n",
    "    return (1\n",
    "            if a > b\n",
    "            else term(a) * prod(term, _next(a), _next, b))"
   ]
  },
  {
   "cell_type": "markdown",
   "metadata": {},
   "source": [
    "用求积函数计算一下 $6!$："
   ]
  },
  {
   "cell_type": "code",
   "execution_count": 86,
   "metadata": {},
   "outputs": [
    {
     "data": {
      "text/plain": [
       "720"
      ]
     },
     "execution_count": 86,
     "metadata": {},
     "output_type": "execute_result"
    }
   ],
   "source": [
    "prod(lambda x: x, 1, lambda x: x+1, 6)"
   ]
  },
  {
   "cell_type": "markdown",
   "metadata": {},
   "source": [
    "可以发现，```_sum```和```proc```的代码仍有许多相同之处——这暗示我们存在一种更为普遍的抽象模式！\n",
    "\n",
    "这种抽象模式，事实上是计算幺半群在群乘法下的累乘。\n",
    "\n",
    "我们将它记为```acculmulate```："
   ]
  },
  {
   "cell_type": "code",
   "execution_count": 23,
   "metadata": {
    "collapsed": true
   },
   "outputs": [],
   "source": [
    "def accumulate(combiner, null_value, term, a, _next, b):\n",
    "    return (null_value\n",
    "            if a > b\n",
    "            else combiner(term(a),\n",
    "                          accumulate(combiner, null_value, term, _next(a), _next, b)))"
   ]
  },
  {
   "cell_type": "code",
   "execution_count": 24,
   "metadata": {},
   "outputs": [
    {
     "data": {
      "text/plain": [
       "720"
      ]
     },
     "execution_count": 24,
     "metadata": {},
     "output_type": "execute_result"
    }
   ],
   "source": [
    "accumulate(lambda x, y: x*y, 1, lambda x: x, 1, lambda x: x+1, 6)"
   ]
  }
 ],
 "metadata": {
  "kernelspec": {
   "display_name": "Python 3",
   "language": "python",
   "name": "python3"
  },
  "language_info": {
   "codemirror_mode": {
    "name": "ipython",
    "version": 3
   },
   "file_extension": ".py",
   "mimetype": "text/x-python",
   "name": "python",
   "nbconvert_exporter": "python",
   "pygments_lexer": "ipython3",
   "version": "3.7.3"
  }
 },
 "nbformat": 4,
 "nbformat_minor": 2
}
